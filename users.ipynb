{
 "cells": [
  {
   "cell_type": "code",
   "execution_count": 34,
   "id": "aec38f44",
   "metadata": {},
   "outputs": [],
   "source": [
    "import pandas as pd\n",
    "from datetime import datetime\n",
    "import bcrypt"
   ]
  },
  {
   "cell_type": "code",
   "execution_count": null,
   "id": "c8188e46",
   "metadata": {},
   "outputs": [],
   "source": [
    "df = pd.read_csv('csv/users.csv', encoding='utf-8')\n",
    "cur = pd.read_csv('out/currency.csv', encoding='utf-8')"
   ]
  },
  {
   "cell_type": "code",
   "execution_count": 5,
   "id": "2860d6d9",
   "metadata": {},
   "outputs": [],
   "source": [
    "df = df.drop(['21.5.2022', 'Profile picture', 'Review1', 'Review2', 'Review3', 'Review4', 'Review5', 'Review6', 'Shutterstock URL', 'Photo ID'], axis = 1)"
   ]
  },
  {
   "cell_type": "code",
   "execution_count": 8,
   "id": "00423fb6",
   "metadata": {},
   "outputs": [],
   "source": [
    "df.rename(columns = {'PUBLIC':'hasPublicProfile', 'Nationality' : 'nationality', \\\n",
    "                    'Age' : 'age', 'Sex' : 'sex', 'About Me' : 'bio', 'Name' : 'firstName', \\\n",
    "                    'Surname' : 'lastName', 'Username' : 'username'}, inplace = True)"
   ]
  },
  {
   "cell_type": "code",
   "execution_count": 35,
   "id": "78966cdc",
   "metadata": {},
   "outputs": [],
   "source": [
    "columns = ['id', 'createdDate', 'updatedDate', 'isActive', 'email', 'hash', 'hasPaswordSaved', \\\n",
    "          'phone', 'statusId', 'defaultLocalityId', 'coverImageId', 'level', 'passwordResetHash', 'passwordResetValid', \\\n",
    "          'searchVector', 'searchConfig', 'defaultCurrencyId', 'tempPass']"
   ]
  },
  {
   "cell_type": "code",
   "execution_count": 36,
   "id": "4234232e",
   "metadata": {},
   "outputs": [],
   "source": [
    "df = pd.concat([df, pd.DataFrame(columns = columns)])"
   ]
  },
  {
   "cell_type": "code",
   "execution_count": 37,
   "id": "4965a0ea",
   "metadata": {},
   "outputs": [],
   "source": [
    "now = datetime.now()\n",
    "dt_string = now.strftime(\"%Y-%m-%d %H:%M:%S\")"
   ]
  },
  {
   "cell_type": "code",
   "execution_count": 38,
   "id": "fee88c32",
   "metadata": {},
   "outputs": [],
   "source": [
    "def set_public_profile(value):\n",
    "    if value == 'ANO':\n",
    "        return True\n",
    "    return False"
   ]
  },
  {
   "cell_type": "code",
   "execution_count": 43,
   "id": "7a2fbfc8",
   "metadata": {},
   "outputs": [],
   "source": [
    "def create_pass(value):\n",
    "    temp = 'Trynego+' + value\n",
    "    bytePwd = temp.encode('utf-8')\n",
    "    mySalt = bcrypt.gensalt()\n",
    "    hash = bcrypt.hashpw(bytePwd, mySalt)\n",
    "    return hash"
   ]
  },
  {
   "cell_type": "code",
   "execution_count": null,
   "id": "d30f1e4d",
   "metadata": {},
   "outputs": [],
   "source": [
    "df['id'] = df.index + 1\n",
    "df['order'] = ''\n",
    "df['createdDate'] = dt_string\n",
    "df['updatedDate'] = dt_string\n",
    "df['hasPublicProfile'] = df['hasPublicProfile'].apply(set_public_profile)\n",
    "df['age'] = df.age.astype(int)\n",
    "df['sex'] = df.sex.str.lower()\n",
    "df['statusId'] = 4\n",
    "df['level'] = 1\n",
    "df['hash'] = df.username.apply(create_pass)"
   ]
  },
  {
   "cell_type": "code",
   "execution_count": null,
   "id": "9249b0e1",
   "metadata": {},
   "outputs": [],
   "source": [
    "df['isActive'] = True\n",
    "df['email'] = df.firstName + '.' + df.lastName + '@trynego.com'"
   ]
  },
  {
   "cell_type": "code",
   "execution_count": null,
   "id": "c3c9aa56",
   "metadata": {},
   "outputs": [],
   "source": [
    "df.head()"
   ]
  },
  {
   "cell_type": "code",
   "execution_count": null,
   "id": "9511a5cd",
   "metadata": {},
   "outputs": [],
   "source": []
  }
 ],
 "metadata": {
  "kernelspec": {
   "display_name": "Python 3 (ipykernel)",
   "language": "python",
   "name": "python3"
  },
  "language_info": {
   "codemirror_mode": {
    "name": "ipython",
    "version": 3
   },
   "file_extension": ".py",
   "mimetype": "text/x-python",
   "name": "python",
   "nbconvert_exporter": "python",
   "pygments_lexer": "ipython3",
   "version": "3.9.7"
  }
 },
 "nbformat": 4,
 "nbformat_minor": 5
}
