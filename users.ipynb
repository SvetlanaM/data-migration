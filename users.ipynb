{
 "cells": [
  {
   "cell_type": "code",
   "execution_count": 90,
   "id": "b15efdde",
   "metadata": {},
   "outputs": [],
   "source": [
    "import pandas as pd\n",
    "from datetime import datetime\n",
    "import bcrypt"
   ]
  },
  {
   "cell_type": "code",
   "execution_count": 91,
   "id": "9dd06c7c",
   "metadata": {},
   "outputs": [],
   "source": [
    "now = datetime.now()\n",
    "dt_string = now.strftime(\"%Y-%m-%d %H:%M:%S\")"
   ]
  },
  {
   "cell_type": "code",
   "execution_count": 92,
   "id": "a25121c0",
   "metadata": {},
   "outputs": [],
   "source": [
    "df = pd.read_csv('csv/users.csv', encoding='utf-8')"
   ]
  },
  {
   "cell_type": "code",
   "execution_count": 101,
   "id": "5d74fe76",
   "metadata": {},
   "outputs": [],
   "source": [
    "df['num_of_reviews'] = df[['Review1', 'Review2', 'Review3', 'Review4', 'Review5']].notnull().sum(axis=1)"
   ]
  },
  {
   "cell_type": "code",
   "execution_count": 102,
   "id": "f4d02172",
   "metadata": {},
   "outputs": [],
   "source": [
    "image = pd.read_csv('out/image.csv', encoding='utf-8')"
   ]
  },
  {
   "cell_type": "code",
   "execution_count": 103,
   "id": "d42d594b",
   "metadata": {},
   "outputs": [],
   "source": [
    "df = df.drop(['21.5.2022', 'Profile picture', 'Review1', 'Review2', 'Review3', 'Review4', 'Review5', 'Review6', 'Shutterstock URL', 'Photo ID'], axis = 1)"
   ]
  },
  {
   "cell_type": "code",
   "execution_count": 104,
   "id": "b92ef8b6",
   "metadata": {},
   "outputs": [],
   "source": [
    "df['Username'] = df['Username'].str.replace('\\n', '')"
   ]
  },
  {
   "cell_type": "code",
   "execution_count": 105,
   "id": "5ac565af",
   "metadata": {},
   "outputs": [],
   "source": [
    "df.rename(columns = {'PUBLIC':'hasPublicProfile', 'Nationality' : 'nationality', \\\n",
    "                    'Age' : 'age', 'Sex' : 'sex', 'About Me' : 'bio', 'Name' : 'firstName', \\\n",
    "                    'Surname' : 'lastName', 'Username' : 'username'}, inplace = True)"
   ]
  },
  {
   "cell_type": "code",
   "execution_count": 106,
   "id": "8d6564e1",
   "metadata": {},
   "outputs": [],
   "source": [
    "columns = ['id', 'createdDate', 'updatedDate', 'isActive', 'email', 'hash', 'hasPaswordSaved', \\\n",
    "          'phone', 'statusId', 'defaultLocalityId', 'coverImageId', 'level', 'passwordResetHash', 'passwordResetValid', \\\n",
    "          'searchVector', 'searchConfig', 'defaultCurrencyId', 'imageId']"
   ]
  },
  {
   "cell_type": "code",
   "execution_count": 75,
   "id": "41a4a76a",
   "metadata": {},
   "outputs": [],
   "source": [
    "df = pd.concat([df, pd.DataFrame(columns = columns)])"
   ]
  },
  {
   "cell_type": "code",
   "execution_count": 76,
   "id": "a7c8e1c0",
   "metadata": {},
   "outputs": [],
   "source": [
    "def set_public_profile(value):\n",
    "    if value == 'ANO':\n",
    "        return True\n",
    "    return False"
   ]
  },
  {
   "cell_type": "code",
   "execution_count": 77,
   "id": "de0e53fb",
   "metadata": {},
   "outputs": [],
   "source": [
    "def create_pass(value):\n",
    "    temp = 'Trynego+' + str(value).lower()\n",
    "    bytePwd = temp.encode('utf-8')\n",
    "    mySalt = bcrypt.gensalt(10)\n",
    "    hash = bcrypt.hashpw(bytePwd, mySalt)\n",
    "    return hash"
   ]
  },
  {
   "cell_type": "code",
   "execution_count": 111,
   "id": "bcb3069a",
   "metadata": {},
   "outputs": [],
   "source": [
    "def get_level_id(value):\n",
    "    temp = int(value) * 2\n",
    "    if temp < 15:\n",
    "        return 1\n",
    "    elif temp < 60:\n",
    "        return 2\n",
    "    elif temp < 250:\n",
    "        return 3\n",
    "    elif temp < 1000:\n",
    "        return 4\n",
    "    elif temp < 3500:\n",
    "        return 5\n",
    "    else:\n",
    "        return 6"
   ]
  },
  {
   "cell_type": "code",
   "execution_count": 112,
   "id": "dfd9f1ce",
   "metadata": {},
   "outputs": [],
   "source": [
    "df['id'] = [i for i in range(1, df.shape[0]+1)]\n",
    "df['order'] = ''\n",
    "df['createdDate'] = dt_string\n",
    "df['updatedDate'] = dt_string\n",
    "df['hasPublicProfile'] = df['hasPublicProfile'].apply(set_public_profile)\n",
    "df['age'] = df.age.astype(int)\n",
    "df['sex'] = df.sex.str.lower()\n",
    "df['statusId'] = 4\n",
    "df['level'] = df['num_of_reviews'].apply(get_level_id)\n",
    "df['defaultCurrencyId'] = 'USD'"
   ]
  },
  {
   "cell_type": "code",
   "execution_count": 79,
   "id": "e797f165",
   "metadata": {},
   "outputs": [],
   "source": [
    "df['hash'] = create_pass('Travelling')"
   ]
  },
  {
   "cell_type": "code",
   "execution_count": 80,
   "id": "bc2f6e19",
   "metadata": {},
   "outputs": [],
   "source": [
    "df['isActive'] = True\n",
    "df['email'] = df.firstName.str.lower() + '.' + df.lastName.str.lower() + '@trynego.com'"
   ]
  },
  {
   "cell_type": "code",
   "execution_count": 81,
   "id": "46f0dabf",
   "metadata": {},
   "outputs": [],
   "source": [
    "def set_image_id(value):\n",
    "    try:\n",
    "        return image[:][image['name'] == str(value)]['id'].values[0]\n",
    "    except:\n",
    "        return ''"
   ]
  },
  {
   "cell_type": "code",
   "execution_count": 82,
   "id": "c709f1b9",
   "metadata": {},
   "outputs": [],
   "source": [
    "df['imageId'] = df['Photo name'].apply(set_image_id)"
   ]
  },
  {
   "cell_type": "code",
   "execution_count": 83,
   "id": "4be784ab",
   "metadata": {},
   "outputs": [],
   "source": [
    "df = df.drop(['Photo name'], axis = 1)"
   ]
  },
  {
   "cell_type": "code",
   "execution_count": 84,
   "id": "463dbd0d",
   "metadata": {},
   "outputs": [],
   "source": [
    "df = df.drop_duplicates(subset='username', keep=\"last\")\n",
    "df = df.drop_duplicates(subset='email', keep=\"last\")"
   ]
  },
  {
   "cell_type": "code",
   "execution_count": 85,
   "id": "1a3f2d97",
   "metadata": {},
   "outputs": [
    {
     "data": {
      "text/plain": [
       "(2445, 28)"
      ]
     },
     "execution_count": 85,
     "metadata": {},
     "output_type": "execute_result"
    }
   ],
   "source": [
    "df.shape"
   ]
  },
  {
   "cell_type": "code",
   "execution_count": 86,
   "id": "1dd9010d",
   "metadata": {},
   "outputs": [],
   "source": [
    "df.at[47,'id'] = 2449"
   ]
  },
  {
   "cell_type": "code",
   "execution_count": 88,
   "id": "94cb0a9e",
   "metadata": {},
   "outputs": [],
   "source": [
    "df.at[df.loc[df['lastName'] == 'Rochette'].index[0], 'username'] = 'Monique Rochette'\n",
    "df.at[df.loc[df['lastName'] == 'Rochette'].index[0], 'new_name'] = '0868MoniqueRochette'"
   ]
  },
  {
   "cell_type": "code",
   "execution_count": 89,
   "id": "9f4b8714",
   "metadata": {},
   "outputs": [],
   "source": [
    "df.to_csv('out/users.csv', index=False, encoding='utf-8')"
   ]
  },
  {
   "cell_type": "code",
   "execution_count": null,
   "id": "25e8a6f8",
   "metadata": {},
   "outputs": [],
   "source": []
  }
 ],
 "metadata": {
  "kernelspec": {
   "display_name": "Python 3 (ipykernel)",
   "language": "python",
   "name": "python3"
  },
  "language_info": {
   "codemirror_mode": {
    "name": "ipython",
    "version": 3
   },
   "file_extension": ".py",
   "mimetype": "text/x-python",
   "name": "python",
   "nbconvert_exporter": "python",
   "pygments_lexer": "ipython3",
   "version": "3.9.7"
  }
 },
 "nbformat": 4,
 "nbformat_minor": 5
}
