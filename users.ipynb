{
 "cells": [
  {
   "cell_type": "code",
   "execution_count": 34,
   "id": "b15efdde",
   "metadata": {},
   "outputs": [],
   "source": [
    "import pandas as pd\n",
    "from datetime import datetime\n",
    "import bcrypt"
   ]
  },
  {
   "cell_type": "code",
   "execution_count": 50,
   "id": "a25121c0",
   "metadata": {},
   "outputs": [],
   "source": [
    "df = pd.read_csv('csv/users.csv', encoding='utf-8')"
   ]
  },
  {
   "cell_type": "code",
   "execution_count": 64,
   "id": "f4d02172",
   "metadata": {},
   "outputs": [],
   "source": [
    "image = pd.read_csv('out/image.csv', encoding='utf-8')"
   ]
  },
  {
   "cell_type": "code",
   "execution_count": 51,
   "id": "d42d594b",
   "metadata": {},
   "outputs": [],
   "source": [
    "df = df.drop(['21.5.2022', 'Profile picture', 'Review1', 'Review2', 'Review3', 'Review4', 'Review5', 'Review6', 'Shutterstock URL', 'Photo ID'], axis = 1)"
   ]
  },
  {
   "cell_type": "code",
   "execution_count": 52,
   "id": "5ac565af",
   "metadata": {},
   "outputs": [],
   "source": [
    "df.rename(columns = {'PUBLIC':'hasPublicProfile', 'Nationality' : 'nationality', \\\n",
    "                    'Age' : 'age', 'Sex' : 'sex', 'About Me' : 'bio', 'Name' : 'firstName', \\\n",
    "                    'Surname' : 'lastName', 'Username' : 'username'}, inplace = True)"
   ]
  },
  {
   "cell_type": "code",
   "execution_count": 86,
   "id": "8d6564e1",
   "metadata": {},
   "outputs": [],
   "source": [
    "columns = ['id', 'createdDate', 'updatedDate', 'isActive', 'email', 'hash', 'hasPaswordSaved', \\\n",
    "          'phone', 'statusId', 'defaultLocalityId', 'coverImageId', 'level', 'passwordResetHash', 'passwordResetValid', \\\n",
    "          'searchVector', 'searchConfig', 'defaultCurrencyId', 'imageId']"
   ]
  },
  {
   "cell_type": "code",
   "execution_count": 54,
   "id": "41a4a76a",
   "metadata": {},
   "outputs": [],
   "source": [
    "df = pd.concat([df, pd.DataFrame(columns = columns)])"
   ]
  },
  {
   "cell_type": "code",
   "execution_count": 55,
   "id": "9dd06c7c",
   "metadata": {},
   "outputs": [],
   "source": [
    "now = datetime.now()\n",
    "dt_string = now.strftime(\"%Y-%m-%d %H:%M:%S\")"
   ]
  },
  {
   "cell_type": "code",
   "execution_count": 56,
   "id": "a7c8e1c0",
   "metadata": {},
   "outputs": [],
   "source": [
    "def set_public_profile(value):\n",
    "    if value == 'ANO':\n",
    "        return True\n",
    "    return False"
   ]
  },
  {
   "cell_type": "code",
   "execution_count": 62,
   "id": "de0e53fb",
   "metadata": {},
   "outputs": [],
   "source": [
    "def create_pass(value):\n",
    "    temp = 'Trynego+' + value\n",
    "    bytePwd = temp.encode('utf-8')\n",
    "    mySalt = bcrypt.gensalt()\n",
    "    hash = bcrypt.hashpw(bytePwd, mySalt)\n",
    "    return hash"
   ]
  },
  {
   "cell_type": "code",
   "execution_count": 61,
   "id": "dfd9f1ce",
   "metadata": {},
   "outputs": [],
   "source": [
    "df['id'] = df.index + 1\n",
    "df['order'] = ''\n",
    "df['createdDate'] = dt_string\n",
    "df['updatedDate'] = dt_string\n",
    "df['hasPublicProfile'] = df['hasPublicProfile'].apply(set_public_profile)\n",
    "df['age'] = df.age.astype(int)\n",
    "df['sex'] = df.sex.str.lower()\n",
    "df['statusId'] = 4\n",
    "df['level'] = 1"
   ]
  },
  {
   "cell_type": "code",
   "execution_count": 108,
   "id": "e797f165",
   "metadata": {},
   "outputs": [],
   "source": [
    "df['hash'] = df.username.apply(create_pass)"
   ]
  },
  {
   "cell_type": "code",
   "execution_count": 59,
   "id": "bc2f6e19",
   "metadata": {},
   "outputs": [],
   "source": [
    "df['isActive'] = True\n",
    "df['email'] = df.firstName + '.' + df.lastName + '@trynego.com'"
   ]
  },
  {
   "cell_type": "code",
   "execution_count": 100,
   "id": "46f0dabf",
   "metadata": {},
   "outputs": [],
   "source": [
    "def set_image_id(value):\n",
    "    try:\n",
    "        return image[:][image['name'] == str(value)]['id'].values[0]\n",
    "    except:\n",
    "        return ''"
   ]
  },
  {
   "cell_type": "code",
   "execution_count": 102,
   "id": "c709f1b9",
   "metadata": {},
   "outputs": [],
   "source": [
    "df['imageId'] = df['Photo name'].apply(set_image_id)"
   ]
  },
  {
   "cell_type": "code",
   "execution_count": 107,
   "id": "4be784ab",
   "metadata": {},
   "outputs": [],
   "source": [
    "df = df.drop(['Photo name'], axis = 1)"
   ]
  },
  {
   "cell_type": "code",
   "execution_count": 109,
   "id": "9f4b8714",
   "metadata": {},
   "outputs": [],
   "source": [
    "df.to_csv('out/users.csv', index=False, encoding='utf-8')"
   ]
  }
 ],
 "metadata": {
  "kernelspec": {
   "display_name": "Python 3 (ipykernel)",
   "language": "python",
   "name": "python3"
  },
  "language_info": {
   "codemirror_mode": {
    "name": "ipython",
    "version": 3
   },
   "file_extension": ".py",
   "mimetype": "text/x-python",
   "name": "python",
   "nbconvert_exporter": "python",
   "pygments_lexer": "ipython3",
   "version": "3.9.7"
  }
 },
 "nbformat": 4,
 "nbformat_minor": 5
}
