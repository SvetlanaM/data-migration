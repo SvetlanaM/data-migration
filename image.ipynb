{
 "cells": [
  {
   "cell_type": "code",
   "execution_count": 602,
   "id": "7954bcd0",
   "metadata": {},
   "outputs": [],
   "source": [
    "from boto3 import session\n",
    "from botocore.client import Config\n",
    "from decouple import config\n",
    "from dotenv import load_dotenv\n",
    "import os\n",
    "import pandas as pd\n",
    "from datetime import datetime\n",
    "from collections import ChainMap\n",
    "import re"
   ]
  },
  {
   "cell_type": "code",
   "execution_count": 603,
   "id": "0eaaaeae",
   "metadata": {},
   "outputs": [
    {
     "data": {
      "text/plain": [
       "True"
      ]
     },
     "execution_count": 603,
     "metadata": {},
     "output_type": "execute_result"
    }
   ],
   "source": [
    "load_dotenv()"
   ]
  },
  {
   "cell_type": "code",
   "execution_count": 604,
   "id": "2da67676",
   "metadata": {},
   "outputs": [],
   "source": [
    "now = datetime.now()\n",
    "dt_string = now.strftime(\"%Y-%m-%d %H:%M:%S\")"
   ]
  },
  {
   "cell_type": "code",
   "execution_count": 605,
   "id": "a041b621",
   "metadata": {},
   "outputs": [],
   "source": [
    "users = pd.read_csv('csv/users.csv')\n",
    "products = pd.read_csv('csv/products.csv')\n",
    "localities = pd.read_csv('out/localities.csv', delimiter=';')"
   ]
  },
  {
   "cell_type": "code",
   "execution_count": 606,
   "id": "665ad641",
   "metadata": {},
   "outputs": [],
   "source": [
    "usersDf = users[['Profile picture', 'Photo name', 'Username']]"
   ]
  },
  {
   "cell_type": "code",
   "execution_count": 607,
   "id": "c5567eab",
   "metadata": {},
   "outputs": [],
   "source": [
    "def new_photo_name(value):\n",
    "    return str(value[1])[-4:] + str(value[2])"
   ]
  },
  {
   "cell_type": "code",
   "execution_count": 608,
   "id": "e09503b2",
   "metadata": {},
   "outputs": [],
   "source": [
    "users['new_name'] = usersDf.apply(new_photo_name,  axis = 1)"
   ]
  },
  {
   "cell_type": "code",
   "execution_count": 609,
   "id": "d8d09ee8",
   "metadata": {},
   "outputs": [],
   "source": [
    "API_ACCESS_ID = config('ACCESS_ID')\n",
    "API_SECRET_KEY = config('SECRET_KEY')\n",
    "AWS_ENDPOINT = config('AWS_ENDPOINT')\n",
    "AWS_CDN = config('AWS_CDN')\n",
    "FULL_URL = config('FULL_URL')"
   ]
  },
  {
   "cell_type": "code",
   "execution_count": 610,
   "id": "829c0ca4",
   "metadata": {},
   "outputs": [],
   "source": [
    "session = session.Session()"
   ]
  },
  {
   "cell_type": "code",
   "execution_count": 611,
   "id": "f1f9536e",
   "metadata": {},
   "outputs": [],
   "source": [
    "client = session.client('s3',\n",
    "                        endpoint_url=AWS_ENDPOINT,\n",
    "                        aws_access_key_id=API_ACCESS_ID,\n",
    "                        aws_secret_access_key=API_SECRET_KEY)"
   ]
  },
  {
   "cell_type": "code",
   "execution_count": 612,
   "id": "dec0491d",
   "metadata": {},
   "outputs": [],
   "source": [
    "def rename_image(name, ext = 'webp'):\n",
    "    for index, data in enumerate(temp_list):\n",
    "        if temp_list[index].get('Photo name') == str(name):\n",
    "            return [temp_list[index].get('new_name'), ext]\n",
    "        \n",
    "    return [name, ext]"
   ]
  },
  {
   "cell_type": "code",
   "execution_count": 614,
   "id": "146655a1",
   "metadata": {},
   "outputs": [],
   "source": [
    "for index, image in enumerate(os.listdir(\"users\")):\n",
    "    name, ext = os.path.splitext(image)\n",
    "    new_image = rename_image(name, ext)\n",
    "    for i, j in enumerate(usersDf['Photo name']):\n",
    "        if str(name) in str(j).lower():\n",
    "            if usersDf['Profile picture'].iloc[i] == 'ANO':\n",
    "                if new_image is not None:\n",
    "                    client.upload_file(\n",
    "                        'users/'+image, AWS_CDN, new_image[0]+new_image[1],\n",
    "                        ExtraArgs={'ACL': 'public-read', 'ContentType': 'image/webp'}\n",
    "                    )"
   ]
  },
  {
   "cell_type": "code",
   "execution_count": 639,
   "id": "fe980f4a",
   "metadata": {},
   "outputs": [],
   "source": [
    "for index, image in enumerate(os.listdir(\"images\")):\n",
    "    name, ext = os.path.splitext(image) \n",
    "    new_image = rename_image(name, ext)\n",
    "    if new_image is not None:\n",
    "            client.upload_file(\n",
    "                'images/'+image, AWS_CDN, new_image[0]+new_image[1],\n",
    "                ExtraArgs={'ACL': 'public-read', 'ContentType': 'image/webp'}\n",
    "            )"
   ]
  },
  {
   "cell_type": "code",
   "execution_count": 640,
   "id": "9ad3f1e2",
   "metadata": {},
   "outputs": [],
   "source": [
    "df = pd.DataFrame(columns = columns)"
   ]
  },
  {
   "cell_type": "code",
   "execution_count": 641,
   "id": "0f86a48b",
   "metadata": {},
   "outputs": [],
   "source": [
    "empty = []"
   ]
  },
  {
   "cell_type": "code",
   "execution_count": 642,
   "id": "406d704b",
   "metadata": {},
   "outputs": [],
   "source": [
    "def get(path):\n",
    "    for index, file in enumerate(os.listdir(path)):\n",
    "        name, ext = os.path.splitext(file)\n",
    "        if path == 'users':\n",
    "            for i, j in enumerate(usersDf['Photo name']):\n",
    "                if str(name) in str(j).lower():\n",
    "                    if usersDf['Profile picture'].iloc[i] == 'ANO':\n",
    "                        empty.append(name)\n",
    "        else:\n",
    "            empty.append(name)"
   ]
  },
  {
   "cell_type": "code",
   "execution_count": 643,
   "id": "93b7b122",
   "metadata": {},
   "outputs": [],
   "source": [
    "get(\"users\")\n",
    "get(\"images\")"
   ]
  },
  {
   "cell_type": "code",
   "execution_count": 644,
   "id": "da024530",
   "metadata": {},
   "outputs": [],
   "source": [
    "df = pd.DataFrame(data = empty)"
   ]
  },
  {
   "cell_type": "code",
   "execution_count": 645,
   "id": "79934617",
   "metadata": {},
   "outputs": [],
   "source": [
    "columns = ['id', 'createdDate', 'updatedDate', 'url', 'localityId', 'productId', 'storyId', \\\n",
    "          'mime', 'order', 'creatorId', 'statusId', 'blogPostSectionId']"
   ]
  },
  {
   "cell_type": "code",
   "execution_count": 646,
   "id": "957993f7",
   "metadata": {},
   "outputs": [],
   "source": [
    "df = pd.concat([df, pd.DataFrame(columns = columns)])"
   ]
  },
  {
   "cell_type": "code",
   "execution_count": 647,
   "id": "bcd01c5d",
   "metadata": {},
   "outputs": [],
   "source": [
    "df.rename(columns = {0:'name'}, inplace = True)"
   ]
  },
  {
   "cell_type": "code",
   "execution_count": 648,
   "id": "8bcca6c7",
   "metadata": {},
   "outputs": [],
   "source": [
    "def set_url(value):\n",
    "    return FULL_URL + value + '.webp'"
   ]
  },
  {
   "cell_type": "code",
   "execution_count": 649,
   "id": "761590c8",
   "metadata": {},
   "outputs": [],
   "source": [
    "df['id'] = [i for i in range(1, df.shape[0]+1)]\n",
    "df['createdDate'] = dt_string\n",
    "df['updatedDate'] = dt_string\n",
    "df['localityId'] = ''\n",
    "df['productId'] = ''\n",
    "df['storyId'] = ''\n",
    "df['order'] = ''\n",
    "df['creatorId'] = ''\n",
    "df['statusId'] = 4\n",
    "df['blogPostSectionId'] = ''\n",
    "df['mime'] = 'image/webp'\n",
    "df['new_name'] = df['name'].apply(rename_image)\n",
    "df['new_name'] = df['new_name'].str[0]\n",
    "df['url'] = df['new_name'].apply(set_url)"
   ]
  },
  {
   "cell_type": "code",
   "execution_count": 650,
   "id": "cb22193e",
   "metadata": {},
   "outputs": [],
   "source": [
    "pd.set_option('display.max_rows', None)\n",
    "pd.set_option('display.max_columns', None)\n",
    "pd.set_option('display.width', None)"
   ]
  },
  {
   "cell_type": "code",
   "execution_count": 651,
   "id": "ba6bbcf6",
   "metadata": {},
   "outputs": [],
   "source": [
    "df = df[:][df['name'] != '.DS_Store']"
   ]
  },
  {
   "cell_type": "code",
   "execution_count": 652,
   "id": "1324af3d",
   "metadata": {},
   "outputs": [],
   "source": [
    "def get_product_id(value):\n",
    "    if \"product\" in str(value):\n",
    "        try:\n",
    "            return int(re.search(r\"\\d\", value).group())\n",
    "        except:\n",
    "            pass\n",
    "    else:\n",
    "        return ''\n",
    "        \n",
    "df['productId'] = df['new_name'].apply(get_product_id)"
   ]
  },
  {
   "cell_type": "code",
   "execution_count": 653,
   "id": "67a7a526",
   "metadata": {},
   "outputs": [],
   "source": [
    "def get_locality_id(value):\n",
    "    for i, j in enumerate(localities['name']):\n",
    "        if str(value) in str(j).lower():\n",
    "            return localities['id'].iloc[i]\n",
    "    \n",
    "    return ''\n",
    "        \n",
    "df['localityId'] = df['name'].apply(get_locality_id)"
   ]
  },
  {
   "cell_type": "code",
   "execution_count": 657,
   "id": "eb9a21c1",
   "metadata": {},
   "outputs": [
    {
     "data": {
      "text/plain": [
       "(4536, 14)"
      ]
     },
     "execution_count": 657,
     "metadata": {},
     "output_type": "execute_result"
    }
   ],
   "source": [
    "df.shape"
   ]
  },
  {
   "cell_type": "code",
   "execution_count": 658,
   "id": "3649b250",
   "metadata": {},
   "outputs": [],
   "source": [
    "df.to_csv('out/image.csv', index=False, encoding='utf-8')\n",
    "users.to_csv('csv/users.csv', index=False, encoding='utf-8')"
   ]
  },
  {
   "cell_type": "code",
   "execution_count": null,
   "id": "65e349c4",
   "metadata": {},
   "outputs": [],
   "source": []
  }
 ],
 "metadata": {
  "kernelspec": {
   "display_name": "Python 3 (ipykernel)",
   "language": "python",
   "name": "python3"
  },
  "language_info": {
   "codemirror_mode": {
    "name": "ipython",
    "version": 3
   },
   "file_extension": ".py",
   "mimetype": "text/x-python",
   "name": "python",
   "nbconvert_exporter": "python",
   "pygments_lexer": "ipython3",
   "version": "3.9.7"
  }
 },
 "nbformat": 4,
 "nbformat_minor": 5
}
