{
 "cells": [
  {
   "cell_type": "code",
   "execution_count": 69,
   "id": "1e4c7d7f",
   "metadata": {},
   "outputs": [],
   "source": [
    "from boto3 import session\n",
    "from botocore.client import Config\n",
    "from decouple import config\n",
    "from dotenv import load_dotenv"
   ]
  },
  {
   "cell_type": "code",
   "execution_count": 75,
   "id": "f33c5571",
   "metadata": {},
   "outputs": [
    {
     "data": {
      "text/plain": [
       "True"
      ]
     },
     "execution_count": 75,
     "metadata": {},
     "output_type": "execute_result"
    }
   ],
   "source": [
    "load_dotenv()"
   ]
  },
  {
   "cell_type": "code",
   "execution_count": 76,
   "id": "ec923d09",
   "metadata": {},
   "outputs": [],
   "source": [
    "API_ACCESS_ID = config('ACCESS_ID')\n",
    "API_SECRET_KEY = config('SECRET_KEY')\n",
    "AWS_ENDPOINT = config('AWS_ENDPOINT')\n",
    "AWS_CDN = config('AWS_CDN')"
   ]
  },
  {
   "cell_type": "code",
   "execution_count": 77,
   "id": "4782f13d",
   "metadata": {},
   "outputs": [],
   "source": [
    "session = session.Session()"
   ]
  },
  {
   "cell_type": "code",
   "execution_count": 78,
   "id": "a117db44",
   "metadata": {},
   "outputs": [],
   "source": [
    "client = session.client('s3',\n",
    "                        endpoint_url=AWS_ENDPOINT,\n",
    "                        aws_access_key_id=API_ACCESS_ID,\n",
    "                        aws_secret_access_key=API_SECRET_KEY)"
   ]
  },
  {
   "cell_type": "code",
   "execution_count": 79,
   "id": "4af42f20",
   "metadata": {},
   "outputs": [],
   "source": [
    "client.upload_file(\n",
    "    '06.png', AWS_CDN, '06.png',\n",
    "    ExtraArgs={'ACL': 'public-read', 'ContentType': 'image/png'}\n",
    ")"
   ]
  }
 ],
 "metadata": {
  "kernelspec": {
   "display_name": "Python 3 (ipykernel)",
   "language": "python",
   "name": "python3"
  },
  "language_info": {
   "codemirror_mode": {
    "name": "ipython",
    "version": 3
   },
   "file_extension": ".py",
   "mimetype": "text/x-python",
   "name": "python",
   "nbconvert_exporter": "python",
   "pygments_lexer": "ipython3",
   "version": "3.9.7"
  }
 },
 "nbformat": 4,
 "nbformat_minor": 5
}
