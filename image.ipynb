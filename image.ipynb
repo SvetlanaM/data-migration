{
 "cells": [
  {
   "cell_type": "code",
   "execution_count": 7,
   "id": "7954bcd0",
   "metadata": {},
   "outputs": [],
   "source": [
    "from boto3 import session\n",
    "from botocore.client import Config\n",
    "from decouple import config\n",
    "from dotenv import load_dotenv\n",
    "import os\n",
    "import pandas as pd\n",
    "from datetime import datetime\n",
    "from collections import ChainMap\n",
    "import re"
   ]
  },
  {
   "cell_type": "code",
   "execution_count": 8,
   "id": "0eaaaeae",
   "metadata": {},
   "outputs": [
    {
     "data": {
      "text/plain": [
       "True"
      ]
     },
     "execution_count": 8,
     "metadata": {},
     "output_type": "execute_result"
    }
   ],
   "source": [
    "load_dotenv()"
   ]
  },
  {
   "cell_type": "code",
   "execution_count": 38,
   "id": "0037fb7d",
   "metadata": {},
   "outputs": [],
   "source": [
    "pd.set_option('display.max_rows', None)\n",
    "pd.set_option('display.max_columns', None)\n",
    "pd.set_option('display.width', None)\n",
    "pd.set_option('display.max_colwidth', None)"
   ]
  },
  {
   "cell_type": "code",
   "execution_count": 9,
   "id": "2da67676",
   "metadata": {},
   "outputs": [],
   "source": [
    "now = datetime.now()\n",
    "dt_string = now.strftime(\"%Y-%m-%d %H:%M:%S\")"
   ]
  },
  {
   "cell_type": "code",
   "execution_count": 10,
   "id": "a041b621",
   "metadata": {},
   "outputs": [],
   "source": [
    "users = pd.read_csv('csv/users.csv')\n",
    "products = pd.read_csv('csv/products.csv', delimiter=';')\n",
    "localities = pd.read_csv('out/localities.csv')"
   ]
  },
  {
   "cell_type": "code",
   "execution_count": 11,
   "id": "665ad641",
   "metadata": {},
   "outputs": [],
   "source": [
    "usersDf = users[['Profile picture', 'Photo name', 'Username']]"
   ]
  },
  {
   "cell_type": "code",
   "execution_count": 12,
   "id": "c5567eab",
   "metadata": {},
   "outputs": [],
   "source": [
    "def new_photo_name(value):\n",
    "    return str(value[1])[-4:] + str(value[2])"
   ]
  },
  {
   "cell_type": "code",
   "execution_count": 13,
   "id": "e09503b2",
   "metadata": {},
   "outputs": [],
   "source": [
    "users['new_name'] = usersDf.apply(new_photo_name,  axis = 1)"
   ]
  },
  {
   "cell_type": "code",
   "execution_count": 14,
   "id": "d8d09ee8",
   "metadata": {},
   "outputs": [],
   "source": [
    "API_ACCESS_ID = config('ACCESS_ID')\n",
    "API_SECRET_KEY = config('SECRET_KEY')\n",
    "AWS_ENDPOINT = config('AWS_ENDPOINT')\n",
    "AWS_CDN = config('AWS_CDN')\n",
    "FULL_URL = config('FULL_URL')"
   ]
  },
  {
   "cell_type": "code",
   "execution_count": 15,
   "id": "829c0ca4",
   "metadata": {},
   "outputs": [],
   "source": [
    "session = session.Session()"
   ]
  },
  {
   "cell_type": "code",
   "execution_count": 16,
   "id": "f1f9536e",
   "metadata": {},
   "outputs": [],
   "source": [
    "client = session.client('s3',\n",
    "                        endpoint_url=AWS_ENDPOINT,\n",
    "                        aws_access_key_id=API_ACCESS_ID,\n",
    "                        aws_secret_access_key=API_SECRET_KEY)"
   ]
  },
  {
   "cell_type": "code",
   "execution_count": 17,
   "id": "dec0491d",
   "metadata": {},
   "outputs": [],
   "source": [
    "def rename_image(name, ext = 'webp'):\n",
    "    if 'region' not in name or 'product' not in name:\n",
    "        for index, data in users.iterrows():\n",
    "            if users['Photo name'].iloc[index] == str(name):\n",
    "                return [users['new_name'].iloc[index], ext]\n",
    "        \n",
    "    return [name, ext]"
   ]
  },
  {
   "cell_type": "code",
   "execution_count": 81,
   "id": "146655a1",
   "metadata": {},
   "outputs": [],
   "source": [
    "for index, image in enumerate(os.listdir(\"users\")):\n",
    "    name, ext = os.path.splitext(image)\n",
    "    new_image = rename_image(name, ext)\n",
    "    for i, j in enumerate(usersDf['Photo name']):\n",
    "        if str(name) in str(j).lower():\n",
    "            if usersDf['Profile picture'].iloc[i] == 'ANO':\n",
    "                if new_image is not None:\n",
    "                    client.upload_file(\n",
    "                        'users/'+image, AWS_CDN, new_image[0]+new_image[1],\n",
    "                        ExtraArgs={'ACL': 'public-read', 'ContentType': 'image/webp'}\n",
    "                    )"
   ]
  },
  {
   "cell_type": "code",
   "execution_count": 82,
   "id": "fe980f4a",
   "metadata": {},
   "outputs": [],
   "source": [
    "for index, image in enumerate(os.listdir(\"images\")):\n",
    "    name, ext = os.path.splitext(image) \n",
    "    new_image = rename_image(name, ext)\n",
    "    if new_image is not None:\n",
    "            client.upload_file(\n",
    "                'images/'+image, AWS_CDN, new_image[0]+new_image[1],\n",
    "                ExtraArgs={'ACL': 'public-read', 'ContentType': 'image/webp'}\n",
    "            )"
   ]
  },
  {
   "cell_type": "code",
   "execution_count": 18,
   "id": "79934617",
   "metadata": {},
   "outputs": [],
   "source": [
    "columns = ['id', 'createdDate', 'updatedDate', 'url', 'localityId', 'productId', 'storyId', \\\n",
    "          'mime', 'order', 'creatorId', 'statusId', 'blogPostSectionId']"
   ]
  },
  {
   "cell_type": "code",
   "execution_count": 19,
   "id": "9ad3f1e2",
   "metadata": {},
   "outputs": [],
   "source": [
    "df = pd.DataFrame(columns = columns)"
   ]
  },
  {
   "cell_type": "code",
   "execution_count": 20,
   "id": "0f86a48b",
   "metadata": {},
   "outputs": [],
   "source": [
    "empty = []"
   ]
  },
  {
   "cell_type": "code",
   "execution_count": 21,
   "id": "406d704b",
   "metadata": {},
   "outputs": [],
   "source": [
    "def get(path):\n",
    "    for index, file in enumerate(os.listdir(path)):\n",
    "        name, ext = os.path.splitext(file)\n",
    "        if path == 'users':\n",
    "            for i, j in enumerate(usersDf['Photo name']):\n",
    "                if str(name) in str(j).lower():\n",
    "                    if usersDf['Profile picture'].iloc[i] == 'ANO':\n",
    "                        empty.append(name)\n",
    "        else:\n",
    "            empty.append(name)"
   ]
  },
  {
   "cell_type": "code",
   "execution_count": 22,
   "id": "93b7b122",
   "metadata": {},
   "outputs": [],
   "source": [
    "get(\"users\")\n",
    "get(\"images\")"
   ]
  },
  {
   "cell_type": "code",
   "execution_count": 23,
   "id": "da024530",
   "metadata": {},
   "outputs": [],
   "source": [
    "df = pd.DataFrame(data = empty)"
   ]
  },
  {
   "cell_type": "code",
   "execution_count": 24,
   "id": "957993f7",
   "metadata": {},
   "outputs": [],
   "source": [
    "df = pd.concat([df, pd.DataFrame(columns = columns)])"
   ]
  },
  {
   "cell_type": "code",
   "execution_count": 25,
   "id": "bcd01c5d",
   "metadata": {},
   "outputs": [],
   "source": [
    "df.rename(columns = {0:'name'}, inplace = True)"
   ]
  },
  {
   "cell_type": "code",
   "execution_count": 26,
   "id": "8bcca6c7",
   "metadata": {},
   "outputs": [],
   "source": [
    "def set_url(value):\n",
    "    return FULL_URL + value + '.webp'"
   ]
  },
  {
   "cell_type": "code",
   "execution_count": 27,
   "id": "761590c8",
   "metadata": {},
   "outputs": [],
   "source": [
    "df['id'] = [i for i in range(1, df.shape[0]+1)]\n",
    "df['createdDate'] = dt_string\n",
    "df['updatedDate'] = dt_string\n",
    "df['localityId'] = ''\n",
    "df['productId'] = ''\n",
    "df['storyId'] = ''\n",
    "df['order'] = ''\n",
    "df['creatorId'] = ''\n",
    "df['statusId'] = 4\n",
    "df['blogPostSectionId'] = ''\n",
    "df['mime'] = 'image/webp'\n",
    "df['new_name'] = df['name'].apply(rename_image)\n",
    "df['new_name'] = df['new_name'].str[0]\n",
    "df['url'] = df['new_name'].apply(set_url)"
   ]
  },
  {
   "cell_type": "code",
   "execution_count": 28,
   "id": "cb22193e",
   "metadata": {},
   "outputs": [],
   "source": [
    "pd.set_option('display.max_rows', None)\n",
    "pd.set_option('display.max_columns', None)\n",
    "pd.set_option('display.width', None)"
   ]
  },
  {
   "cell_type": "code",
   "execution_count": 29,
   "id": "ba6bbcf6",
   "metadata": {},
   "outputs": [],
   "source": [
    "df = df[:][df['name'] != '.DS_Store']"
   ]
  },
  {
   "cell_type": "code",
   "execution_count": 30,
   "id": "1324af3d",
   "metadata": {},
   "outputs": [],
   "source": [
    "def get_product_id(value):\n",
    "    if \"product\" in str(value):\n",
    "        try:\n",
    "            return int(re.search(r\"\\d\", value).group())\n",
    "        except:\n",
    "            pass\n",
    "    else:\n",
    "        return ''\n",
    "        \n",
    "df['productId'] = df['name'].apply(get_product_id)"
   ]
  },
  {
   "cell_type": "code",
   "execution_count": 31,
   "id": "67a7a526",
   "metadata": {},
   "outputs": [],
   "source": [
    "def get_locality_id(value):\n",
    "    if \"region\" in str(value):\n",
    "        for index, data in localities.iterrows():\n",
    "            if localities['photoName'].iloc[index].lower().replace(' ', '_') == str(value).replace('region_', ''):\n",
    "                return localities['id'].iloc[index]\n",
    "        \n",
    "df['localityId'] = df['name'].apply(get_locality_id)"
   ]
  },
  {
   "cell_type": "code",
   "execution_count": 32,
   "id": "3649b250",
   "metadata": {},
   "outputs": [],
   "source": [
    "df.to_csv('out/image.csv', index=False, encoding='utf-8')\n",
    "users.to_csv('csv/users.csv', index=False, encoding='utf-8')"
   ]
  },
  {
   "cell_type": "code",
   "execution_count": 33,
   "id": "ef9bddf9",
   "metadata": {},
   "outputs": [
    {
     "data": {
      "text/plain": [
       "(4583, 14)"
      ]
     },
     "execution_count": 33,
     "metadata": {},
     "output_type": "execute_result"
    }
   ],
   "source": [
    "df.shape"
   ]
  },
  {
   "cell_type": "code",
   "execution_count": 42,
   "id": "1db7f3b7",
   "metadata": {},
   "outputs": [
    {
     "data": {
      "text/html": [
       "<div>\n",
       "<style scoped>\n",
       "    .dataframe tbody tr th:only-of-type {\n",
       "        vertical-align: middle;\n",
       "    }\n",
       "\n",
       "    .dataframe tbody tr th {\n",
       "        vertical-align: top;\n",
       "    }\n",
       "\n",
       "    .dataframe thead th {\n",
       "        text-align: right;\n",
       "    }\n",
       "</style>\n",
       "<table border=\"1\" class=\"dataframe\">\n",
       "  <thead>\n",
       "    <tr style=\"text-align: right;\">\n",
       "      <th></th>\n",
       "      <th>name</th>\n",
       "      <th>url</th>\n",
       "      <th>new_name</th>\n",
       "    </tr>\n",
       "  </thead>\n",
       "  <tbody>\n",
       "    <tr>\n",
       "      <th>417</th>\n",
       "      <td>1808_698607097</td>\n",
       "      <td>https://trynego-cdn.ams3.digitaloceanspaces.com/7097YvesStef.webp</td>\n",
       "      <td>7097YvesStef</td>\n",
       "    </tr>\n",
       "  </tbody>\n",
       "</table>\n",
       "</div>"
      ],
      "text/plain": [
       "               name  \\\n",
       "417  1808_698607097   \n",
       "\n",
       "                                                                   url  \\\n",
       "417  https://trynego-cdn.ams3.digitaloceanspaces.com/7097YvesStef.webp   \n",
       "\n",
       "         new_name  \n",
       "417  7097YvesStef  "
      ]
     },
     "execution_count": 42,
     "metadata": {},
     "output_type": "execute_result"
    }
   ],
   "source": [
    "df[['name', 'url', 'new_name']][df['name'] == '1808_698607097']"
   ]
  },
  {
   "cell_type": "code",
   "execution_count": null,
   "id": "fd49f25d",
   "metadata": {},
   "outputs": [],
   "source": []
  }
 ],
 "metadata": {
  "kernelspec": {
   "display_name": "Python 3 (ipykernel)",
   "language": "python",
   "name": "python3"
  },
  "language_info": {
   "codemirror_mode": {
    "name": "ipython",
    "version": 3
   },
   "file_extension": ".py",
   "mimetype": "text/x-python",
   "name": "python",
   "nbconvert_exporter": "python",
   "pygments_lexer": "ipython3",
   "version": "3.9.7"
  }
 },
 "nbformat": 4,
 "nbformat_minor": 5
}
