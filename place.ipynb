{
 "cells": [
  {
   "cell_type": "code",
   "execution_count": 43,
   "id": "669613e5",
   "metadata": {},
   "outputs": [],
   "source": [
    "import pandas as pd"
   ]
  },
  {
   "cell_type": "code",
   "execution_count": 44,
   "id": "83e498ed",
   "metadata": {},
   "outputs": [],
   "source": [
    "df = pd.read_csv(\"csv/products.csv\", encoding='utf-8')"
   ]
  },
  {
   "cell_type": "code",
   "execution_count": 45,
   "id": "92b76c72",
   "metadata": {},
   "outputs": [],
   "source": [
    "columns = ['id', 'label', 'latitude', 'longitude']"
   ]
  },
  {
   "cell_type": "code",
   "execution_count": 46,
   "id": "15706878",
   "metadata": {},
   "outputs": [],
   "source": [
    "newDf = pd.concat([newDf, pd.DataFrame(columns = columns)])"
   ]
  },
  {
   "cell_type": "code",
   "execution_count": 47,
   "id": "02ba6b9e",
   "metadata": {},
   "outputs": [],
   "source": [
    "def get_lat(value):\n",
    "    try:\n",
    "        return value.split(',')[0]\n",
    "    except:\n",
    "        pass"
   ]
  },
  {
   "cell_type": "code",
   "execution_count": 48,
   "id": "a07180dc",
   "metadata": {},
   "outputs": [],
   "source": [
    "def get_lot(value):\n",
    "    try:\n",
    "        return value.split(',')[1]\n",
    "    except:\n",
    "        pass"
   ]
  },
  {
   "cell_type": "code",
   "execution_count": 50,
   "id": "d75aea96",
   "metadata": {},
   "outputs": [],
   "source": [
    "newDf['id'] = [i for i in range(1, newDf.shape[0]+1)]\n",
    "newDf['latitude'] = df['Coordinates'].apply(get_lat)\n",
    "newDf['longitude'] = df['Coordinates'].apply(get_lot)\n",
    "newDf['label'] = 'import_label'\n",
    "newDf['CoordId'] = df['ID']"
   ]
  },
  {
   "cell_type": "code",
   "execution_count": 53,
   "id": "a1ea5a5c",
   "metadata": {},
   "outputs": [],
   "source": [
    "newDf.to_csv('out/place.csv', index=False, encoding='utf-8')"
   ]
  },
  {
   "cell_type": "code",
   "execution_count": null,
   "id": "88bfbf50",
   "metadata": {},
   "outputs": [],
   "source": []
  }
 ],
 "metadata": {
  "kernelspec": {
   "display_name": "Python 3 (ipykernel)",
   "language": "python",
   "name": "python3"
  },
  "language_info": {
   "codemirror_mode": {
    "name": "ipython",
    "version": 3
   },
   "file_extension": ".py",
   "mimetype": "text/x-python",
   "name": "python",
   "nbconvert_exporter": "python",
   "pygments_lexer": "ipython3",
   "version": "3.9.7"
  }
 },
 "nbformat": 4,
 "nbformat_minor": 5
}
