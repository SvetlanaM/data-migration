{
 "cells": [
  {
   "cell_type": "code",
   "execution_count": 21,
   "id": "669613e5",
   "metadata": {},
   "outputs": [],
   "source": [
    "import pandas as pd"
   ]
  },
  {
   "cell_type": "code",
   "execution_count": 22,
   "id": "83e498ed",
   "metadata": {},
   "outputs": [],
   "source": [
    "df = pd.read_csv(\"csv/products.csv\", encoding='utf-8')"
   ]
  },
  {
   "cell_type": "code",
   "execution_count": 23,
   "id": "92b76c72",
   "metadata": {},
   "outputs": [],
   "source": [
    "columns = ['id', 'label', 'latitude', 'longitude', 'number', 'street', 'city', 'region', 'country', 'postCode', \\\n",
    "           'contintent', 'raw_json']"
   ]
  },
  {
   "cell_type": "code",
   "execution_count": 24,
   "id": "15706878",
   "metadata": {},
   "outputs": [],
   "source": [
    "newDf = pd.concat([df, pd.DataFrame(columns = columns)])"
   ]
  },
  {
   "cell_type": "code",
   "execution_count": 25,
   "id": "02ba6b9e",
   "metadata": {},
   "outputs": [],
   "source": [
    "def get_lat(value):\n",
    "    try:\n",
    "        return value.split(',')[0][:-7].replace(\" \", \"\")\n",
    "    except:\n",
    "        pass"
   ]
  },
  {
   "cell_type": "code",
   "execution_count": 26,
   "id": "a07180dc",
   "metadata": {},
   "outputs": [],
   "source": [
    "def get_lot(value):\n",
    "    try:\n",
    "        return value.split(',')[1][:-7].replace(\" \", \"\")\n",
    "    except:\n",
    "        pass"
   ]
  },
  {
   "cell_type": "code",
   "execution_count": 27,
   "id": "d75aea96",
   "metadata": {},
   "outputs": [],
   "source": [
    "newDf['id'] = [i for i in range(1, newDf.shape[0]+1)]\n",
    "newDf['latitude'] = df['Coordinates'].apply(get_lat)\n",
    "newDf['longitude'] = df['Coordinates'].apply(get_lot)\n",
    "newDf['label'] = 'import_label'\n",
    "newDf['CoordId'] = df['ID']"
   ]
  },
  {
   "cell_type": "code",
   "execution_count": 8,
   "id": "06b0d999",
   "metadata": {},
   "outputs": [],
   "source": [
    "newDf = newDf.drop(['ID', 'Category 1', 'Category 2', 'Name', 'Country', 'Region 1', \\\n",
    "                   'Region 2', 'Description', 'Price 1', 'Review 2', \\\n",
    "                   'Curr1', 'Price 2', 'Curr2', 'Price 3', 'Curr3', \\\n",
    "                   'Price 4', 'Curr4', 'Price 5', 'Curr5', \\\n",
    "                    'Price 5', 'Curr5', 'Number Review 1', 'Review 1', 'Number Review 2', \\\n",
    "                    'Number Review 3', 'Review 3', 'Number Review 4', 'Review 4', 'Number Review 5', \\\n",
    "                    'Review 5', 'Rating 1', 'Rating 2', 'Rating 3', 'Rating 4', 'Rating 5', \\\n",
    "                    'Coordinates', 'E-Tickets', 'CoordId', 'Curr1 ID', 'Curr2 ID', 'Curr3 ID', 'Curr4 ID', \\\n",
    "                    'Curr5 ID'\n",
    "                   ], axis = 1)"
   ]
  },
  {
   "cell_type": "code",
   "execution_count": 11,
   "id": "26d06e3b",
   "metadata": {},
   "outputs": [],
   "source": [
    "newDf.size()"
   ]
  },
  {
   "cell_type": "code",
   "execution_count": 12,
   "id": "cd2dc9f6",
   "metadata": {},
   "outputs": [],
   "source": [
    "import geopy\n",
    "from geopy.geocoders import Nominatim\n",
    "from geopy.extra.rate_limiter import RateLimiter"
   ]
  },
  {
   "cell_type": "code",
   "execution_count": 13,
   "id": "cb980eae",
   "metadata": {},
   "outputs": [],
   "source": [
    "locator = Nominatim(user_agent='Trynego')"
   ]
  },
  {
   "cell_type": "code",
   "execution_count": 14,
   "id": "208234a8",
   "metadata": {},
   "outputs": [],
   "source": [
    "def set_address_details():\n",
    "    for index, row in newDf.iterrows():\n",
    "        try:\n",
    "            coordinates = newDf.loc[index, ['latitude']]['latitude'], newDf.loc[index, ['longitude']]['longitude']\n",
    "            location = locator.reverse(coordinates)\n",
    "            newDf.loc[index, ['number']] = ''\n",
    "            newDf.loc[index, ['street']] = ''\n",
    "            try:\n",
    "                newDf.loc[index, ['city']] = [location.raw['address']['city']]\n",
    "            except:\n",
    "                pass\n",
    "            try:\n",
    "                newDf.loc[index, ['city']] = [location.raw['address']['village']]\n",
    "            except:\n",
    "                pass\n",
    "            try:\n",
    "                newDf.loc[index, ['city']] = [location.raw['address']['man_made']]\n",
    "            except:\n",
    "                pass\n",
    "            try:\n",
    "                newDf.loc[index, ['city']] = [location.raw['address']['town']]\n",
    "            except:\n",
    "                pass\n",
    "            try:\n",
    "                newDf.loc[index, ['city']] = [location.raw['address']['municipality']]\n",
    "            except:\n",
    "                pass\n",
    "            newDf.loc[index, ['region']] = [location.raw['address']['state']]\n",
    "            newDf.loc[index, ['country']] = [location.raw['address']['country']]\n",
    "            newDf.loc[index, ['postCode']] = [location.raw['address']['postcode']]\n",
    "            newDf.loc[index, ['contintent']] = [location.raw['address']['contintent']]\n",
    "        except:\n",
    "            pass\n",
    "        \n",
    "set_address_details()"
   ]
  },
  {
   "cell_type": "code",
   "execution_count": 15,
   "id": "4888529b",
   "metadata": {},
   "outputs": [],
   "source": [
    "newDf = newDf[:][newDf['latitude'].notnull()]"
   ]
  },
  {
   "cell_type": "code",
   "execution_count": 19,
   "id": "a1ea5a5c",
   "metadata": {},
   "outputs": [],
   "source": [
    "newDf.to_csv('out/place.csv', index=False, encoding='utf-8')"
   ]
  },
  {
   "cell_type": "code",
   "execution_count": 20,
   "id": "d82b72f2",
   "metadata": {},
   "outputs": [],
   "source": [
    "newDf"
   ]
  },
  {
   "cell_type": "code",
   "execution_count": null,
   "id": "5a4e6eb8",
   "metadata": {},
   "outputs": [],
   "source": []
  }
 ],
 "metadata": {
  "kernelspec": {
   "display_name": "Python 3 (ipykernel)",
   "language": "python",
   "name": "python3"
  },
  "language_info": {
   "codemirror_mode": {
    "name": "ipython",
    "version": 3
   },
   "file_extension": ".py",
   "mimetype": "text/x-python",
   "name": "python",
   "nbconvert_exporter": "python",
   "pygments_lexer": "ipython3",
   "version": "3.9.15"
  }
 },
 "nbformat": 4,
 "nbformat_minor": 5
}
