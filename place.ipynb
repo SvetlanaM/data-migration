{
 "cells": [
  {
   "cell_type": "code",
   "execution_count": 115,
   "id": "669613e5",
   "metadata": {},
   "outputs": [],
   "source": [
    "import pandas as pd"
   ]
  },
  {
   "cell_type": "code",
   "execution_count": 116,
   "id": "83e498ed",
   "metadata": {},
   "outputs": [],
   "source": [
    "df = pd.read_csv(\"csv/products.csv\", encoding='utf-8')"
   ]
  },
  {
   "cell_type": "code",
   "execution_count": 117,
   "id": "92b76c72",
   "metadata": {},
   "outputs": [],
   "source": [
    "columns = ['id', 'label', 'latitude', 'longitude']"
   ]
  },
  {
   "cell_type": "code",
   "execution_count": 118,
   "id": "15706878",
   "metadata": {},
   "outputs": [],
   "source": [
    "newDf = pd.concat([df, pd.DataFrame(columns = columns)])"
   ]
  },
  {
   "cell_type": "code",
   "execution_count": 119,
   "id": "02ba6b9e",
   "metadata": {},
   "outputs": [],
   "source": [
    "def get_lat(value):\n",
    "    try:\n",
    "        return value.split(',')[0][:-7].replace(\" \", \"\")\n",
    "    except:\n",
    "        pass"
   ]
  },
  {
   "cell_type": "code",
   "execution_count": 120,
   "id": "a07180dc",
   "metadata": {},
   "outputs": [],
   "source": [
    "def get_lot(value):\n",
    "    try:\n",
    "        return value.split(',')[1][:-7].replace(\" \", \"\")\n",
    "    except:\n",
    "        pass"
   ]
  },
  {
   "cell_type": "code",
   "execution_count": 122,
   "id": "d75aea96",
   "metadata": {},
   "outputs": [],
   "source": [
    "newDf['id'] = [i for i in range(1, newDf.shape[0]+1)]\n",
    "newDf['latitude'] = df['Coordinates'].apply(get_lat)\n",
    "newDf['longitude'] = df['Coordinates'].apply(get_lot)\n",
    "newDf['label'] = 'import_label'\n",
    "newDf['CoordId'] = df['ID']"
   ]
  },
  {
   "cell_type": "code",
   "execution_count": 112,
   "id": "06b0d999",
   "metadata": {},
   "outputs": [],
   "source": [
    "newDf = newDf.drop(['ID', 'Category 1', 'Category 2', 'Name', 'Country', 'Region 1', \\\n",
    "                   'Region 2', 'Description', 'Price 1', 'Review 2', \\\n",
    "                   'Curr1', 'Price 2', 'Curr2', 'Price 3', 'Curr3', \\\n",
    "                   'Price 4', 'Curr4', 'Price 5', 'Curr5', \\\n",
    "                    'Price 5', 'Curr5', 'Number Review 1', 'Review 1', 'Number Review 2', \\\n",
    "                    'Number Review 3', 'Review 3', 'Number Review 4', 'Review 4', 'Number Review 5', \\\n",
    "                    'Review 5', 'Rating 1', 'Rating 2', 'Rating 3', 'Rating 4', 'Rating 5', \\\n",
    "                    'Coordinates', 'E-Tickets', 'CoordId', 'Curr1 ID', 'Curr2 ID', 'Curr3 ID', 'Curr4 ID', \\\n",
    "                    'Curr5 ID'\n",
    "                   ], axis = 1)"
   ]
  },
  {
   "cell_type": "code",
   "execution_count": 113,
   "id": "4888529b",
   "metadata": {},
   "outputs": [],
   "source": [
    "newDf = newDf.dropna()"
   ]
  },
  {
   "cell_type": "code",
   "execution_count": 114,
   "id": "a2974897",
   "metadata": {},
   "outputs": [
    {
     "data": {
      "text/html": [
       "<div>\n",
       "<style scoped>\n",
       "    .dataframe tbody tr th:only-of-type {\n",
       "        vertical-align: middle;\n",
       "    }\n",
       "\n",
       "    .dataframe tbody tr th {\n",
       "        vertical-align: top;\n",
       "    }\n",
       "\n",
       "    .dataframe thead th {\n",
       "        text-align: right;\n",
       "    }\n",
       "</style>\n",
       "<table border=\"1\" class=\"dataframe\">\n",
       "  <thead>\n",
       "    <tr style=\"text-align: right;\">\n",
       "      <th></th>\n",
       "      <th>id</th>\n",
       "      <th>label</th>\n",
       "      <th>latitude</th>\n",
       "      <th>longitude</th>\n",
       "    </tr>\n",
       "  </thead>\n",
       "  <tbody>\n",
       "    <tr>\n",
       "      <th>0</th>\n",
       "      <td>1</td>\n",
       "      <td>import_label</td>\n",
       "      <td>-6.72893095</td>\n",
       "      <td>107.6125785</td>\n",
       "    </tr>\n",
       "    <tr>\n",
       "      <th>3</th>\n",
       "      <td>4</td>\n",
       "      <td>import_label</td>\n",
       "      <td>-8.23959878</td>\n",
       "      <td>115.377216</td>\n",
       "    </tr>\n",
       "    <tr>\n",
       "      <th>5</th>\n",
       "      <td>6</td>\n",
       "      <td>import_label</td>\n",
       "      <td>-7.1661274</td>\n",
       "      <td>107.4021396</td>\n",
       "    </tr>\n",
       "    <tr>\n",
       "      <th>9</th>\n",
       "      <td>10</td>\n",
       "      <td>import_label</td>\n",
       "      <td>-7.60225298</td>\n",
       "      <td>110.2039246</td>\n",
       "    </tr>\n",
       "    <tr>\n",
       "      <th>10</th>\n",
       "      <td>11</td>\n",
       "      <td>import_label</td>\n",
       "      <td>-8.17166847</td>\n",
       "      <td>115.1862957</td>\n",
       "    </tr>\n",
       "    <tr>\n",
       "      <th>...</th>\n",
       "      <td>...</td>\n",
       "      <td>...</td>\n",
       "      <td>...</td>\n",
       "      <td>...</td>\n",
       "    </tr>\n",
       "    <tr>\n",
       "      <th>1676</th>\n",
       "      <td>1677</td>\n",
       "      <td>import_label</td>\n",
       "      <td>32.3542657</td>\n",
       "      <td>77.1904847</td>\n",
       "    </tr>\n",
       "    <tr>\n",
       "      <th>1677</th>\n",
       "      <td>1678</td>\n",
       "      <td>import_label</td>\n",
       "      <td>21.1236294</td>\n",
       "      <td>70.8245284</td>\n",
       "    </tr>\n",
       "    <tr>\n",
       "      <th>1678</th>\n",
       "      <td>1679</td>\n",
       "      <td>import_label</td>\n",
       "      <td>21.83828726</td>\n",
       "      <td>73.7190191</td>\n",
       "    </tr>\n",
       "    <tr>\n",
       "      <th>1679</th>\n",
       "      <td>1680</td>\n",
       "      <td>import_label</td>\n",
       "      <td>21.83828726</td>\n",
       "      <td>73.7190191</td>\n",
       "    </tr>\n",
       "    <tr>\n",
       "      <th>1680</th>\n",
       "      <td>1681</td>\n",
       "      <td>import_label</td>\n",
       "      <td>23.02816248</td>\n",
       "      <td>72.572249</td>\n",
       "    </tr>\n",
       "  </tbody>\n",
       "</table>\n",
       "<p>1282 rows × 4 columns</p>\n",
       "</div>"
      ],
      "text/plain": [
       "        id         label     latitude    longitude\n",
       "0        1  import_label  -6.72893095  107.6125785\n",
       "3        4  import_label  -8.23959878   115.377216\n",
       "5        6  import_label   -7.1661274  107.4021396\n",
       "9       10  import_label  -7.60225298  110.2039246\n",
       "10      11  import_label  -8.17166847  115.1862957\n",
       "...    ...           ...          ...          ...\n",
       "1676  1677  import_label   32.3542657   77.1904847\n",
       "1677  1678  import_label   21.1236294   70.8245284\n",
       "1678  1679  import_label  21.83828726   73.7190191\n",
       "1679  1680  import_label  21.83828726   73.7190191\n",
       "1680  1681  import_label  23.02816248    72.572249\n",
       "\n",
       "[1282 rows x 4 columns]"
      ]
     },
     "execution_count": 114,
     "metadata": {},
     "output_type": "execute_result"
    }
   ],
   "source": [
    "newDf"
   ]
  },
  {
   "cell_type": "code",
   "execution_count": 101,
   "id": "a1ea5a5c",
   "metadata": {},
   "outputs": [],
   "source": [
    "newDf.to_csv('out/place.csv', index=False, encoding='utf-8')"
   ]
  },
  {
   "cell_type": "code",
   "execution_count": null,
   "id": "5a4e6eb8",
   "metadata": {},
   "outputs": [],
   "source": []
  }
 ],
 "metadata": {
  "kernelspec": {
   "display_name": "Python 3 (ipykernel)",
   "language": "python",
   "name": "python3"
  },
  "language_info": {
   "codemirror_mode": {
    "name": "ipython",
    "version": 3
   },
   "file_extension": ".py",
   "mimetype": "text/x-python",
   "name": "python",
   "nbconvert_exporter": "python",
   "pygments_lexer": "ipython3",
   "version": "3.9.7"
  }
 },
 "nbformat": 4,
 "nbformat_minor": 5
}
