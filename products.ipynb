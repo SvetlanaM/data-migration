{
 "cells": [
  {
   "cell_type": "code",
   "execution_count": 129,
   "id": "e2a65d9f",
   "metadata": {},
   "outputs": [],
   "source": [
    "import pandas as pd\n",
    "from datetime import datetime\n",
    "from slugify import slugify"
   ]
  },
  {
   "cell_type": "code",
   "execution_count": 130,
   "id": "e38cca86",
   "metadata": {},
   "outputs": [],
   "source": [
    "now = datetime.now()\n",
    "dt_string = now.strftime(\"%Y-%m-%d %H:%M:%S\")"
   ]
  },
  {
   "cell_type": "code",
   "execution_count": 131,
   "id": "bac682fb",
   "metadata": {},
   "outputs": [],
   "source": [
    "df = pd.read_csv('csv/products.csv')\n",
    "images = pd.read_csv('out/image.csv')"
   ]
  },
  {
   "cell_type": "code",
   "execution_count": 132,
   "id": "8fb33d29",
   "metadata": {},
   "outputs": [],
   "source": [
    "newDf = df[['Name', 'E-Tickets', 'Description']]"
   ]
  },
  {
   "cell_type": "code",
   "execution_count": 133,
   "id": "5a7ecd7c",
   "metadata": {},
   "outputs": [],
   "source": [
    "columns = ['id', 'createdDate', 'updatedDate', 'internalNote', 'creatorId', 'statusId', \\\n",
    "          'slug', 'shortDescription', 'alternativeName', 'mainImageId']"
   ]
  },
  {
   "cell_type": "code",
   "execution_count": 134,
   "id": "5ef57567",
   "metadata": {},
   "outputs": [],
   "source": [
    "newDf = pd.concat([newDf, pd.DataFrame(columns = columns)])"
   ]
  },
  {
   "cell_type": "code",
   "execution_count": 135,
   "id": "e263ca29",
   "metadata": {},
   "outputs": [],
   "source": [
    "newDf.rename(columns = {'Name':'name', 'E-Tickets' : 'onlineTicketUrl', \\\n",
    "                    'Description' : 'description'}, inplace = True)"
   ]
  },
  {
   "cell_type": "code",
   "execution_count": 136,
   "id": "2ac5d4ef",
   "metadata": {},
   "outputs": [],
   "source": [
    "newDf['id'] = newDf.index + 1\n",
    "newDf['createdDate'] = dt_string\n",
    "newDf['updatedDate'] = dt_string\n",
    "newDf['internalNote'] = ''\n",
    "newDf['statusId'] = 4\n",
    "newDf['creatorId'] = 900"
   ]
  },
  {
   "cell_type": "code",
   "execution_count": 137,
   "id": "3e1d3413",
   "metadata": {},
   "outputs": [],
   "source": [
    "def set_slug(value):\n",
    "    try:\n",
    "        return slugify(str(value))\n",
    "    except:\n",
    "        return ''\n",
    "\n",
    "newDf['slug'] = newDf['name'].apply(set_slug)"
   ]
  },
  {
   "cell_type": "code",
   "execution_count": 138,
   "id": "186eae47",
   "metadata": {},
   "outputs": [],
   "source": [
    "def get_short_description(value):\n",
    "    return str(value)[:200]\n",
    "\n",
    "newDf['shortDescription'] = newDf['description'].apply(get_short_description)"
   ]
  },
  {
   "cell_type": "code",
   "execution_count": 139,
   "id": "f0f7e5ee",
   "metadata": {},
   "outputs": [],
   "source": [
    "def get_alternative_name(value):\n",
    "    temp = value.split(' ')\n",
    "    return ', '.join(str(e) for e in temp)\n",
    "\n",
    "newDf['alternativeName'] = newDf['name'].apply(get_alternative_name)"
   ]
  },
  {
   "cell_type": "code",
   "execution_count": 140,
   "id": "0822f8ff",
   "metadata": {},
   "outputs": [],
   "source": [
    "def get_main_image_id(value):\n",
    "    try:\n",
    "        tempName = str(value) + '_1'\n",
    "        return images[:][images['name'].str.contains(tempName)]['id'].values[0]\n",
    "    except:\n",
    "        return ''\n",
    "    \n",
    "newDf['mainImageId'] = df['ID'].apply(get_main_image_id)"
   ]
  },
  {
   "cell_type": "code",
   "execution_count": 141,
   "id": "862f25e9",
   "metadata": {},
   "outputs": [],
   "source": [
    "newDf.to_csv('out/products.csv', index=False, encoding='utf-8')"
   ]
  },
  {
   "cell_type": "code",
   "execution_count": null,
   "id": "1b66523d",
   "metadata": {},
   "outputs": [],
   "source": []
  }
 ],
 "metadata": {
  "kernelspec": {
   "display_name": "Python 3 (ipykernel)",
   "language": "python",
   "name": "python3"
  },
  "language_info": {
   "codemirror_mode": {
    "name": "ipython",
    "version": 3
   },
   "file_extension": ".py",
   "mimetype": "text/x-python",
   "name": "python",
   "nbconvert_exporter": "python",
   "pygments_lexer": "ipython3",
   "version": "3.9.7"
  }
 },
 "nbformat": 4,
 "nbformat_minor": 5
}
