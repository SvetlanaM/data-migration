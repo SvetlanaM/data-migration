{
 "cells": [
  {
   "cell_type": "code",
   "execution_count": 179,
   "id": "e2a65d9f",
   "metadata": {},
   "outputs": [],
   "source": [
    "import pandas as pd\n",
    "from datetime import datetime\n",
    "from slugify import slugify\n",
    "from currency_converter import CurrencyConverter\n",
    "import numpy as np"
   ]
  },
  {
   "cell_type": "code",
   "execution_count": 180,
   "id": "b8f70143",
   "metadata": {},
   "outputs": [],
   "source": [
    "pd.set_option('display.max_rows', None)\n",
    "pd.set_option('display.max_columns', None)\n",
    "pd.set_option('display.width', None)"
   ]
  },
  {
   "cell_type": "code",
   "execution_count": 181,
   "id": "e38cca86",
   "metadata": {},
   "outputs": [],
   "source": [
    "now = datetime.now()\n",
    "dt_string = now.strftime(\"%Y-%m-%d %H:%M:%S\")"
   ]
  },
  {
   "cell_type": "code",
   "execution_count": 182,
   "id": "bac682fb",
   "metadata": {},
   "outputs": [],
   "source": [
    "df = pd.read_csv('csv/products.csv')\n",
    "images = pd.read_csv('out/image.csv')\n",
    "price = pd.read_csv('out/price.csv')\n",
    "place = pd.read_csv('out/place.csv')"
   ]
  },
  {
   "cell_type": "code",
   "execution_count": 183,
   "id": "8ee5d6ea",
   "metadata": {},
   "outputs": [],
   "source": [
    "df['Price 1'] = df['Price 1'].str.replace(\",\", \".\").astype(float)\n",
    "df['Price 2'] = df['Price 2'].str.replace(\",\", \".\").astype(float)\n",
    "df['Price 3'] = df['Price 3'].str.replace(\",\", \".\").astype(float)\n",
    "df['Price 4'] = df['Price 4'].str.replace(\",\", \".\").astype(float)\n",
    "df['Price 5'] = df['Price 5'].str.replace(\",\", \".\").astype(float)"
   ]
  },
  {
   "cell_type": "code",
   "execution_count": 184,
   "id": "b8d9bc81",
   "metadata": {},
   "outputs": [],
   "source": [
    "df['Rating 1'] = df['Rating 1'].astype(float)\n",
    "df['Rating 2'] = df['Rating 2'].astype(float)\n",
    "df['Rating 3'] = df['Rating 3'].astype(float)\n",
    "df['Rating 4'] = df['Rating 4'].astype(float)\n",
    "df['Rating 5'] = df['Rating 5'].astype(float)"
   ]
  },
  {
   "cell_type": "code",
   "execution_count": 104,
   "id": "36eb26c2",
   "metadata": {},
   "outputs": [],
   "source": [
    "c = CurrencyConverter()\n",
    "def convert_currency(x, y):\n",
    "    try:\n",
    "        return c.convert(float(x), str(y), 'USD')\n",
    "    except:\n",
    "        return np.nan"
   ]
  },
  {
   "cell_type": "code",
   "execution_count": 67,
   "id": "c78f62e9",
   "metadata": {},
   "outputs": [],
   "source": [
    "df['Price 1 USD'] = df.apply(lambda x: convert_currency(x['Price 1'], x['Curr1']), axis=1).astype(float).round(2)\n",
    "df['Price 2 USD'] = df.apply(lambda x: convert_currency(x['Price 2'], x['Curr2']), axis=1).astype(float).round(2)\n",
    "df['Price 3 USD'] = df.apply(lambda x: convert_currency(x['Price 3'], x['Curr3']), axis=1).astype(float).round(2)\n",
    "df['Price 4 USD'] = df.apply(lambda x: convert_currency(x['Price 4'], x['Curr4']), axis=1).astype(float).round(2)\n",
    "df['Price 5 USD'] = df.apply(lambda x: convert_currency(x['Price 5'], x['Curr5']), axis=1).astype(float).round(2)"
   ]
  },
  {
   "cell_type": "code",
   "execution_count": 68,
   "id": "3615db47",
   "metadata": {},
   "outputs": [],
   "source": [
    "df1 = pd.DataFrame()\n",
    "df2 = pd.DataFrame()\n",
    "df3 = pd.DataFrame()"
   ]
  },
  {
   "cell_type": "code",
   "execution_count": 69,
   "id": "a7d3890d",
   "metadata": {},
   "outputs": [],
   "source": [
    "df1['minPrice'] = df[['Price 1 USD', 'Price 2 USD', 'Price 3 USD', 'Price 4 USD', 'Price 5 USD']]\\\n",
    "[(df['Price 1 USD'].notnull()) | \\\n",
    " (df['Price 2 USD'].notnull()) | \\\n",
    " (df['Price 3 USD'].notnull()) | \\\n",
    " (df['Price 4 USD'].notnull()) | \\\n",
    " (df['Price 5 USD'].notnull())\n",
    "].min(axis=1).astype(float).round(2)\n",
    "df1['id'] = df['ID'].astype(str) + '_' + df1['minPrice'].astype(str)"
   ]
  },
  {
   "cell_type": "code",
   "execution_count": 70,
   "id": "e0f0f73f",
   "metadata": {},
   "outputs": [],
   "source": [
    "df2['maxPrice'] = df[['Price 1 USD', 'Price 2 USD', 'Price 3 USD', 'Price 4 USD', 'Price 5 USD']]\\\n",
    "[(df['Price 1 USD'].notnull()) | \\\n",
    " (df['Price 2 USD'].notnull()) | \\\n",
    " (df['Price 3 USD'].notnull()) | \\\n",
    " (df['Price 4 USD'].notnull()) | \\\n",
    " (df['Price 5 USD'].notnull())\n",
    "].max(axis=1).astype(float).round(2)\n",
    "df2['id'] = df['ID'].astype(str) + '_' + df2['maxPrice'].astype(str)"
   ]
  },
  {
   "cell_type": "code",
   "execution_count": 71,
   "id": "4f8c8fe9",
   "metadata": {},
   "outputs": [],
   "source": [
    "df3['avgPrice'] = df[['Price 1 USD', 'Price 2 USD', 'Price 3 USD', 'Price 4 USD', 'Price 5 USD']]\\\n",
    "[(df['Price 1 USD'].notnull()) | \\\n",
    " (df['Price 2 USD'].notnull()) | \\\n",
    " (df['Price 3 USD'].notnull()) | \\\n",
    " (df['Price 4 USD'].notnull()) | \\\n",
    " (df['Price 5 USD'].notnull())\n",
    "].mean(axis=1).astype(float).round(2)\n",
    "df3['id'] = df['ID'].astype(str) + '_' + df3['avgPrice'].astype(str)"
   ]
  },
  {
   "cell_type": "code",
   "execution_count": 185,
   "id": "13bd4bcf",
   "metadata": {},
   "outputs": [],
   "source": [
    "df1.rename(columns = {'minPrice':'amount'}, inplace = True)\n",
    "df2.rename(columns = {'maxPrice':'amount'}, inplace = True)\n",
    "df3.rename(columns = {'avgPrice':'amount'}, inplace = True)"
   ]
  },
  {
   "cell_type": "code",
   "execution_count": 186,
   "id": "1af27559",
   "metadata": {},
   "outputs": [],
   "source": [
    "newDf1 = pd.concat([df1, df2, df3])"
   ]
  },
  {
   "cell_type": "code",
   "execution_count": 187,
   "id": "e1f33c44",
   "metadata": {},
   "outputs": [],
   "source": [
    "newDf1['ID'] = newDf1['id']\n",
    "newDf1['id'] = [i for i in range(price.shape[0]+1, price.shape[0]+1 + newDf1.shape[0])]\n",
    "newDf1.rename(columns = {'Price':'amount'}, inplace = True)\n",
    "newDf1['currencyId'] = 'USD'\n",
    "newDf1['amountMainCurrency'] = newDf1['amount']\n",
    "newDf1['mainCurrencyId'] = 'USD'"
   ]
  },
  {
   "cell_type": "code",
   "execution_count": 75,
   "id": "e3b2d5af",
   "metadata": {},
   "outputs": [],
   "source": [
    "df['avgRating'] = df[['Rating 1', 'Rating 2', 'Rating 3', 'Rating 4', 'Rating 5']]\\\n",
    "[(df['Rating 1'].notnull()) | \\\n",
    " (df['Rating 2'].notnull()) | \\\n",
    " (df['Rating 3'].notnull()) | \\\n",
    " (df['Rating 4'].notnull()) | \\\n",
    " (df['Rating 5'].notnull())\n",
    "].mean(axis=1)"
   ]
  },
  {
   "cell_type": "code",
   "execution_count": 76,
   "id": "c74b61c5",
   "metadata": {},
   "outputs": [],
   "source": [
    "df['reviewCount'] = df[['Number Review 1', 'Number Review 2', 'Number Review 3', 'Number Review 4', 'Number Review 5']]\\\n",
    "[(df['Number Review 1'].notnull()) | \\\n",
    " (df['Number Review 2'].notnull()) | \\\n",
    " (df['Number Review 3'].notnull()) | \\\n",
    " (df['Number Review 4'].notnull()) | \\\n",
    " (df['Number Review 5'].notnull())\n",
    "].count(axis=1).astype(int)"
   ]
  },
  {
   "cell_type": "code",
   "execution_count": 188,
   "id": "342f8c8d",
   "metadata": {},
   "outputs": [],
   "source": [
    "def get_price_id(value):\n",
    "    return newDf1[:][newDf1['ID'] == str(value)]['id'].values[0]"
   ]
  },
  {
   "cell_type": "code",
   "execution_count": 189,
   "id": "8fb33d29",
   "metadata": {},
   "outputs": [
    {
     "ename": "KeyError",
     "evalue": "\"['avgRating', 'reviewCount'] not in index\"",
     "output_type": "error",
     "traceback": [
      "\u001b[0;31m---------------------------------------------------------------------------\u001b[0m",
      "\u001b[0;31mKeyError\u001b[0m                                  Traceback (most recent call last)",
      "Input \u001b[0;32mIn [189]\u001b[0m, in \u001b[0;36m<cell line: 1>\u001b[0;34m()\u001b[0m\n\u001b[0;32m----> 1\u001b[0m newDf \u001b[38;5;241m=\u001b[39m \u001b[43mdf\u001b[49m\u001b[43m[\u001b[49m\u001b[43m[\u001b[49m\u001b[38;5;124;43m'\u001b[39;49m\u001b[38;5;124;43mName\u001b[39;49m\u001b[38;5;124;43m'\u001b[39;49m\u001b[43m,\u001b[49m\u001b[43m \u001b[49m\u001b[38;5;124;43m'\u001b[39;49m\u001b[38;5;124;43mE-Tickets\u001b[39;49m\u001b[38;5;124;43m'\u001b[39;49m\u001b[43m,\u001b[49m\u001b[43m \u001b[49m\u001b[38;5;124;43m'\u001b[39;49m\u001b[38;5;124;43mDescription\u001b[39;49m\u001b[38;5;124;43m'\u001b[39;49m\u001b[43m,\u001b[49m\u001b[43m \u001b[49m\u001b[38;5;124;43m'\u001b[39;49m\u001b[38;5;124;43mID\u001b[39;49m\u001b[38;5;124;43m'\u001b[39;49m\u001b[43m,\u001b[49m\u001b[43m \u001b[49m\u001b[38;5;124;43m'\u001b[39;49m\u001b[38;5;124;43mavgRating\u001b[39;49m\u001b[38;5;124;43m'\u001b[39;49m\u001b[43m,\u001b[49m\u001b[43m \u001b[49m\u001b[38;5;124;43m'\u001b[39;49m\u001b[38;5;124;43mreviewCount\u001b[39;49m\u001b[38;5;124;43m'\u001b[39;49m\u001b[43m]\u001b[49m\u001b[43m]\u001b[49m\n",
      "File \u001b[0;32m~/Desktop/data-migration/venv/lib/python3.9/site-packages/pandas/core/frame.py:3511\u001b[0m, in \u001b[0;36mDataFrame.__getitem__\u001b[0;34m(self, key)\u001b[0m\n\u001b[1;32m   3509\u001b[0m     \u001b[38;5;28;01mif\u001b[39;00m is_iterator(key):\n\u001b[1;32m   3510\u001b[0m         key \u001b[38;5;241m=\u001b[39m \u001b[38;5;28mlist\u001b[39m(key)\n\u001b[0;32m-> 3511\u001b[0m     indexer \u001b[38;5;241m=\u001b[39m \u001b[38;5;28;43mself\u001b[39;49m\u001b[38;5;241;43m.\u001b[39;49m\u001b[43mcolumns\u001b[49m\u001b[38;5;241;43m.\u001b[39;49m\u001b[43m_get_indexer_strict\u001b[49m\u001b[43m(\u001b[49m\u001b[43mkey\u001b[49m\u001b[43m,\u001b[49m\u001b[43m \u001b[49m\u001b[38;5;124;43m\"\u001b[39;49m\u001b[38;5;124;43mcolumns\u001b[39;49m\u001b[38;5;124;43m\"\u001b[39;49m\u001b[43m)\u001b[49m[\u001b[38;5;241m1\u001b[39m]\n\u001b[1;32m   3513\u001b[0m \u001b[38;5;66;03m# take() does not accept boolean indexers\u001b[39;00m\n\u001b[1;32m   3514\u001b[0m \u001b[38;5;28;01mif\u001b[39;00m \u001b[38;5;28mgetattr\u001b[39m(indexer, \u001b[38;5;124m\"\u001b[39m\u001b[38;5;124mdtype\u001b[39m\u001b[38;5;124m\"\u001b[39m, \u001b[38;5;28;01mNone\u001b[39;00m) \u001b[38;5;241m==\u001b[39m \u001b[38;5;28mbool\u001b[39m:\n",
      "File \u001b[0;32m~/Desktop/data-migration/venv/lib/python3.9/site-packages/pandas/core/indexes/base.py:5782\u001b[0m, in \u001b[0;36mIndex._get_indexer_strict\u001b[0;34m(self, key, axis_name)\u001b[0m\n\u001b[1;32m   5779\u001b[0m \u001b[38;5;28;01melse\u001b[39;00m:\n\u001b[1;32m   5780\u001b[0m     keyarr, indexer, new_indexer \u001b[38;5;241m=\u001b[39m \u001b[38;5;28mself\u001b[39m\u001b[38;5;241m.\u001b[39m_reindex_non_unique(keyarr)\n\u001b[0;32m-> 5782\u001b[0m \u001b[38;5;28;43mself\u001b[39;49m\u001b[38;5;241;43m.\u001b[39;49m\u001b[43m_raise_if_missing\u001b[49m\u001b[43m(\u001b[49m\u001b[43mkeyarr\u001b[49m\u001b[43m,\u001b[49m\u001b[43m \u001b[49m\u001b[43mindexer\u001b[49m\u001b[43m,\u001b[49m\u001b[43m \u001b[49m\u001b[43maxis_name\u001b[49m\u001b[43m)\u001b[49m\n\u001b[1;32m   5784\u001b[0m keyarr \u001b[38;5;241m=\u001b[39m \u001b[38;5;28mself\u001b[39m\u001b[38;5;241m.\u001b[39mtake(indexer)\n\u001b[1;32m   5785\u001b[0m \u001b[38;5;28;01mif\u001b[39;00m \u001b[38;5;28misinstance\u001b[39m(key, Index):\n\u001b[1;32m   5786\u001b[0m     \u001b[38;5;66;03m# GH 42790 - Preserve name from an Index\u001b[39;00m\n",
      "File \u001b[0;32m~/Desktop/data-migration/venv/lib/python3.9/site-packages/pandas/core/indexes/base.py:5845\u001b[0m, in \u001b[0;36mIndex._raise_if_missing\u001b[0;34m(self, key, indexer, axis_name)\u001b[0m\n\u001b[1;32m   5842\u001b[0m     \u001b[38;5;28;01mraise\u001b[39;00m \u001b[38;5;167;01mKeyError\u001b[39;00m(\u001b[38;5;124mf\u001b[39m\u001b[38;5;124m\"\u001b[39m\u001b[38;5;124mNone of [\u001b[39m\u001b[38;5;132;01m{\u001b[39;00mkey\u001b[38;5;132;01m}\u001b[39;00m\u001b[38;5;124m] are in the [\u001b[39m\u001b[38;5;132;01m{\u001b[39;00maxis_name\u001b[38;5;132;01m}\u001b[39;00m\u001b[38;5;124m]\u001b[39m\u001b[38;5;124m\"\u001b[39m)\n\u001b[1;32m   5844\u001b[0m not_found \u001b[38;5;241m=\u001b[39m \u001b[38;5;28mlist\u001b[39m(ensure_index(key)[missing_mask\u001b[38;5;241m.\u001b[39mnonzero()[\u001b[38;5;241m0\u001b[39m]]\u001b[38;5;241m.\u001b[39munique())\n\u001b[0;32m-> 5845\u001b[0m \u001b[38;5;28;01mraise\u001b[39;00m \u001b[38;5;167;01mKeyError\u001b[39;00m(\u001b[38;5;124mf\u001b[39m\u001b[38;5;124m\"\u001b[39m\u001b[38;5;132;01m{\u001b[39;00mnot_found\u001b[38;5;132;01m}\u001b[39;00m\u001b[38;5;124m not in index\u001b[39m\u001b[38;5;124m\"\u001b[39m)\n",
      "\u001b[0;31mKeyError\u001b[0m: \"['avgRating', 'reviewCount'] not in index\""
     ]
    }
   ],
   "source": [
    "newDf = df[['Name', 'E-Tickets', 'Description', 'ID', 'avgRating', 'reviewCount']]"
   ]
  },
  {
   "cell_type": "code",
   "execution_count": 190,
   "id": "5a7ecd7c",
   "metadata": {},
   "outputs": [],
   "source": [
    "columns = ['createdDate', 'updatedDate', 'internalNote', 'creatorId', 'statusId', \\\n",
    "          'slug', 'shortDescription', 'alternativeName', 'mainImageId', 'placeId']"
   ]
  },
  {
   "cell_type": "code",
   "execution_count": 191,
   "id": "5ef57567",
   "metadata": {},
   "outputs": [],
   "source": [
    "newDf = pd.concat([newDf, pd.DataFrame(columns = columns)])"
   ]
  },
  {
   "cell_type": "code",
   "execution_count": 81,
   "id": "e263ca29",
   "metadata": {},
   "outputs": [],
   "source": [
    "newDf.rename(columns = {'Name':'name', 'E-Tickets' : 'onlineTicketUrl', \\\n",
    "                    'Description' : 'description', 'ID' : 'id', 'avgRating' : 'averageRating'}, inplace = True)"
   ]
  },
  {
   "cell_type": "code",
   "execution_count": 82,
   "id": "703c7e95",
   "metadata": {},
   "outputs": [],
   "source": [
    "import random\n",
    "import time\n",
    " \n",
    " \n",
    "def str_time_prop(start, end, time_format, prop):\n",
    "    stime = time.mktime(time.strptime(start, time_format))\n",
    "    etime = time.mktime(time.strptime(end, time_format))\n",
    "    ptime = stime + prop * (etime - stime)\n",
    "    return time.strftime(time_format, time.localtime(ptime))\n",
    " \n",
    " \n",
    "def random_date(start, end, prop):\n",
    "    return str_time_prop(start, end, '%Y-%m-%d', prop)\n",
    " "
   ]
  },
  {
   "cell_type": "code",
   "execution_count": 83,
   "id": "2ac5d4ef",
   "metadata": {},
   "outputs": [],
   "source": [
    "newDf['createdDate'] = [random_date(\"2021-1-1\", \"2022-4-30\", random.random()) for i in range(1, newDf.shape[0] + 1)]\n",
    "newDf['updatedDate'] = [i for i in newDf['createdDate']]\n",
    "newDf['internalNote'] = ''\n",
    "newDf['statusId'] = 4\n",
    "newDf['creatorId'] = 900\n",
    "newDf['id'] = newDf.id.astype(int)"
   ]
  },
  {
   "cell_type": "code",
   "execution_count": 196,
   "id": "8f52458e",
   "metadata": {},
   "outputs": [],
   "source": [
    "def get_place_id(value):\n",
    "    try:\n",
    "        return place[:][place['CoordId'] == int(value)]['id'].values[0]\n",
    "    except:\n",
    "        return ''\n",
    "\n",
    "newDf['placeId'] = newDf['id'].apply(get_place_id)"
   ]
  },
  {
   "cell_type": "code",
   "execution_count": 156,
   "id": "0c6f17d4",
   "metadata": {},
   "outputs": [],
   "source": [
    "def set_slug_id():\n",
    "    for index, row in newDf.iterrows():\n",
    "        newDf.loc[index, ['slug']] = [slugify(row['name']) + '-' + str(row['id'])]\n",
    "        \n",
    "set_slug_id()"
   ]
  },
  {
   "cell_type": "code",
   "execution_count": 85,
   "id": "186eae47",
   "metadata": {},
   "outputs": [],
   "source": [
    "def get_short_description(value):\n",
    "    return str(value)[:200]\n",
    "\n",
    "newDf['shortDescription'] = newDf['description'].apply(get_short_description)"
   ]
  },
  {
   "cell_type": "code",
   "execution_count": 86,
   "id": "f0f7e5ee",
   "metadata": {},
   "outputs": [],
   "source": [
    "def get_alternative_name(value):\n",
    "    temp = value.split(' ')\n",
    "    return ', '.join(str(e) for e in temp)\n",
    "\n",
    "newDf['alternativeName'] = newDf['name'].apply(get_alternative_name)"
   ]
  },
  {
   "cell_type": "code",
   "execution_count": 87,
   "id": "0822f8ff",
   "metadata": {},
   "outputs": [],
   "source": [
    "def get_main_image_id(value):\n",
    "    try:\n",
    "        tempName = 'product_' + str(value) + '_1'\n",
    "        return images[:][images['name'].str.contains(tempName)]['id'].values[0]\n",
    "    except:\n",
    "        return ''\n",
    "    \n",
    "newDf['mainImageId'] = newDf['id'].apply(get_main_image_id)"
   ]
  },
  {
   "cell_type": "code",
   "execution_count": 88,
   "id": "cb6efc99",
   "metadata": {},
   "outputs": [],
   "source": [
    "copy = newDf1.drop(['ID'], axis=1)"
   ]
  },
  {
   "cell_type": "code",
   "execution_count": 89,
   "id": "862f25e9",
   "metadata": {},
   "outputs": [],
   "source": [
    "newDf.to_csv('out/products.csv', index=False, encoding='utf-8')\n",
    "newDf1.to_csv('out/price2.csv', index=False, encoding='utf-8')"
   ]
  },
  {
   "cell_type": "code",
   "execution_count": 90,
   "id": "92caf019",
   "metadata": {},
   "outputs": [
    {
     "data": {
      "text/plain": [
       "(1943, 15)"
      ]
     },
     "execution_count": 90,
     "metadata": {},
     "output_type": "execute_result"
    }
   ],
   "source": [
    "newDf.shape"
   ]
  },
  {
   "cell_type": "code",
   "execution_count": 91,
   "id": "5cdeb850",
   "metadata": {},
   "outputs": [],
   "source": [
    "copy.to_csv('out/price3.csv', index=False, encoding='utf-8')"
   ]
  },
  {
   "cell_type": "code",
   "execution_count": 92,
   "id": "fd31ac05",
   "metadata": {},
   "outputs": [
    {
     "data": {
      "text/plain": [
       "(4614, 5)"
      ]
     },
     "execution_count": 92,
     "metadata": {},
     "output_type": "execute_result"
    }
   ],
   "source": [
    "copy.shape"
   ]
  },
  {
   "cell_type": "code",
   "execution_count": null,
   "id": "cf528105",
   "metadata": {},
   "outputs": [],
   "source": []
  }
 ],
 "metadata": {
  "kernelspec": {
   "display_name": "Python 3 (ipykernel)",
   "language": "python",
   "name": "python3"
  },
  "language_info": {
   "codemirror_mode": {
    "name": "ipython",
    "version": 3
   },
   "file_extension": ".py",
   "mimetype": "text/x-python",
   "name": "python",
   "nbconvert_exporter": "python",
   "pygments_lexer": "ipython3",
   "version": "3.9.7"
  }
 },
 "nbformat": 4,
 "nbformat_minor": 5
}
