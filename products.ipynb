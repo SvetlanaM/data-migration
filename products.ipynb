{
 "cells": [
  {
   "cell_type": "code",
   "execution_count": 445,
   "id": "e2a65d9f",
   "metadata": {},
   "outputs": [],
   "source": [
    "import pandas as pd\n",
    "from datetime import datetime\n",
    "from slugify import slugify\n",
    "from currency_converter import CurrencyConverter\n",
    "import numpy as np"
   ]
  },
  {
   "cell_type": "code",
   "execution_count": 446,
   "id": "b8f70143",
   "metadata": {},
   "outputs": [],
   "source": [
    "pd.set_option('display.max_rows', None)\n",
    "pd.set_option('display.max_columns', None)\n",
    "pd.set_option('display.width', None)"
   ]
  },
  {
   "cell_type": "code",
   "execution_count": 447,
   "id": "e38cca86",
   "metadata": {},
   "outputs": [],
   "source": [
    "now = datetime.now()\n",
    "dt_string = now.strftime(\"%Y-%m-%d %H:%M:%S\")"
   ]
  },
  {
   "cell_type": "code",
   "execution_count": 448,
   "id": "bac682fb",
   "metadata": {},
   "outputs": [],
   "source": [
    "df = pd.read_csv('csv/products.csv')\n",
    "images = pd.read_csv('out/image.csv')\n",
    "price = pd.read_csv('out/price.csv')"
   ]
  },
  {
   "cell_type": "code",
   "execution_count": 449,
   "id": "8ee5d6ea",
   "metadata": {},
   "outputs": [],
   "source": [
    "df['Price 1'] = df['Price 1'].str.replace(\",\", \".\").astype(float)\n",
    "df['Price 2'] = df['Price 2'].str.replace(\",\", \".\").astype(float)\n",
    "df['Price 3'] = df['Price 3'].str.replace(\",\", \".\").astype(float)\n",
    "df['Price 4'] = df['Price 4'].str.replace(\",\", \".\").astype(float)\n",
    "df['Price 5'] = df['Price 5'].str.replace(\",\", \".\").astype(float)"
   ]
  },
  {
   "cell_type": "code",
   "execution_count": 450,
   "id": "b8d9bc81",
   "metadata": {},
   "outputs": [],
   "source": [
    "df['Rating 1'] = df['Rating 1'].astype(float)\n",
    "df['Rating 2'] = df['Rating 2'].astype(float)\n",
    "df['Rating 3'] = df['Rating 3'].astype(float)\n",
    "df['Rating 4'] = df['Rating 4'].astype(float)\n",
    "df['Rating 5'] = df['Rating 5'].astype(float)"
   ]
  },
  {
   "cell_type": "code",
   "execution_count": 451,
   "id": "36eb26c2",
   "metadata": {},
   "outputs": [],
   "source": [
    "c = CurrencyConverter()\n",
    "def convert_currency(x, y):\n",
    "    try:\n",
    "        return c.convert(float(x), str(y), 'USD')\n",
    "    except:\n",
    "        return np.nan"
   ]
  },
  {
   "cell_type": "code",
   "execution_count": 452,
   "id": "c78f62e9",
   "metadata": {},
   "outputs": [],
   "source": [
    "df['Price 1 USD'] = df.apply(lambda x: convert_currency(x['Price 1'], x['Curr1']), axis=1).astype(float).round(2)\n",
    "df['Price 2 USD'] = df.apply(lambda x: convert_currency(x['Price 2'], x['Curr2']), axis=1).astype(float).round(2)\n",
    "df['Price 3 USD'] = df.apply(lambda x: convert_currency(x['Price 3'], x['Curr3']), axis=1).astype(float).round(2)\n",
    "df['Price 4 USD'] = df.apply(lambda x: convert_currency(x['Price 4'], x['Curr4']), axis=1).astype(float).round(2)\n",
    "df['Price 5 USD'] = df.apply(lambda x: convert_currency(x['Price 5'], x['Curr5']), axis=1).astype(float).round(2)"
   ]
  },
  {
   "cell_type": "code",
   "execution_count": 453,
   "id": "3615db47",
   "metadata": {},
   "outputs": [],
   "source": [
    "tempDf = pd.DataFrame()"
   ]
  },
  {
   "cell_type": "code",
   "execution_count": 454,
   "id": "a7d3890d",
   "metadata": {},
   "outputs": [],
   "source": [
    "tempDf['minPrice'] = df[['Price 1 USD', 'Price 2 USD', 'Price 3 USD', 'Price 4 USD', 'Price 5 USD']]\\\n",
    "[(df['Price 1 USD'].notnull()) | \\\n",
    " (df['Price 2 USD'].notnull()) | \\\n",
    " (df['Price 3 USD'].notnull()) | \\\n",
    " (df['Price 4 USD'].notnull()) | \\\n",
    " (df['Price 5 USD'].notnull())\n",
    "].min(axis=1).astype(float).round(2)"
   ]
  },
  {
   "cell_type": "code",
   "execution_count": 455,
   "id": "e0f0f73f",
   "metadata": {},
   "outputs": [],
   "source": [
    "tempDf['maxPrice'] = df[['Price 1 USD', 'Price 2 USD', 'Price 3 USD', 'Price 4 USD', 'Price 5 USD']]\\\n",
    "[(df['Price 1 USD'].notnull()) | \\\n",
    " (df['Price 2 USD'].notnull()) | \\\n",
    " (df['Price 3 USD'].notnull()) | \\\n",
    " (df['Price 4 USD'].notnull()) | \\\n",
    " (df['Price 5 USD'].notnull())\n",
    "].max(axis=1).astype(float).round(2)"
   ]
  },
  {
   "cell_type": "code",
   "execution_count": 456,
   "id": "4f8c8fe9",
   "metadata": {},
   "outputs": [],
   "source": [
    "tempDf['avgPrice'] = df[['Price 1 USD', 'Price 2 USD', 'Price 3 USD', 'Price 4 USD', 'Price 5 USD']]\\\n",
    "[(df['Price 1 USD'].notnull()) | \\\n",
    " (df['Price 2 USD'].notnull()) | \\\n",
    " (df['Price 3 USD'].notnull()) | \\\n",
    " (df['Price 4 USD'].notnull()) | \\\n",
    " (df['Price 5 USD'].notnull())\n",
    "].mean(axis=1).astype(float).round(2)"
   ]
  },
  {
   "cell_type": "code",
   "execution_count": 457,
   "id": "ed55794f",
   "metadata": {},
   "outputs": [],
   "source": [
    "df1 = tempDf[['minPrice']]\n",
    "df2 = tempDf[['maxPrice']]\n",
    "df3 = tempDf[['avgPrice']]"
   ]
  },
  {
   "cell_type": "code",
   "execution_count": 458,
   "id": "3f0b5c07",
   "metadata": {},
   "outputs": [],
   "source": [
    "df1 = df1.rename(columns={'minPrice' : 'Price'})\n",
    "df2 = df2.rename(columns={'maxPrice' : 'Price'})\n",
    "df3 = df3.rename(columns={'avgPrice' : 'Price'})"
   ]
  },
  {
   "cell_type": "code",
   "execution_count": 459,
   "id": "1af27559",
   "metadata": {},
   "outputs": [],
   "source": [
    "newDf1 = pd.concat([df1, df2, df3]).dropna()"
   ]
  },
  {
   "cell_type": "code",
   "execution_count": 460,
   "id": "e1f33c44",
   "metadata": {},
   "outputs": [],
   "source": [
    "newDf1['id'] = [i for i in range(price.shape[0]+1, price.shape[0]+1 + newDf1.shape[0])]\n",
    "newDf1['ID'] = [i for i in range(price.shape[0]+1, price.shape[0]+1 + newDf1.shape[0])]\n",
    "newDf1.rename(columns = {'Price':'amount'}, inplace = True)\n",
    "newDf1['currencyId'] = 'USD'\n",
    "newDf1['amountMainCurrency'] = newDf1['amount']\n",
    "newDf1['mainCurrencyId'] = 'USD'"
   ]
  },
  {
   "cell_type": "code",
   "execution_count": 461,
   "id": "e0a86159",
   "metadata": {},
   "outputs": [],
   "source": [
    "price = pd.concat([price, newDf1])"
   ]
  },
  {
   "cell_type": "code",
   "execution_count": 462,
   "id": "e3b2d5af",
   "metadata": {},
   "outputs": [],
   "source": [
    "df['avgRating'] = df[['Rating 1', 'Rating 2', 'Rating 3', 'Rating 4', 'Rating 5']]\\\n",
    "[(df['Rating 1'].notnull()) | \\\n",
    " (df['Rating 2'].notnull()) | \\\n",
    " (df['Rating 3'].notnull()) | \\\n",
    " (df['Rating 4'].notnull()) | \\\n",
    " (df['Rating 5'].notnull())\n",
    "].mean(axis=1)"
   ]
  },
  {
   "cell_type": "code",
   "execution_count": 463,
   "id": "c74b61c5",
   "metadata": {},
   "outputs": [],
   "source": [
    "df['reviewCount'] = df[['Number Review 1', 'Number Review 2', 'Number Review 3', 'Number Review 4', 'Number Review 5']]\\\n",
    "[(df['Number Review 1'].notnull()) | \\\n",
    " (df['Number Review 2'].notnull()) | \\\n",
    " (df['Number Review 3'].notnull()) | \\\n",
    " (df['Number Review 4'].notnull()) | \\\n",
    " (df['Number Review 5'].notnull())\n",
    "].count(axis=1).astype(int)"
   ]
  },
  {
   "cell_type": "code",
   "execution_count": 482,
   "id": "342f8c8d",
   "metadata": {},
   "outputs": [],
   "source": [
    "def get_price_id(value):\n",
    "    return int(price[:][price['amount'] == value]['id'].values[0])"
   ]
  },
  {
   "cell_type": "code",
   "execution_count": 483,
   "id": "939123e6",
   "metadata": {},
   "outputs": [],
   "source": [
    "df['minPriceId'] = tempDf['minPrice'].apply(get_price_id).astype(int)\n",
    "df['maxPriceId'] = tempDf['maxPrice'].apply(get_price_id).astype(int)\n",
    "df['averagePriceId'] = tempDf['avgPrice'].apply(get_price_id).astype(int)"
   ]
  },
  {
   "cell_type": "code",
   "execution_count": 466,
   "id": "8fb33d29",
   "metadata": {},
   "outputs": [],
   "source": [
    "newDf = df[['Name', 'E-Tickets', 'Description', 'ID', 'avgRating', 'reviewCount', \\\n",
    "           'minPriceId', 'maxPriceId', 'averagePriceId']]"
   ]
  },
  {
   "cell_type": "code",
   "execution_count": 467,
   "id": "5a7ecd7c",
   "metadata": {},
   "outputs": [],
   "source": [
    "columns = ['createdDate', 'updatedDate', 'internalNote', 'creatorId', 'statusId', \\\n",
    "          'slug', 'shortDescription', 'alternativeName', 'mainImageId']"
   ]
  },
  {
   "cell_type": "code",
   "execution_count": 468,
   "id": "5ef57567",
   "metadata": {},
   "outputs": [],
   "source": [
    "newDf = pd.concat([newDf, pd.DataFrame(columns = columns)])"
   ]
  },
  {
   "cell_type": "code",
   "execution_count": 469,
   "id": "e263ca29",
   "metadata": {},
   "outputs": [],
   "source": [
    "newDf.rename(columns = {'Name':'name', 'E-Tickets' : 'onlineTicketUrl', \\\n",
    "                    'Description' : 'description', 'ID' : 'id', 'avgRating' : 'averageRating'}, inplace = True)"
   ]
  },
  {
   "cell_type": "code",
   "execution_count": 470,
   "id": "703c7e95",
   "metadata": {},
   "outputs": [],
   "source": [
    "import random\n",
    "import time\n",
    " \n",
    " \n",
    "def str_time_prop(start, end, time_format, prop):\n",
    "    stime = time.mktime(time.strptime(start, time_format))\n",
    "    etime = time.mktime(time.strptime(end, time_format))\n",
    "    ptime = stime + prop * (etime - stime)\n",
    "    return time.strftime(time_format, time.localtime(ptime))\n",
    " \n",
    " \n",
    "def random_date(start, end, prop):\n",
    "    return str_time_prop(start, end, '%Y-%m-%d', prop)\n",
    " "
   ]
  },
  {
   "cell_type": "code",
   "execution_count": 471,
   "id": "2ac5d4ef",
   "metadata": {},
   "outputs": [],
   "source": [
    "newDf['createdDate'] = [random_date(\"2021-1-1\", \"2022-4-30\", random.random()) for i in range(1, newDf.shape[0] + 1)]\n",
    "newDf['updatedDate'] = [random_date(\"2021-1-1\", \"2022-4-30\", random.random()) for i in range(1, newDf.shape[0] + 1)]\n",
    "newDf['internalNote'] = ''\n",
    "newDf['statusId'] = 4\n",
    "newDf['creatorId'] = 900\n",
    "newDf['id'] = newDf.id.astype(int)"
   ]
  },
  {
   "cell_type": "code",
   "execution_count": 472,
   "id": "3e1d3413",
   "metadata": {},
   "outputs": [],
   "source": [
    "def set_slug(value):\n",
    "    try:\n",
    "        return slugify(str(value))\n",
    "    except:\n",
    "        return ''\n",
    "\n",
    "newDf['slug'] = newDf['name'].apply(set_slug)"
   ]
  },
  {
   "cell_type": "code",
   "execution_count": 473,
   "id": "186eae47",
   "metadata": {},
   "outputs": [],
   "source": [
    "def get_short_description(value):\n",
    "    return str(value)[:200]\n",
    "\n",
    "newDf['shortDescription'] = newDf['description'].apply(get_short_description)"
   ]
  },
  {
   "cell_type": "code",
   "execution_count": 474,
   "id": "f0f7e5ee",
   "metadata": {},
   "outputs": [],
   "source": [
    "def get_alternative_name(value):\n",
    "    temp = value.split(' ')\n",
    "    return ', '.join(str(e) for e in temp)\n",
    "\n",
    "newDf['alternativeName'] = newDf['name'].apply(get_alternative_name)"
   ]
  },
  {
   "cell_type": "code",
   "execution_count": 475,
   "id": "0822f8ff",
   "metadata": {},
   "outputs": [],
   "source": [
    "def get_main_image_id(value):\n",
    "    try:\n",
    "        tempName = str(value) + '_1'\n",
    "        return images[:][images['name'].str.contains(tempName)]['id'].values[0]\n",
    "    except:\n",
    "        return ''\n",
    "    \n",
    "newDf['mainImageId'] = df['ID'].apply(get_main_image_id)"
   ]
  },
  {
   "cell_type": "code",
   "execution_count": 485,
   "id": "1e811457",
   "metadata": {},
   "outputs": [
    {
     "data": {
      "text/html": [
       "<div>\n",
       "<style scoped>\n",
       "    .dataframe tbody tr th:only-of-type {\n",
       "        vertical-align: middle;\n",
       "    }\n",
       "\n",
       "    .dataframe tbody tr th {\n",
       "        vertical-align: top;\n",
       "    }\n",
       "\n",
       "    .dataframe thead th {\n",
       "        text-align: right;\n",
       "    }\n",
       "</style>\n",
       "<table border=\"1\" class=\"dataframe\">\n",
       "  <thead>\n",
       "    <tr style=\"text-align: right;\">\n",
       "      <th></th>\n",
       "      <th>amount</th>\n",
       "      <th>currencyId</th>\n",
       "      <th>ID</th>\n",
       "      <th>id</th>\n",
       "      <th>amountMainCurrency</th>\n",
       "      <th>mainCurrencyId</th>\n",
       "    </tr>\n",
       "  </thead>\n",
       "  <tbody>\n",
       "    <tr>\n",
       "      <th>0</th>\n",
       "      <td>350000</td>\n",
       "      <td>IDR</td>\n",
       "      <td>1</td>\n",
       "      <td>1</td>\n",
       "      <td>350000</td>\n",
       "      <td>IDR</td>\n",
       "    </tr>\n",
       "    <tr>\n",
       "      <th>1</th>\n",
       "      <td>25</td>\n",
       "      <td>USD</td>\n",
       "      <td>2</td>\n",
       "      <td>2</td>\n",
       "      <td>25</td>\n",
       "      <td>USD</td>\n",
       "    </tr>\n",
       "    <tr>\n",
       "      <th>2</th>\n",
       "      <td>350000</td>\n",
       "      <td>IDR</td>\n",
       "      <td>3</td>\n",
       "      <td>3</td>\n",
       "      <td>350000</td>\n",
       "      <td>IDR</td>\n",
       "    </tr>\n",
       "    <tr>\n",
       "      <th>3</th>\n",
       "      <td>450000</td>\n",
       "      <td>IDR</td>\n",
       "      <td>4</td>\n",
       "      <td>4</td>\n",
       "      <td>450000</td>\n",
       "      <td>IDR</td>\n",
       "    </tr>\n",
       "    <tr>\n",
       "      <th>4</th>\n",
       "      <td>843000</td>\n",
       "      <td>IDR</td>\n",
       "      <td>5</td>\n",
       "      <td>5</td>\n",
       "      <td>843000</td>\n",
       "      <td>IDR</td>\n",
       "    </tr>\n",
       "  </tbody>\n",
       "</table>\n",
       "</div>"
      ],
      "text/plain": [
       "   amount currencyId  ID  id amountMainCurrency mainCurrencyId\n",
       "0  350000        IDR   1   1             350000            IDR\n",
       "1      25        USD   2   2                 25            USD\n",
       "2  350000        IDR   3   3             350000            IDR\n",
       "3  450000        IDR   4   4             450000            IDR\n",
       "4  843000        IDR   5   5             843000            IDR"
      ]
     },
     "execution_count": 485,
     "metadata": {},
     "output_type": "execute_result"
    }
   ],
   "source": [
    "price.head()"
   ]
  },
  {
   "cell_type": "code",
   "execution_count": 481,
   "id": "862f25e9",
   "metadata": {},
   "outputs": [],
   "source": [
    "newDf.to_csv('out/products.csv', index=False, encoding='utf-8')\n",
    "price.to_csv('out/price.csv', index=False, encoding='utf-8')"
   ]
  },
  {
   "cell_type": "code",
   "execution_count": null,
   "id": "5cdeb850",
   "metadata": {},
   "outputs": [],
   "source": []
  }
 ],
 "metadata": {
  "kernelspec": {
   "display_name": "Python 3 (ipykernel)",
   "language": "python",
   "name": "python3"
  },
  "language_info": {
   "codemirror_mode": {
    "name": "ipython",
    "version": 3
   },
   "file_extension": ".py",
   "mimetype": "text/x-python",
   "name": "python",
   "nbconvert_exporter": "python",
   "pygments_lexer": "ipython3",
   "version": "3.9.7"
  }
 },
 "nbformat": 4,
 "nbformat_minor": 5
}
