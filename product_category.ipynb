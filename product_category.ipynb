{
 "cells": [
  {
   "cell_type": "code",
   "execution_count": 15,
   "id": "beadb2c7",
   "metadata": {},
   "outputs": [],
   "source": [
    "import pandas as pd"
   ]
  },
  {
   "cell_type": "code",
   "execution_count": 16,
   "id": "e02d0209",
   "metadata": {},
   "outputs": [],
   "source": [
    "df = pd.read_csv('csv/products.csv', encoding='utf-8')\n",
    "catDf = pd.read_csv('out/category.csv', encoding='utf-8')\n",
    "prodDf = pd.read_csv('out/products.csv', encoding='utf-8')"
   ]
  },
  {
   "cell_type": "code",
   "execution_count": 17,
   "id": "00d14627",
   "metadata": {},
   "outputs": [],
   "source": [
    "tempDf = pd.DataFrame(columns=['productId', 'categoryId'])\n",
    "tempDf1 = pd.DataFrame(columns=['productId', 'categoryId'])"
   ]
  },
  {
   "cell_type": "code",
   "execution_count": 18,
   "id": "126e29b1",
   "metadata": {},
   "outputs": [],
   "source": [
    "def set_category_product(value):\n",
    "    try:\n",
    "        return catDf[:][catDf['name'] == df[:][df['Name'] == str(value)]['Category 1'].values[0]]['id'].values[0]\n",
    "    except:\n",
    "        return ''"
   ]
  },
  {
   "cell_type": "code",
   "execution_count": 19,
   "id": "163d0246",
   "metadata": {},
   "outputs": [],
   "source": [
    "def set_category2(value):\n",
    "    try:\n",
    "        return catDf[:][catDf['name'] == df[:][df['Name'] == str(value)]['Category 2'].values[0]]['id'].values[0]\n",
    "    except:\n",
    "        return ''"
   ]
  },
  {
   "cell_type": "code",
   "execution_count": 20,
   "id": "21ef9fd1",
   "metadata": {},
   "outputs": [],
   "source": [
    "def set_product(value):\n",
    "    try:\n",
    "        return prodDf[:][prodDf['id'] == df[:][df['ID'] == int(value)]['ID'].values[0]]['id'].values[0]\n",
    "    except:\n",
    "        return ''"
   ]
  },
  {
   "cell_type": "code",
   "execution_count": 21,
   "id": "27482dc8",
   "metadata": {},
   "outputs": [],
   "source": [
    "tempDf[\"categoryId\"] = df[\"Name\"].apply(set_category_product)\n",
    "tempDf[\"productId\"] = df[\"ID\"].apply(set_product)"
   ]
  },
  {
   "cell_type": "code",
   "execution_count": 22,
   "id": "fb84a897",
   "metadata": {},
   "outputs": [],
   "source": [
    "tempDf1[\"categoryId\"] = df[\"Name\"].apply(set_category2)\n",
    "tempDf1[\"productId\"] = df[\"ID\"].apply(set_product)"
   ]
  },
  {
   "cell_type": "code",
   "execution_count": 23,
   "id": "2404aed9",
   "metadata": {},
   "outputs": [],
   "source": [
    "newDf = pd.concat([tempDf, tempDf1])"
   ]
  },
  {
   "cell_type": "code",
   "execution_count": 24,
   "id": "61110c93",
   "metadata": {},
   "outputs": [],
   "source": [
    "newDf = newDf.drop_duplicates()"
   ]
  },
  {
   "cell_type": "code",
   "execution_count": 25,
   "id": "ddd0528d",
   "metadata": {},
   "outputs": [],
   "source": [
    "newDf = newDf[:][(newDf['categoryId'] != '') & (newDf['productId'] != '')]"
   ]
  },
  {
   "cell_type": "code",
   "execution_count": 26,
   "id": "9ae69098",
   "metadata": {},
   "outputs": [],
   "source": [
    "newDf.to_csv('out/product_categories.csv', index=False, encoding='utf-8')"
   ]
  },
  {
   "cell_type": "code",
   "execution_count": 27,
   "id": "e5984f8e",
   "metadata": {},
   "outputs": [
    {
     "data": {
      "text/html": [
       "<div>\n",
       "<style scoped>\n",
       "    .dataframe tbody tr th:only-of-type {\n",
       "        vertical-align: middle;\n",
       "    }\n",
       "\n",
       "    .dataframe tbody tr th {\n",
       "        vertical-align: top;\n",
       "    }\n",
       "\n",
       "    .dataframe thead th {\n",
       "        text-align: right;\n",
       "    }\n",
       "</style>\n",
       "<table border=\"1\" class=\"dataframe\">\n",
       "  <thead>\n",
       "    <tr style=\"text-align: right;\">\n",
       "      <th></th>\n",
       "      <th>productId</th>\n",
       "      <th>categoryId</th>\n",
       "    </tr>\n",
       "  </thead>\n",
       "  <tbody>\n",
       "  </tbody>\n",
       "</table>\n",
       "</div>"
      ],
      "text/plain": [
       "Empty DataFrame\n",
       "Columns: [productId, categoryId]\n",
       "Index: []"
      ]
     },
     "execution_count": 27,
     "metadata": {},
     "output_type": "execute_result"
    }
   ],
   "source": [
    "newDf"
   ]
  },
  {
   "cell_type": "code",
   "execution_count": null,
   "id": "4918a543",
   "metadata": {},
   "outputs": [],
   "source": []
  }
 ],
 "metadata": {
  "kernelspec": {
   "display_name": "Python 3 (ipykernel)",
   "language": "python",
   "name": "python3"
  },
  "language_info": {
   "codemirror_mode": {
    "name": "ipython",
    "version": 3
   },
   "file_extension": ".py",
   "mimetype": "text/x-python",
   "name": "python",
   "nbconvert_exporter": "python",
   "pygments_lexer": "ipython3",
   "version": "3.9.15"
  }
 },
 "nbformat": 4,
 "nbformat_minor": 5
}
