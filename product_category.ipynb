{
 "cells": [
  {
   "cell_type": "code",
   "execution_count": 1,
   "id": "beadb2c7",
   "metadata": {},
   "outputs": [],
   "source": [
    "import pandas as pd"
   ]
  },
  {
   "cell_type": "code",
   "execution_count": 2,
   "id": "e02d0209",
   "metadata": {},
   "outputs": [],
   "source": [
    "df = pd.read_csv('csv/products.csv', encoding='utf-8', delimiter=';')\n",
    "catDf = pd.read_csv('out/category.csv', encoding='utf-8')\n",
    "prodDf = pd.read_csv('out/products.csv', encoding='utf-8')"
   ]
  },
  {
   "cell_type": "code",
   "execution_count": 16,
   "id": "c60c95af",
   "metadata": {},
   "outputs": [
    {
     "data": {
      "text/html": [
       "<div>\n",
       "<style scoped>\n",
       "    .dataframe tbody tr th:only-of-type {\n",
       "        vertical-align: middle;\n",
       "    }\n",
       "\n",
       "    .dataframe tbody tr th {\n",
       "        vertical-align: top;\n",
       "    }\n",
       "\n",
       "    .dataframe thead th {\n",
       "        text-align: right;\n",
       "    }\n",
       "</style>\n",
       "<table border=\"1\" class=\"dataframe\">\n",
       "  <thead>\n",
       "    <tr style=\"text-align: right;\">\n",
       "      <th></th>\n",
       "      <th>name</th>\n",
       "      <th>id</th>\n",
       "      <th>createdDate</th>\n",
       "      <th>updatedDate</th>\n",
       "      <th>statusId</th>\n",
       "      <th>image</th>\n",
       "      <th>color</th>\n",
       "      <th>order</th>\n",
       "      <th>internalNote</th>\n",
       "    </tr>\n",
       "  </thead>\n",
       "  <tbody>\n",
       "    <tr>\n",
       "      <th>0</th>\n",
       "      <td>Adventures</td>\n",
       "      <td>1</td>\n",
       "      <td>2022-05-29 19:52:26</td>\n",
       "      <td>2022-05-29 19:52:26</td>\n",
       "      <td>7</td>\n",
       "      <td>fa-fire</td>\n",
       "      <td>text-orange</td>\n",
       "      <td>1</td>\n",
       "      <td>NaN</td>\n",
       "    </tr>\n",
       "    <tr>\n",
       "      <th>1</th>\n",
       "      <td>Transport</td>\n",
       "      <td>2</td>\n",
       "      <td>2022-05-29 19:52:26</td>\n",
       "      <td>2022-05-29 19:52:26</td>\n",
       "      <td>7</td>\n",
       "      <td>fa-bus</td>\n",
       "      <td>text-purple</td>\n",
       "      <td>2</td>\n",
       "      <td>NaN</td>\n",
       "    </tr>\n",
       "    <tr>\n",
       "      <th>2</th>\n",
       "      <td>Museums &amp; Sights</td>\n",
       "      <td>3</td>\n",
       "      <td>2022-05-29 19:52:26</td>\n",
       "      <td>2022-05-29 19:52:26</td>\n",
       "      <td>7</td>\n",
       "      <td>fa-hotel</td>\n",
       "      <td>text-greenGrass</td>\n",
       "      <td>3</td>\n",
       "      <td>NaN</td>\n",
       "    </tr>\n",
       "    <tr>\n",
       "      <th>3</th>\n",
       "      <td>WIFI &amp; SIM</td>\n",
       "      <td>4</td>\n",
       "      <td>2022-05-29 19:52:26</td>\n",
       "      <td>2022-05-29 19:52:26</td>\n",
       "      <td>7</td>\n",
       "      <td>fa-sim-card</td>\n",
       "      <td>text-gold</td>\n",
       "      <td>4</td>\n",
       "      <td>NaN</td>\n",
       "    </tr>\n",
       "  </tbody>\n",
       "</table>\n",
       "</div>"
      ],
      "text/plain": [
       "               name  id          createdDate          updatedDate  statusId  \\\n",
       "0        Adventures   1  2022-05-29 19:52:26  2022-05-29 19:52:26         7   \n",
       "1         Transport   2  2022-05-29 19:52:26  2022-05-29 19:52:26         7   \n",
       "2  Museums & Sights   3  2022-05-29 19:52:26  2022-05-29 19:52:26         7   \n",
       "3        WIFI & SIM   4  2022-05-29 19:52:26  2022-05-29 19:52:26         7   \n",
       "\n",
       "         image            color  order  internalNote  \n",
       "0      fa-fire      text-orange      1           NaN  \n",
       "1       fa-bus      text-purple      2           NaN  \n",
       "2     fa-hotel  text-greenGrass      3           NaN  \n",
       "3  fa-sim-card        text-gold      4           NaN  "
      ]
     },
     "execution_count": 16,
     "metadata": {},
     "output_type": "execute_result"
    }
   ],
   "source": [
    "catDf"
   ]
  },
  {
   "cell_type": "code",
   "execution_count": 3,
   "id": "00d14627",
   "metadata": {},
   "outputs": [],
   "source": [
    "tempDf = pd.DataFrame(columns=['productId', 'categoryId'])\n",
    "tempDf1 = pd.DataFrame(columns=['productId', 'categoryId'])"
   ]
  },
  {
   "cell_type": "code",
   "execution_count": 4,
   "id": "126e29b1",
   "metadata": {},
   "outputs": [],
   "source": [
    "def set_category_product(value):\n",
    "    try:\n",
    "        return catDf[:][catDf['name'] == df[:][df['Name'] == str(value)]['Category 1'].values[0]]['id'].values[0]\n",
    "    except:\n",
    "        return ''"
   ]
  },
  {
   "cell_type": "code",
   "execution_count": 5,
   "id": "163d0246",
   "metadata": {},
   "outputs": [],
   "source": [
    "def set_category2(value):\n",
    "    try:\n",
    "        return catDf[:][catDf['name'] == df[:][df['Name'] == str(value)]['Category 2'].values[0]]['id'].values[0]\n",
    "    except:\n",
    "        return ''"
   ]
  },
  {
   "cell_type": "code",
   "execution_count": 6,
   "id": "21ef9fd1",
   "metadata": {},
   "outputs": [],
   "source": [
    "def set_product(value):\n",
    "    try:\n",
    "        return prodDf[:][prodDf['name'] == df[:][df['Name'] == str(value)]['Name'].values[0]]['id'].values[0]\n",
    "    except:\n",
    "        return ''"
   ]
  },
  {
   "cell_type": "code",
   "execution_count": 7,
   "id": "27482dc8",
   "metadata": {},
   "outputs": [],
   "source": [
    "tempDf[\"categoryId\"] = df[\"Name\"].apply(set_category_product)\n",
    "tempDf[\"productId\"] = df[\"Name\"].apply(set_product)"
   ]
  },
  {
   "cell_type": "code",
   "execution_count": 8,
   "id": "fb84a897",
   "metadata": {},
   "outputs": [],
   "source": [
    "tempDf1[\"categoryId\"] = df[\"Name\"].apply(set_category2)\n",
    "tempDf1[\"productId\"] = df[\"Name\"].apply(set_product)"
   ]
  },
  {
   "cell_type": "code",
   "execution_count": 9,
   "id": "2404aed9",
   "metadata": {},
   "outputs": [],
   "source": [
    "newDf = pd.concat([tempDf, tempDf1])"
   ]
  },
  {
   "cell_type": "code",
   "execution_count": 10,
   "id": "61110c93",
   "metadata": {},
   "outputs": [],
   "source": [
    "newDf = newDf.drop_duplicates()"
   ]
  },
  {
   "cell_type": "code",
   "execution_count": 11,
   "id": "ddd0528d",
   "metadata": {},
   "outputs": [],
   "source": [
    "newDf = newDf[:][(newDf['categoryId'] != '') & (newDf['productId'] != '')]"
   ]
  },
  {
   "cell_type": "code",
   "execution_count": 13,
   "id": "9ae69098",
   "metadata": {},
   "outputs": [],
   "source": [
    "newDf.to_csv('out/product_categories.csv', index=False, encoding='utf-8')"
   ]
  },
  {
   "cell_type": "code",
   "execution_count": 14,
   "id": "e5984f8e",
   "metadata": {},
   "outputs": [
    {
     "data": {
      "text/plain": [
       "(1876, 2)"
      ]
     },
     "execution_count": 14,
     "metadata": {},
     "output_type": "execute_result"
    }
   ],
   "source": [
    "newDf.shape"
   ]
  },
  {
   "cell_type": "code",
   "execution_count": null,
   "id": "4918a543",
   "metadata": {},
   "outputs": [],
   "source": []
  }
 ],
 "metadata": {
  "kernelspec": {
   "display_name": "Python 3 (ipykernel)",
   "language": "python",
   "name": "python3"
  },
  "language_info": {
   "codemirror_mode": {
    "name": "ipython",
    "version": 3
   },
   "file_extension": ".py",
   "mimetype": "text/x-python",
   "name": "python",
   "nbconvert_exporter": "python",
   "pygments_lexer": "ipython3",
   "version": "3.9.7"
  }
 },
 "nbformat": 4,
 "nbformat_minor": 5
}
