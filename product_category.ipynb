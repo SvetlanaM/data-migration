{
 "cells": [
  {
   "cell_type": "code",
   "execution_count": 1,
   "id": "beadb2c7",
   "metadata": {},
   "outputs": [],
   "source": [
    "import pandas as pd"
   ]
  },
  {
   "cell_type": "code",
   "execution_count": 2,
   "id": "e02d0209",
   "metadata": {},
   "outputs": [],
   "source": [
    "df = pd.read_csv('csv/products.csv', encoding='utf-8')\n",
    "catDf = pd.read_csv('out/category.csv', encoding='utf-8')\n",
    "prodDf = pd.read_csv('out/products.csv', encoding='utf-8')"
   ]
  },
  {
   "cell_type": "code",
   "execution_count": 3,
   "id": "00d14627",
   "metadata": {},
   "outputs": [],
   "source": [
    "tempDf = pd.DataFrame(columns=['productId', 'categoryId'])\n",
    "tempDf1 = pd.DataFrame(columns=['productId', 'categoryId'])"
   ]
  },
  {
   "cell_type": "code",
   "execution_count": 4,
   "id": "126e29b1",
   "metadata": {},
   "outputs": [],
   "source": [
    "def set_category_product(value):\n",
    "    try:\n",
    "        return catDf[:][catDf['name'] == df[:][df['Name'] == str(value)]['Category 1'].values[0]]['id'].values[0]\n",
    "    except:\n",
    "        return ''"
   ]
  },
  {
   "cell_type": "code",
   "execution_count": 5,
   "id": "163d0246",
   "metadata": {},
   "outputs": [],
   "source": [
    "def set_category2(value):\n",
    "    try:\n",
    "        return catDf[:][catDf['name'] == df[:][df['Name'] == str(value)]['Category 2'].values[0]]['id'].values[0]\n",
    "    except:\n",
    "        return ''"
   ]
  },
  {
   "cell_type": "code",
   "execution_count": 6,
   "id": "21ef9fd1",
   "metadata": {},
   "outputs": [],
   "source": [
    "def set_product(value):\n",
    "    try:\n",
    "        return prodDf[:][prodDf['name'] == df[:][df['Name'] == str(value)]['Name'].values[0]]['id'].values[0]\n",
    "    except:\n",
    "        return ''"
   ]
  },
  {
   "cell_type": "code",
   "execution_count": 7,
   "id": "27482dc8",
   "metadata": {},
   "outputs": [],
   "source": [
    "tempDf[\"categoryId\"] = df[\"Name\"].apply(set_category_product)\n",
    "tempDf[\"productId\"] = df[\"Name\"].apply(set_product)"
   ]
  },
  {
   "cell_type": "code",
   "execution_count": 8,
   "id": "fb84a897",
   "metadata": {},
   "outputs": [],
   "source": [
    "tempDf1[\"categoryId\"] = df[\"Name\"].apply(set_category2)\n",
    "tempDf1[\"productId\"] = df[\"Name\"].apply(set_product)"
   ]
  },
  {
   "cell_type": "code",
   "execution_count": 9,
   "id": "2404aed9",
   "metadata": {},
   "outputs": [],
   "source": [
    "newDf = pd.concat([tempDf, tempDf1])"
   ]
  },
  {
   "cell_type": "code",
   "execution_count": 10,
   "id": "61110c93",
   "metadata": {},
   "outputs": [],
   "source": [
    "newDf = newDf.drop_duplicates()"
   ]
  },
  {
   "cell_type": "code",
   "execution_count": 11,
   "id": "ddd0528d",
   "metadata": {},
   "outputs": [],
   "source": [
    "newDf = newDf[:][(newDf['categoryId'] != '') & (newDf['productId'] != '')]"
   ]
  },
  {
   "cell_type": "code",
   "execution_count": 12,
   "id": "9ae69098",
   "metadata": {},
   "outputs": [],
   "source": [
    "newDf.to_csv('out/product_categories.csv', index=False, encoding='utf-8')"
   ]
  },
  {
   "cell_type": "code",
   "execution_count": 13,
   "id": "e5984f8e",
   "metadata": {},
   "outputs": [
    {
     "data": {
      "text/plain": [
       "(1877, 2)"
      ]
     },
     "execution_count": 13,
     "metadata": {},
     "output_type": "execute_result"
    }
   ],
   "source": [
    "newDf.shape"
   ]
  },
  {
   "cell_type": "code",
   "execution_count": null,
   "id": "4918a543",
   "metadata": {},
   "outputs": [],
   "source": []
  }
 ],
 "metadata": {
  "kernelspec": {
   "display_name": "Python 3 (ipykernel)",
   "language": "python",
   "name": "python3"
  },
  "language_info": {
   "codemirror_mode": {
    "name": "ipython",
    "version": 3
   },
   "file_extension": ".py",
   "mimetype": "text/x-python",
   "name": "python",
   "nbconvert_exporter": "python",
   "pygments_lexer": "ipython3",
   "version": "3.9.7"
  }
 },
 "nbformat": 4,
 "nbformat_minor": 5
}
