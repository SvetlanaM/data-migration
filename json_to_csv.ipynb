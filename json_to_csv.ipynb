{
 "cells": [
  {
   "cell_type": "code",
   "execution_count": 3,
   "id": "a526838f",
   "metadata": {},
   "outputs": [],
   "source": [
    "import json\n",
    "import csv"
   ]
  },
  {
   "cell_type": "code",
   "execution_count": 4,
   "id": "f385d6bd",
   "metadata": {},
   "outputs": [],
   "source": [
    "with open('json/common.json') as json_file:\n",
    "    data = json.load(json_file)"
   ]
  },
  {
   "cell_type": "code",
   "execution_count": 5,
   "id": "8c67b5c5",
   "metadata": {},
   "outputs": [],
   "source": [
    "data_file = open('out/common.csv', 'w')"
   ]
  },
  {
   "cell_type": "code",
   "execution_count": 6,
   "id": "9d2b5919",
   "metadata": {},
   "outputs": [],
   "source": [
    "csv_writer = csv.writer(data_file)"
   ]
  },
  {
   "cell_type": "code",
   "execution_count": 7,
   "id": "c4041f8d",
   "metadata": {},
   "outputs": [],
   "source": [
    "count = 0\n",
    " \n",
    "for d in data:\n",
    "    if count == 0:\n",
    "        header = ['key', 'value']\n",
    "        csv_writer.writerow(header)\n",
    "        count += 1\n",
    "    csv_writer.writerow([d, data[d]])\n",
    "        \n",
    " \n"
   ]
  },
  {
   "cell_type": "code",
   "execution_count": 8,
   "id": "c4608972",
   "metadata": {},
   "outputs": [],
   "source": [
    "data_file.close()"
   ]
  },
  {
   "cell_type": "code",
   "execution_count": 11,
   "id": "b8fd42af",
   "metadata": {},
   "outputs": [],
   "source": [
    "def csv_to_json(csv_file_path, json_file_path):\n",
    "    data = {}\n",
    "    \n",
    "    # Read the CSV file\n",
    "    with open(csv_file_path, 'r') as csv_file:\n",
    "        csv_data = csv.reader(csv_file)\n",
    "        \n",
    "        # Convert CSV rows to dictionary\n",
    "        for row in csv_data:\n",
    "            key = row[0]\n",
    "            value = row[1]\n",
    "            data[key] = value\n",
    "    \n",
    "    # Write the JSON data to a file\n",
    "    with open(json_file_path, 'w') as json_file:\n",
    "        json.dump(data, json_file, indent=4)"
   ]
  },
  {
   "cell_type": "code",
   "execution_count": 12,
   "id": "5b49bca2",
   "metadata": {},
   "outputs": [],
   "source": [
    "# Provide the paths to the CSV and JSON files\n",
    "csv_file_path = 'csv/updated_common.csv'\n",
    "json_file_path = 'json/updated_common.json'\n",
    "\n",
    "# Convert CSV to JSON\n",
    "csv_to_json(csv_file_path, json_file_path)"
   ]
  },
  {
   "cell_type": "code",
   "execution_count": null,
   "id": "263d0953",
   "metadata": {},
   "outputs": [],
   "source": []
  }
 ],
 "metadata": {
  "kernelspec": {
   "display_name": "Python 3 (ipykernel)",
   "language": "python",
   "name": "python3"
  },
  "language_info": {
   "codemirror_mode": {
    "name": "ipython",
    "version": 3
   },
   "file_extension": ".py",
   "mimetype": "text/x-python",
   "name": "python",
   "nbconvert_exporter": "python",
   "pygments_lexer": "ipython3",
   "version": "3.9.15"
  }
 },
 "nbformat": 4,
 "nbformat_minor": 5
}
