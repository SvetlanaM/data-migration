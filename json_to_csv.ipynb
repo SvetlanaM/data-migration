{
 "cells": [
  {
   "cell_type": "code",
   "execution_count": 1,
   "id": "a526838f",
   "metadata": {},
   "outputs": [],
   "source": [
    "import json\n",
    "import csv"
   ]
  },
  {
   "cell_type": "code",
   "execution_count": 2,
   "id": "f385d6bd",
   "metadata": {},
   "outputs": [],
   "source": [
    "with open('json/common.json') as json_file:\n",
    "    data = json.load(json_file)"
   ]
  },
  {
   "cell_type": "code",
   "execution_count": 3,
   "id": "8c67b5c5",
   "metadata": {},
   "outputs": [],
   "source": [
    "data_file = open('out/common.csv', 'w')"
   ]
  },
  {
   "cell_type": "code",
   "execution_count": 4,
   "id": "9d2b5919",
   "metadata": {},
   "outputs": [],
   "source": [
    "csv_writer = csv.writer(data_file)"
   ]
  },
  {
   "cell_type": "code",
   "execution_count": 5,
   "id": "c4041f8d",
   "metadata": {},
   "outputs": [],
   "source": [
    "count = 0\n",
    " \n",
    "for d in data:\n",
    "    if count == 0:\n",
    "        header = ['key', 'value']\n",
    "        csv_writer.writerow(header)\n",
    "        count += 1\n",
    "    csv_writer.writerow([d, data[d]])\n",
    "        \n",
    " \n"
   ]
  },
  {
   "cell_type": "code",
   "execution_count": 6,
   "id": "c4608972",
   "metadata": {},
   "outputs": [],
   "source": [
    "data_file.close()"
   ]
  },
  {
   "cell_type": "code",
   "execution_count": null,
   "id": "b8fd42af",
   "metadata": {},
   "outputs": [],
   "source": []
  }
 ],
 "metadata": {
  "kernelspec": {
   "display_name": "Python 3 (ipykernel)",
   "language": "python",
   "name": "python3"
  },
  "language_info": {
   "codemirror_mode": {
    "name": "ipython",
    "version": 3
   },
   "file_extension": ".py",
   "mimetype": "text/x-python",
   "name": "python",
   "nbconvert_exporter": "python",
   "pygments_lexer": "ipython3",
   "version": "3.9.7"
  }
 },
 "nbformat": 4,
 "nbformat_minor": 5
}
