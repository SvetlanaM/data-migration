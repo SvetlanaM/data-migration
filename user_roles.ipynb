{
 "cells": [
  {
   "cell_type": "code",
   "execution_count": 1,
   "id": "41122391",
   "metadata": {},
   "outputs": [],
   "source": [
    "import pandas as pd"
   ]
  },
  {
   "cell_type": "code",
   "execution_count": 2,
   "id": "314a630e",
   "metadata": {},
   "outputs": [],
   "source": [
    "users = pd.read_csv('out/users.csv')"
   ]
  },
  {
   "cell_type": "code",
   "execution_count": 3,
   "id": "ad7229a4",
   "metadata": {},
   "outputs": [],
   "source": [
    "tempDf = pd.DataFrame(columns=['userId', 'roleId'])"
   ]
  },
  {
   "cell_type": "code",
   "execution_count": 4,
   "id": "cb1cc393",
   "metadata": {},
   "outputs": [],
   "source": [
    "tempDf['userId'] = users['id']"
   ]
  },
  {
   "cell_type": "code",
   "execution_count": 5,
   "id": "ff7df58d",
   "metadata": {},
   "outputs": [],
   "source": [
    "tempDf['roleId'] = 1"
   ]
  },
  {
   "cell_type": "code",
   "execution_count": 6,
   "id": "8adb8248",
   "metadata": {},
   "outputs": [],
   "source": [
    "tempDf.to_csv('out/user_roles.csv', encoding='utf-8', index=False)"
   ]
  },
  {
   "cell_type": "code",
   "execution_count": 7,
   "id": "f38555c9",
   "metadata": {},
   "outputs": [
    {
     "data": {
      "text/plain": [
       "(2447, 2)"
      ]
     },
     "execution_count": 7,
     "metadata": {},
     "output_type": "execute_result"
    }
   ],
   "source": [
    "tempDf.shape"
   ]
  },
  {
   "cell_type": "code",
   "execution_count": null,
   "id": "564beaf6",
   "metadata": {},
   "outputs": [],
   "source": []
  }
 ],
 "metadata": {
  "kernelspec": {
   "display_name": "Python 3 (ipykernel)",
   "language": "python",
   "name": "python3"
  },
  "language_info": {
   "codemirror_mode": {
    "name": "ipython",
    "version": 3
   },
   "file_extension": ".py",
   "mimetype": "text/x-python",
   "name": "python",
   "nbconvert_exporter": "python",
   "pygments_lexer": "ipython3",
   "version": "3.9.15"
  }
 },
 "nbformat": 4,
 "nbformat_minor": 5
}
