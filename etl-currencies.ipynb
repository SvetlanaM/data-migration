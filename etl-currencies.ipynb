{
 "cells": [
  {
   "cell_type": "code",
   "execution_count": 1,
   "id": "baf239bd",
   "metadata": {},
   "outputs": [],
   "source": [
    "import pandas as pd"
   ]
  },
  {
   "cell_type": "code",
   "execution_count": 2,
   "id": "38043000",
   "metadata": {},
   "outputs": [],
   "source": [
    "curOrigDf = pd.read_csv(\"csv/currencies.csv\", encoding='utf-8')"
   ]
  },
  {
   "cell_type": "code",
   "execution_count": 5,
   "id": "22eec183",
   "metadata": {},
   "outputs": [],
   "source": [
    "curOrigDf.rename(columns = {'Currency code':'id', 'Currency name':'name', 'IsThousand': 'isThousands'}, inplace = True)"
   ]
  },
  {
   "cell_type": "code",
   "execution_count": 7,
   "id": "916ced68",
   "metadata": {},
   "outputs": [],
   "source": [
    "del curOrigDf['Country (Default)']"
   ]
  },
  {
   "cell_type": "code",
   "execution_count": 14,
   "id": "52745bc8",
   "metadata": {},
   "outputs": [],
   "source": [
    "curOrigDf['isMain'] = False\n",
    "curOrigDf['symbol'] = ''\n",
    "curOrigDf['decimalPlaces'] = 2\n",
    "curOrigDf['symbolHasSpace'] = False\n",
    "curOrigDf['symbolBeforeAmount'] = False"
   ]
  },
  {
   "cell_type": "code",
   "execution_count": 16,
   "id": "deadcc65",
   "metadata": {},
   "outputs": [],
   "source": [
    "curOrigDf = curOrigDf[['id', 'name', 'isMain', 'isThousands', 'symbol', 'decimalPlaces', 'symbolHasSpace', 'symbolBeforeAmount']]"
   ]
  },
  {
   "cell_type": "code",
   "execution_count": 20,
   "id": "67f8014d",
   "metadata": {},
   "outputs": [],
   "source": [
    "curOrigDf['isThousands'] = curOrigDf['isThousands'].replace(['N'],'False')\n",
    "curOrigDf['isThousands'] = curOrigDf['isThousands'].replace(['Y'],'True')"
   ]
  },
  {
   "cell_type": "code",
   "execution_count": 21,
   "id": "e3a34514",
   "metadata": {},
   "outputs": [
    {
     "data": {
      "text/html": [
       "<div>\n",
       "<style scoped>\n",
       "    .dataframe tbody tr th:only-of-type {\n",
       "        vertical-align: middle;\n",
       "    }\n",
       "\n",
       "    .dataframe tbody tr th {\n",
       "        vertical-align: top;\n",
       "    }\n",
       "\n",
       "    .dataframe thead th {\n",
       "        text-align: right;\n",
       "    }\n",
       "</style>\n",
       "<table border=\"1\" class=\"dataframe\">\n",
       "  <thead>\n",
       "    <tr style=\"text-align: right;\">\n",
       "      <th></th>\n",
       "      <th>id</th>\n",
       "      <th>name</th>\n",
       "      <th>isMain</th>\n",
       "      <th>isThousands</th>\n",
       "      <th>symbol</th>\n",
       "      <th>decimalPlaces</th>\n",
       "      <th>symbolHasSpace</th>\n",
       "      <th>symbolBeforeAmount</th>\n",
       "    </tr>\n",
       "  </thead>\n",
       "  <tbody>\n",
       "    <tr>\n",
       "      <th>0</th>\n",
       "      <td>AED</td>\n",
       "      <td>United Arab Emirates dirham</td>\n",
       "      <td>False</td>\n",
       "      <td>False</td>\n",
       "      <td></td>\n",
       "      <td>2</td>\n",
       "      <td>False</td>\n",
       "      <td>False</td>\n",
       "    </tr>\n",
       "  </tbody>\n",
       "</table>\n",
       "</div>"
      ],
      "text/plain": [
       "    id                         name  isMain isThousands symbol  decimalPlaces  \\\n",
       "0  AED  United Arab Emirates dirham   False       False                     2   \n",
       "\n",
       "   symbolHasSpace  symbolBeforeAmount  \n",
       "0           False               False  "
      ]
     },
     "execution_count": 21,
     "metadata": {},
     "output_type": "execute_result"
    }
   ],
   "source": [
    "curOrigDf.head(1)"
   ]
  },
  {
   "cell_type": "code",
   "execution_count": 22,
   "id": "bd7e8989",
   "metadata": {},
   "outputs": [],
   "source": [
    "curOrigDf.to_csv('currencies.csv', index=False, encoding='utf-8')"
   ]
  }
 ],
 "metadata": {
  "kernelspec": {
   "display_name": "Python 3 (ipykernel)",
   "language": "python",
   "name": "python3"
  },
  "language_info": {
   "codemirror_mode": {
    "name": "ipython",
    "version": 3
   },
   "file_extension": ".py",
   "mimetype": "text/x-python",
   "name": "python",
   "nbconvert_exporter": "python",
   "pygments_lexer": "ipython3",
   "version": "3.9.7"
  }
 },
 "nbformat": 4,
 "nbformat_minor": 5
}
