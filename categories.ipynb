{
 "cells": [
  {
   "cell_type": "code",
   "execution_count": 130,
   "id": "a5b85f75",
   "metadata": {},
   "outputs": [],
   "source": [
    "import pandas as pd\n",
    "from datetime import datetime"
   ]
  },
  {
   "cell_type": "code",
   "execution_count": 131,
   "id": "cbc9a5a9",
   "metadata": {},
   "outputs": [],
   "source": [
    "now = datetime.now()\n",
    "dt_string = now.strftime(\"%Y-%m-%d %H:%M:%S\")"
   ]
  },
  {
   "cell_type": "code",
   "execution_count": 132,
   "id": "7d2b69e0",
   "metadata": {},
   "outputs": [],
   "source": [
    "df = pd.read_csv(\"csv/products.csv\", encoding='utf-8')"
   ]
  },
  {
   "cell_type": "code",
   "execution_count": 133,
   "id": "7b8cd201",
   "metadata": {},
   "outputs": [
    {
     "data": {
      "text/plain": [
       "array(['Adventures', 'Transport', 'Museums & Sights', nan, 'WIFI & SIM'],\n",
       "      dtype=object)"
      ]
     },
     "execution_count": 133,
     "metadata": {},
     "output_type": "execute_result"
    }
   ],
   "source": [
    "df['Category 1' or 'Category 2'].unique()"
   ]
  },
  {
   "cell_type": "code",
   "execution_count": 134,
   "id": "0b727ecf",
   "metadata": {},
   "outputs": [],
   "source": [
    "newDf = pd.DataFrame(data = df['Category 1' or 'Category 2'].unique()).dropna()"
   ]
  },
  {
   "cell_type": "code",
   "execution_count": 135,
   "id": "b1f22b01",
   "metadata": {},
   "outputs": [],
   "source": [
    "columns = ['id', 'createdDate', 'updatedDate', 'statusId', 'image', 'color', 'order', 'internalNote']"
   ]
  },
  {
   "cell_type": "code",
   "execution_count": 136,
   "id": "4ff4af90",
   "metadata": {},
   "outputs": [],
   "source": [
    "newDf = pd.concat([newDf, pd.DataFrame(columns = columns)])"
   ]
  },
  {
   "cell_type": "code",
   "execution_count": 137,
   "id": "54680cd8",
   "metadata": {},
   "outputs": [],
   "source": [
    "newDf.rename(columns = {0:'name'}, inplace = True)"
   ]
  },
  {
   "cell_type": "code",
   "execution_count": 139,
   "id": "de249fe6",
   "metadata": {},
   "outputs": [],
   "source": [
    "newDf['id'] = [i for i in range(1, newDf.shape[0]+1)]\n",
    "newDf['order'] = [i for i in range(1, newDf.shape[0]+1)]\n",
    "newDf['createdDate'] = dt_string\n",
    "newDf['updatedDate'] = dt_string\n",
    "newDf['statusId'] = 7\n",
    "newDf['color'] = ['text-orange', 'text-purple', 'text-greenGrass', 'text-gold']\n",
    "newDf['image'] = ['fa-fire', 'fa-bus', 'fa-hotel', 'fa-sim-card']"
   ]
  },
  {
   "cell_type": "code",
   "execution_count": 140,
   "id": "806bd87c",
   "metadata": {},
   "outputs": [
    {
     "data": {
      "text/html": [
       "<div>\n",
       "<style scoped>\n",
       "    .dataframe tbody tr th:only-of-type {\n",
       "        vertical-align: middle;\n",
       "    }\n",
       "\n",
       "    .dataframe tbody tr th {\n",
       "        vertical-align: top;\n",
       "    }\n",
       "\n",
       "    .dataframe thead th {\n",
       "        text-align: right;\n",
       "    }\n",
       "</style>\n",
       "<table border=\"1\" class=\"dataframe\">\n",
       "  <thead>\n",
       "    <tr style=\"text-align: right;\">\n",
       "      <th></th>\n",
       "      <th>name</th>\n",
       "      <th>id</th>\n",
       "      <th>createdDate</th>\n",
       "      <th>updatedDate</th>\n",
       "      <th>statusId</th>\n",
       "      <th>image</th>\n",
       "      <th>color</th>\n",
       "      <th>order</th>\n",
       "      <th>internalNote</th>\n",
       "    </tr>\n",
       "  </thead>\n",
       "  <tbody>\n",
       "    <tr>\n",
       "      <th>0</th>\n",
       "      <td>Adventures</td>\n",
       "      <td>1</td>\n",
       "      <td>2022-05-29 19:52:26</td>\n",
       "      <td>2022-05-29 19:52:26</td>\n",
       "      <td>7</td>\n",
       "      <td>fa-fire</td>\n",
       "      <td>text-orange</td>\n",
       "      <td>1</td>\n",
       "      <td>NaN</td>\n",
       "    </tr>\n",
       "    <tr>\n",
       "      <th>1</th>\n",
       "      <td>Transport</td>\n",
       "      <td>2</td>\n",
       "      <td>2022-05-29 19:52:26</td>\n",
       "      <td>2022-05-29 19:52:26</td>\n",
       "      <td>7</td>\n",
       "      <td>fa-bus</td>\n",
       "      <td>text-purple</td>\n",
       "      <td>2</td>\n",
       "      <td>NaN</td>\n",
       "    </tr>\n",
       "    <tr>\n",
       "      <th>2</th>\n",
       "      <td>Museums &amp; Sights</td>\n",
       "      <td>3</td>\n",
       "      <td>2022-05-29 19:52:26</td>\n",
       "      <td>2022-05-29 19:52:26</td>\n",
       "      <td>7</td>\n",
       "      <td>fa-hotel</td>\n",
       "      <td>text-greenGrass</td>\n",
       "      <td>3</td>\n",
       "      <td>NaN</td>\n",
       "    </tr>\n",
       "    <tr>\n",
       "      <th>4</th>\n",
       "      <td>WIFI &amp; SIM</td>\n",
       "      <td>4</td>\n",
       "      <td>2022-05-29 19:52:26</td>\n",
       "      <td>2022-05-29 19:52:26</td>\n",
       "      <td>7</td>\n",
       "      <td>fa-sim-card</td>\n",
       "      <td>text-gold</td>\n",
       "      <td>4</td>\n",
       "      <td>NaN</td>\n",
       "    </tr>\n",
       "  </tbody>\n",
       "</table>\n",
       "</div>"
      ],
      "text/plain": [
       "               name  id          createdDate          updatedDate  statusId  \\\n",
       "0        Adventures   1  2022-05-29 19:52:26  2022-05-29 19:52:26         7   \n",
       "1         Transport   2  2022-05-29 19:52:26  2022-05-29 19:52:26         7   \n",
       "2  Museums & Sights   3  2022-05-29 19:52:26  2022-05-29 19:52:26         7   \n",
       "4        WIFI & SIM   4  2022-05-29 19:52:26  2022-05-29 19:52:26         7   \n",
       "\n",
       "         image            color  order internalNote  \n",
       "0      fa-fire      text-orange      1          NaN  \n",
       "1       fa-bus      text-purple      2          NaN  \n",
       "2     fa-hotel  text-greenGrass      3          NaN  \n",
       "4  fa-sim-card        text-gold      4          NaN  "
      ]
     },
     "execution_count": 140,
     "metadata": {},
     "output_type": "execute_result"
    }
   ],
   "source": [
    "newDf"
   ]
  },
  {
   "cell_type": "code",
   "execution_count": 141,
   "id": "f739824b",
   "metadata": {},
   "outputs": [],
   "source": [
    "newDf.to_csv('out/category.csv', index=False, encoding='utf-8')"
   ]
  }
 ],
 "metadata": {
  "kernelspec": {
   "display_name": "Python 3 (ipykernel)",
   "language": "python",
   "name": "python3"
  },
  "language_info": {
   "codemirror_mode": {
    "name": "ipython",
    "version": 3
   },
   "file_extension": ".py",
   "mimetype": "text/x-python",
   "name": "python",
   "nbconvert_exporter": "python",
   "pygments_lexer": "ipython3",
   "version": "3.9.7"
  }
 },
 "nbformat": 4,
 "nbformat_minor": 5
}
