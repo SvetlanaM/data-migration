{
 "cells": [
  {
   "cell_type": "code",
   "execution_count": 60,
   "id": "a5b85f75",
   "metadata": {},
   "outputs": [],
   "source": [
    "import pandas as pd\n",
    "from datetime import datetime"
   ]
  },
  {
   "cell_type": "code",
   "execution_count": 78,
   "id": "7d2b69e0",
   "metadata": {},
   "outputs": [],
   "source": [
    "df = pd.read_csv(\"csv/products.csv\", encoding='utf-8')"
   ]
  },
  {
   "cell_type": "code",
   "execution_count": 62,
   "id": "a0ee8df6",
   "metadata": {},
   "outputs": [
    {
     "data": {
      "text/html": [
       "<div>\n",
       "<style scoped>\n",
       "    .dataframe tbody tr th:only-of-type {\n",
       "        vertical-align: middle;\n",
       "    }\n",
       "\n",
       "    .dataframe tbody tr th {\n",
       "        vertical-align: top;\n",
       "    }\n",
       "\n",
       "    .dataframe thead th {\n",
       "        text-align: right;\n",
       "    }\n",
       "</style>\n",
       "<table border=\"1\" class=\"dataframe\">\n",
       "  <thead>\n",
       "    <tr style=\"text-align: right;\">\n",
       "      <th></th>\n",
       "      <th>ID</th>\n",
       "      <th>Category 1</th>\n",
       "      <th>Category 2</th>\n",
       "      <th>Name</th>\n",
       "      <th>Country</th>\n",
       "      <th>Region 1</th>\n",
       "      <th>Region 2</th>\n",
       "      <th>Description</th>\n",
       "      <th>Price 1</th>\n",
       "      <th>Curr1</th>\n",
       "      <th>...</th>\n",
       "      <th>Review 4</th>\n",
       "      <th>Number Review 5</th>\n",
       "      <th>Review 5</th>\n",
       "      <th>Rating 1</th>\n",
       "      <th>Rating 2</th>\n",
       "      <th>Rating 3</th>\n",
       "      <th>Rating 4</th>\n",
       "      <th>Rating 5</th>\n",
       "      <th>Coordinates</th>\n",
       "      <th>E-Tickets</th>\n",
       "    </tr>\n",
       "  </thead>\n",
       "  <tbody>\n",
       "    <tr>\n",
       "      <th>0</th>\n",
       "      <td>1</td>\n",
       "      <td>Adventures</td>\n",
       "      <td>NaN</td>\n",
       "      <td>Tangkuban Perahu Volcano</td>\n",
       "      <td>Indonesia</td>\n",
       "      <td>Java</td>\n",
       "      <td>NaN</td>\n",
       "      <td>If you're an adventure seeker, this trip will ...</td>\n",
       "      <td>350000</td>\n",
       "      <td>IDR</td>\n",
       "      <td>...</td>\n",
       "      <td>It was my first time ever to see an active vol...</td>\n",
       "      <td>1_5</td>\n",
       "      <td>The place is wonderful, but the staff and guid...</td>\n",
       "      <td>3.0</td>\n",
       "      <td>5.0</td>\n",
       "      <td>5.0</td>\n",
       "      <td>5.0</td>\n",
       "      <td>3.0</td>\n",
       "      <td>-6.728930958268697, 107.61257856864886</td>\n",
       "      <td>NaN</td>\n",
       "    </tr>\n",
       "  </tbody>\n",
       "</table>\n",
       "<p>1 rows × 35 columns</p>\n",
       "</div>"
      ],
      "text/plain": [
       "   ID  Category 1 Category 2                      Name    Country Region 1  \\\n",
       "0   1  Adventures        NaN  Tangkuban Perahu Volcano  Indonesia     Java   \n",
       "\n",
       "  Region 2                                        Description Price 1 Curr1  \\\n",
       "0      NaN  If you're an adventure seeker, this trip will ...  350000   IDR   \n",
       "\n",
       "   ...                                           Review 4 Number Review 5  \\\n",
       "0  ...  It was my first time ever to see an active vol...             1_5   \n",
       "\n",
       "                                            Review 5 Rating 1 Rating 2  \\\n",
       "0  The place is wonderful, but the staff and guid...      3.0      5.0   \n",
       "\n",
       "  Rating 3 Rating 4 Rating 5                             Coordinates E-Tickets  \n",
       "0      5.0      5.0      3.0  -6.728930958268697, 107.61257856864886       NaN  \n",
       "\n",
       "[1 rows x 35 columns]"
      ]
     },
     "execution_count": 62,
     "metadata": {},
     "output_type": "execute_result"
    }
   ],
   "source": [
    "df.head(1)"
   ]
  },
  {
   "cell_type": "code",
   "execution_count": 63,
   "id": "7b8cd201",
   "metadata": {},
   "outputs": [
    {
     "data": {
      "text/plain": [
       "array(['Adventures', 'Transport', 'Museums & Sights', nan, 'WIFI & SIM'],\n",
       "      dtype=object)"
      ]
     },
     "execution_count": 63,
     "metadata": {},
     "output_type": "execute_result"
    }
   ],
   "source": [
    "df['Category 1' or 'Category 2'].unique()"
   ]
  },
  {
   "cell_type": "code",
   "execution_count": 64,
   "id": "0b727ecf",
   "metadata": {},
   "outputs": [],
   "source": [
    "newDf = pd.DataFrame(data = df['Category 1' or 'Category 2'].unique())"
   ]
  },
  {
   "cell_type": "code",
   "execution_count": 65,
   "id": "b1f22b01",
   "metadata": {},
   "outputs": [],
   "source": [
    "columns = ['id', 'createdDate', 'updatedDate', 'statusId', 'image', 'color', 'order', 'searchVector', 'searchConfig', 'internalNote']"
   ]
  },
  {
   "cell_type": "code",
   "execution_count": 66,
   "id": "4ff4af90",
   "metadata": {},
   "outputs": [],
   "source": [
    "newDf = pd.concat([newDf, pd.DataFrame(columns = columns)])"
   ]
  },
  {
   "cell_type": "code",
   "execution_count": 67,
   "id": "54680cd8",
   "metadata": {},
   "outputs": [],
   "source": [
    "newDf.rename(columns = {0:'name'}, inplace = True)"
   ]
  },
  {
   "cell_type": "code",
   "execution_count": 68,
   "id": "cbc9a5a9",
   "metadata": {},
   "outputs": [],
   "source": [
    "now = datetime.now()\n",
    "dt_string = now.strftime(\"%Y-%m-%d %H:%M:%S\")"
   ]
  },
  {
   "cell_type": "code",
   "execution_count": 69,
   "id": "de249fe6",
   "metadata": {},
   "outputs": [],
   "source": [
    "newDf['id'] = newDf.index + 1\n",
    "newDf['order'] = newDf.index + 1\n",
    "newDf['createdDate'] = dt_string\n",
    "newDf['updatedDate'] = dt_string\n",
    "newDf['statusId'] = 7\n",
    "newDf['color'] = ['text-orange', 'text-purple', 'text-greenGrass', '', 'text-gold']\n",
    "newDf['image'] = ['fa-fire', 'fa-bus', 'fa-hotel', '', 'fa-sim-card']"
   ]
  },
  {
   "cell_type": "code",
   "execution_count": 70,
   "id": "fb8e1c73",
   "metadata": {},
   "outputs": [],
   "source": [
    "newDf = newDf.fillna('')"
   ]
  },
  {
   "cell_type": "code",
   "execution_count": 74,
   "id": "938c7609",
   "metadata": {},
   "outputs": [],
   "source": [
    "newDf = newDf[newDf['name'] != '']"
   ]
  },
  {
   "cell_type": "code",
   "execution_count": 76,
   "id": "f739824b",
   "metadata": {},
   "outputs": [],
   "source": [
    "newDf.to_csv('category.csv', index=False, encoding='utf-8')"
   ]
  }
 ],
 "metadata": {
  "kernelspec": {
   "display_name": "Python 3 (ipykernel)",
   "language": "python",
   "name": "python3"
  },
  "language_info": {
   "codemirror_mode": {
    "name": "ipython",
    "version": 3
   },
   "file_extension": ".py",
   "mimetype": "text/x-python",
   "name": "python",
   "nbconvert_exporter": "python",
   "pygments_lexer": "ipython3",
   "version": "3.9.7"
  }
 },
 "nbformat": 4,
 "nbformat_minor": 5
}
