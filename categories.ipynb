{
 "cells": [
  {
   "cell_type": "code",
   "execution_count": 1,
   "id": "a5b85f75",
   "metadata": {},
   "outputs": [],
   "source": [
    "import pandas as pd\n",
    "from datetime import datetime"
   ]
  },
  {
   "cell_type": "code",
   "execution_count": 2,
   "id": "cbc9a5a9",
   "metadata": {},
   "outputs": [],
   "source": [
    "now = datetime.now()\n",
    "dt_string = now.strftime(\"%Y-%m-%d %H:%M:%S\")"
   ]
  },
  {
   "cell_type": "code",
   "execution_count": 3,
   "id": "7d2b69e0",
   "metadata": {},
   "outputs": [],
   "source": [
    "df = pd.read_csv(\"csv/products.csv\", encoding='utf-8')"
   ]
  },
  {
   "cell_type": "code",
   "execution_count": 4,
   "id": "0b727ecf",
   "metadata": {},
   "outputs": [],
   "source": [
    "newDf = pd.DataFrame(data = df['Category 1' or 'Category 2'].unique()).dropna()"
   ]
  },
  {
   "cell_type": "code",
   "execution_count": 5,
   "id": "b1f22b01",
   "metadata": {},
   "outputs": [],
   "source": [
    "columns = ['id', 'createdDate', 'updatedDate', 'statusId', 'image', 'color', 'order', 'internalNote']"
   ]
  },
  {
   "cell_type": "code",
   "execution_count": 6,
   "id": "4ff4af90",
   "metadata": {},
   "outputs": [],
   "source": [
    "newDf = pd.concat([newDf, pd.DataFrame(columns = columns)])"
   ]
  },
  {
   "cell_type": "code",
   "execution_count": 7,
   "id": "54680cd8",
   "metadata": {},
   "outputs": [],
   "source": [
    "newDf.rename(columns = {0:'name'}, inplace = True)"
   ]
  },
  {
   "cell_type": "code",
   "execution_count": 8,
   "id": "de249fe6",
   "metadata": {},
   "outputs": [],
   "source": [
    "newDf['id'] = [i for i in range(1, newDf.shape[0]+1)]\n",
    "newDf['order'] = [i for i in range(1, newDf.shape[0]+1)]\n",
    "newDf['createdDate'] = dt_string\n",
    "newDf['updatedDate'] = dt_string\n",
    "newDf['statusId'] = 7\n",
    "newDf['color'] = ['text-orange', 'text-purple', 'text-greenGrass', 'text-gold']\n",
    "newDf['image'] = ['fa-fire', 'fa-bus', 'fa-hotel', 'fa-sim-card']\n",
    "newDf['mapIcon'] = ['pins/fire.svg', 'pins/bike.svg', 'pins/sight.svg', 'pins/sim.svg']\n",
    "newDf['name'] = ['adventures', 'transport', 'museums_and_sights', 'wifi_and_sim']"
   ]
  },
  {
   "cell_type": "code",
   "execution_count": 9,
   "id": "806bd87c",
   "metadata": {},
   "outputs": [
    {
     "data": {
      "text/html": [
       "<div>\n",
       "<style scoped>\n",
       "    .dataframe tbody tr th:only-of-type {\n",
       "        vertical-align: middle;\n",
       "    }\n",
       "\n",
       "    .dataframe tbody tr th {\n",
       "        vertical-align: top;\n",
       "    }\n",
       "\n",
       "    .dataframe thead th {\n",
       "        text-align: right;\n",
       "    }\n",
       "</style>\n",
       "<table border=\"1\" class=\"dataframe\">\n",
       "  <thead>\n",
       "    <tr style=\"text-align: right;\">\n",
       "      <th></th>\n",
       "      <th>name</th>\n",
       "      <th>id</th>\n",
       "      <th>createdDate</th>\n",
       "      <th>updatedDate</th>\n",
       "      <th>statusId</th>\n",
       "      <th>image</th>\n",
       "      <th>color</th>\n",
       "      <th>order</th>\n",
       "      <th>internalNote</th>\n",
       "      <th>mapIcon</th>\n",
       "    </tr>\n",
       "  </thead>\n",
       "  <tbody>\n",
       "    <tr>\n",
       "      <th>0</th>\n",
       "      <td>adventures</td>\n",
       "      <td>1</td>\n",
       "      <td>2023-06-25 16:19:09</td>\n",
       "      <td>2023-06-25 16:19:09</td>\n",
       "      <td>7</td>\n",
       "      <td>fa-fire</td>\n",
       "      <td>text-orange</td>\n",
       "      <td>1</td>\n",
       "      <td>NaN</td>\n",
       "      <td>pins/fire.svg</td>\n",
       "    </tr>\n",
       "    <tr>\n",
       "      <th>1</th>\n",
       "      <td>transport</td>\n",
       "      <td>2</td>\n",
       "      <td>2023-06-25 16:19:09</td>\n",
       "      <td>2023-06-25 16:19:09</td>\n",
       "      <td>7</td>\n",
       "      <td>fa-bus</td>\n",
       "      <td>text-purple</td>\n",
       "      <td>2</td>\n",
       "      <td>NaN</td>\n",
       "      <td>pins/bike.svg</td>\n",
       "    </tr>\n",
       "    <tr>\n",
       "      <th>2</th>\n",
       "      <td>museums_and_sights</td>\n",
       "      <td>3</td>\n",
       "      <td>2023-06-25 16:19:09</td>\n",
       "      <td>2023-06-25 16:19:09</td>\n",
       "      <td>7</td>\n",
       "      <td>fa-hotel</td>\n",
       "      <td>text-greenGrass</td>\n",
       "      <td>3</td>\n",
       "      <td>NaN</td>\n",
       "      <td>pins/sight.svg</td>\n",
       "    </tr>\n",
       "    <tr>\n",
       "      <th>3</th>\n",
       "      <td>wifi_and_sim</td>\n",
       "      <td>4</td>\n",
       "      <td>2023-06-25 16:19:09</td>\n",
       "      <td>2023-06-25 16:19:09</td>\n",
       "      <td>7</td>\n",
       "      <td>fa-sim-card</td>\n",
       "      <td>text-gold</td>\n",
       "      <td>4</td>\n",
       "      <td>NaN</td>\n",
       "      <td>pins/sim.svg</td>\n",
       "    </tr>\n",
       "  </tbody>\n",
       "</table>\n",
       "</div>"
      ],
      "text/plain": [
       "                 name  id          createdDate          updatedDate  statusId  \\\n",
       "0          adventures   1  2023-06-25 16:19:09  2023-06-25 16:19:09         7   \n",
       "1           transport   2  2023-06-25 16:19:09  2023-06-25 16:19:09         7   \n",
       "2  museums_and_sights   3  2023-06-25 16:19:09  2023-06-25 16:19:09         7   \n",
       "3        wifi_and_sim   4  2023-06-25 16:19:09  2023-06-25 16:19:09         7   \n",
       "\n",
       "         image            color  order internalNote         mapIcon  \n",
       "0      fa-fire      text-orange      1          NaN   pins/fire.svg  \n",
       "1       fa-bus      text-purple      2          NaN   pins/bike.svg  \n",
       "2     fa-hotel  text-greenGrass      3          NaN  pins/sight.svg  \n",
       "3  fa-sim-card        text-gold      4          NaN    pins/sim.svg  "
      ]
     },
     "execution_count": 9,
     "metadata": {},
     "output_type": "execute_result"
    }
   ],
   "source": [
    "newDf"
   ]
  },
  {
   "cell_type": "code",
   "execution_count": 10,
   "id": "f739824b",
   "metadata": {},
   "outputs": [],
   "source": [
    "newDf.to_csv('out/category.csv', index=False, encoding='utf-8')"
   ]
  },
  {
   "cell_type": "code",
   "execution_count": null,
   "id": "8cc122a3",
   "metadata": {},
   "outputs": [],
   "source": []
  }
 ],
 "metadata": {
  "kernelspec": {
   "display_name": "Python 3 (ipykernel)",
   "language": "python",
   "name": "python3"
  },
  "language_info": {
   "codemirror_mode": {
    "name": "ipython",
    "version": 3
   },
   "file_extension": ".py",
   "mimetype": "text/x-python",
   "name": "python",
   "nbconvert_exporter": "python",
   "pygments_lexer": "ipython3",
   "version": "3.9.15"
  }
 },
 "nbformat": 4,
 "nbformat_minor": 5
}
