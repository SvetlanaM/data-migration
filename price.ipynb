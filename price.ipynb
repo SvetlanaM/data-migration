{
 "cells": [
  {
   "cell_type": "code",
   "execution_count": 32,
   "id": "ba848415",
   "metadata": {},
   "outputs": [],
   "source": [
    "import pandas as pd"
   ]
  },
  {
   "cell_type": "code",
   "execution_count": 33,
   "id": "d1dd5525",
   "metadata": {},
   "outputs": [],
   "source": [
    "df = pd.read_csv(\"csv/products.csv\", encoding='utf-8', delimiter=';')\n",
    "curDf = pd.read_csv('out/currencies.csv')"
   ]
  },
  {
   "cell_type": "code",
   "execution_count": 34,
   "id": "4f9ac523",
   "metadata": {},
   "outputs": [],
   "source": [
    "df1 = df[['Price 1', 'Curr1', 'ID']]\n",
    "df2 = df[['Price 2', 'Curr2', 'ID']]\n",
    "df3 = df[['Price 3', 'Curr3', 'ID']]\n",
    "df4 = df[['Price 4', 'Curr4', 'ID']]\n",
    "df5 = df[['Price 5', 'Curr5', 'ID']]"
   ]
  },
  {
   "cell_type": "code",
   "execution_count": 35,
   "id": "986e7e1b",
   "metadata": {},
   "outputs": [],
   "source": [
    "df1 = df1.rename(columns={'Price 1' : 'Price', 'Curr1' : 'Curr'})\n",
    "df2 = df2.rename(columns={'Price 2' : 'Price', 'Curr2' : 'Curr'})\n",
    "df3 = df3.rename(columns={'Price 3' : 'Price', 'Curr3' : 'Curr'})\n",
    "df4 = df4.rename(columns={'Price 4' : 'Price', 'Curr4' : 'Curr'})\n",
    "df5 = df5.rename(columns={'Price 5' : 'Price', 'Curr5' : 'Curr'})"
   ]
  },
  {
   "cell_type": "code",
   "execution_count": 36,
   "id": "5caf8503",
   "metadata": {},
   "outputs": [],
   "source": [
    "newDf = pd.concat([df1, df2, df3, df4, df5]).dropna()"
   ]
  },
  {
   "cell_type": "code",
   "execution_count": 37,
   "id": "2808aa17",
   "metadata": {},
   "outputs": [],
   "source": [
    "columns = ['id', 'amountMainCurrency', 'mainCurrencyId']"
   ]
  },
  {
   "cell_type": "code",
   "execution_count": 38,
   "id": "3bdc7545",
   "metadata": {},
   "outputs": [],
   "source": [
    "newDf = pd.concat([newDf, pd.DataFrame(columns = columns)])"
   ]
  },
  {
   "cell_type": "code",
   "execution_count": 39,
   "id": "e5a335b1",
   "metadata": {},
   "outputs": [],
   "source": [
    "newDf.rename(columns = {'Price':'amount'}, inplace = True)\n",
    "newDf.rename(columns = {'Curr':'currencyId'}, inplace = True)"
   ]
  },
  {
   "cell_type": "code",
   "execution_count": 40,
   "id": "ac96ba23",
   "metadata": {},
   "outputs": [],
   "source": [
    "newDf['id'] = [i for i in range(1, newDf.shape[0]+1)]\n",
    "newDf['amountMainCurrency'] = newDf['amount']\n",
    "newDf['mainCurrencyId'] = newDf['currencyId'].str.upper()\n",
    "newDf['ID'] = newDf['ID'].astype(int)\n",
    "newDf['currencyId'] = newDf['currencyId'].str.upper()"
   ]
  },
  {
   "cell_type": "code",
   "execution_count": 41,
   "id": "e55de587",
   "metadata": {},
   "outputs": [
    {
     "data": {
      "text/html": [
       "<div>\n",
       "<style scoped>\n",
       "    .dataframe tbody tr th:only-of-type {\n",
       "        vertical-align: middle;\n",
       "    }\n",
       "\n",
       "    .dataframe tbody tr th {\n",
       "        vertical-align: top;\n",
       "    }\n",
       "\n",
       "    .dataframe thead th {\n",
       "        text-align: right;\n",
       "    }\n",
       "</style>\n",
       "<table border=\"1\" class=\"dataframe\">\n",
       "  <thead>\n",
       "    <tr style=\"text-align: right;\">\n",
       "      <th></th>\n",
       "      <th>amount</th>\n",
       "      <th>currencyId</th>\n",
       "      <th>ID</th>\n",
       "      <th>id</th>\n",
       "      <th>amountMainCurrency</th>\n",
       "      <th>mainCurrencyId</th>\n",
       "    </tr>\n",
       "  </thead>\n",
       "  <tbody>\n",
       "    <tr>\n",
       "      <th>0</th>\n",
       "      <td>350000</td>\n",
       "      <td>IDR</td>\n",
       "      <td>1</td>\n",
       "      <td>1</td>\n",
       "      <td>350000</td>\n",
       "      <td>IDR</td>\n",
       "    </tr>\n",
       "    <tr>\n",
       "      <th>1</th>\n",
       "      <td>25</td>\n",
       "      <td>USD</td>\n",
       "      <td>2</td>\n",
       "      <td>2</td>\n",
       "      <td>25</td>\n",
       "      <td>USD</td>\n",
       "    </tr>\n",
       "    <tr>\n",
       "      <th>2</th>\n",
       "      <td>350000</td>\n",
       "      <td>IDR</td>\n",
       "      <td>3</td>\n",
       "      <td>3</td>\n",
       "      <td>350000</td>\n",
       "      <td>IDR</td>\n",
       "    </tr>\n",
       "    <tr>\n",
       "      <th>3</th>\n",
       "      <td>450000</td>\n",
       "      <td>IDR</td>\n",
       "      <td>4</td>\n",
       "      <td>4</td>\n",
       "      <td>450000</td>\n",
       "      <td>IDR</td>\n",
       "    </tr>\n",
       "    <tr>\n",
       "      <th>4</th>\n",
       "      <td>843000</td>\n",
       "      <td>IDR</td>\n",
       "      <td>5</td>\n",
       "      <td>5</td>\n",
       "      <td>843000</td>\n",
       "      <td>IDR</td>\n",
       "    </tr>\n",
       "    <tr>\n",
       "      <th>...</th>\n",
       "      <td>...</td>\n",
       "      <td>...</td>\n",
       "      <td>...</td>\n",
       "      <td>...</td>\n",
       "      <td>...</td>\n",
       "      <td>...</td>\n",
       "    </tr>\n",
       "    <tr>\n",
       "      <th>1936</th>\n",
       "      <td>2</td>\n",
       "      <td>USD</td>\n",
       "      <td>1937</td>\n",
       "      <td>8396</td>\n",
       "      <td>2</td>\n",
       "      <td>USD</td>\n",
       "    </tr>\n",
       "    <tr>\n",
       "      <th>1937</th>\n",
       "      <td>5</td>\n",
       "      <td>AED</td>\n",
       "      <td>1938</td>\n",
       "      <td>8397</td>\n",
       "      <td>5</td>\n",
       "      <td>AED</td>\n",
       "    </tr>\n",
       "    <tr>\n",
       "      <th>1938</th>\n",
       "      <td>80</td>\n",
       "      <td>AED</td>\n",
       "      <td>1939</td>\n",
       "      <td>8398</td>\n",
       "      <td>80</td>\n",
       "      <td>AED</td>\n",
       "    </tr>\n",
       "    <tr>\n",
       "      <th>1939</th>\n",
       "      <td>7</td>\n",
       "      <td>AED</td>\n",
       "      <td>1940</td>\n",
       "      <td>8399</td>\n",
       "      <td>7</td>\n",
       "      <td>AED</td>\n",
       "    </tr>\n",
       "    <tr>\n",
       "      <th>1942</th>\n",
       "      <td>4</td>\n",
       "      <td>EUR</td>\n",
       "      <td>1943</td>\n",
       "      <td>8400</td>\n",
       "      <td>4</td>\n",
       "      <td>EUR</td>\n",
       "    </tr>\n",
       "  </tbody>\n",
       "</table>\n",
       "<p>8400 rows × 6 columns</p>\n",
       "</div>"
      ],
      "text/plain": [
       "      amount currencyId    ID    id amountMainCurrency mainCurrencyId\n",
       "0     350000        IDR     1     1             350000            IDR\n",
       "1         25        USD     2     2                 25            USD\n",
       "2     350000        IDR     3     3             350000            IDR\n",
       "3     450000        IDR     4     4             450000            IDR\n",
       "4     843000        IDR     5     5             843000            IDR\n",
       "...      ...        ...   ...   ...                ...            ...\n",
       "1936       2        USD  1937  8396                  2            USD\n",
       "1937       5        AED  1938  8397                  5            AED\n",
       "1938      80        AED  1939  8398                 80            AED\n",
       "1939       7        AED  1940  8399                  7            AED\n",
       "1942       4        EUR  1943  8400                  4            EUR\n",
       "\n",
       "[8400 rows x 6 columns]"
      ]
     },
     "execution_count": 41,
     "metadata": {},
     "output_type": "execute_result"
    }
   ],
   "source": [
    "newDf"
   ]
  },
  {
   "cell_type": "code",
   "execution_count": 42,
   "id": "a26ad3ee",
   "metadata": {},
   "outputs": [],
   "source": [
    "newDf.to_csv('out/price.csv', index=False, encoding='utf-8')"
   ]
  },
  {
   "cell_type": "code",
   "execution_count": 43,
   "id": "0a51b948",
   "metadata": {},
   "outputs": [],
   "source": [
    "copy = newDf.drop(['ID'], axis=1)"
   ]
  },
  {
   "cell_type": "code",
   "execution_count": 44,
   "id": "fd5103d0",
   "metadata": {},
   "outputs": [],
   "source": [
    "copy.to_csv('out/price1.csv', index=False, encoding='utf-8')"
   ]
  },
  {
   "cell_type": "code",
   "execution_count": 45,
   "id": "083e6270",
   "metadata": {},
   "outputs": [
    {
     "data": {
      "text/plain": [
       "(8400, 5)"
      ]
     },
     "execution_count": 45,
     "metadata": {},
     "output_type": "execute_result"
    }
   ],
   "source": [
    "copy.shape"
   ]
  },
  {
   "cell_type": "code",
   "execution_count": null,
   "id": "6ecfdac2",
   "metadata": {},
   "outputs": [],
   "source": []
  }
 ],
 "metadata": {
  "kernelspec": {
   "display_name": "Python 3 (ipykernel)",
   "language": "python",
   "name": "python3"
  },
  "language_info": {
   "codemirror_mode": {
    "name": "ipython",
    "version": 3
   },
   "file_extension": ".py",
   "mimetype": "text/x-python",
   "name": "python",
   "nbconvert_exporter": "python",
   "pygments_lexer": "ipython3",
   "version": "3.9.7"
  }
 },
 "nbformat": 4,
 "nbformat_minor": 5
}
