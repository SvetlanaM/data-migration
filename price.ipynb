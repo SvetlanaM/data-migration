{
 "cells": [
  {
   "cell_type": "code",
   "execution_count": 20,
   "id": "ba848415",
   "metadata": {},
   "outputs": [],
   "source": [
    "import pandas as pd\n",
    "from currency_converter import CurrencyConverter\n",
    "import numpy as np"
   ]
  },
  {
   "cell_type": "code",
   "execution_count": 21,
   "id": "d1dd5525",
   "metadata": {},
   "outputs": [],
   "source": [
    "df = pd.read_csv(\"csv/products.csv\", encoding='utf-8')\n",
    "curDf = pd.read_csv('out/currencies.csv')"
   ]
  },
  {
   "cell_type": "code",
   "execution_count": 22,
   "id": "bc0369ba",
   "metadata": {},
   "outputs": [],
   "source": [
    "df['Curr1 ID'] = df['ID'].astype(str) + '_1'\n",
    "df['Curr2 ID'] = df['ID'].astype(str) + '_2'\n",
    "df['Curr3 ID'] = df['ID'].astype(str) + '_3'\n",
    "df['Curr4 ID'] = df['ID'].astype(str) + '_4'\n",
    "df['Curr5 ID'] = df['ID'].astype(str) + '_5'"
   ]
  },
  {
   "cell_type": "code",
   "execution_count": 23,
   "id": "4f9ac523",
   "metadata": {},
   "outputs": [],
   "source": [
    "df1 = df[['Price 1', 'Curr1', 'Curr1 ID']]\n",
    "df2 = df[['Price 2', 'Curr2', 'Curr2 ID']]\n",
    "df3 = df[['Price 3', 'Curr3', 'Curr3 ID']]\n",
    "df4 = df[['Price 4', 'Curr4', 'Curr4 ID']]\n",
    "df5 = df[['Price 5', 'Curr5', 'Curr5 ID']]"
   ]
  },
  {
   "cell_type": "code",
   "execution_count": 24,
   "id": "986e7e1b",
   "metadata": {},
   "outputs": [],
   "source": [
    "df1 = df1.rename(columns={'Price 1' : 'Price', 'Curr1' : 'Curr', 'Curr1 ID' : 'ID'})\n",
    "df2 = df2.rename(columns={'Price 2' : 'Price', 'Curr2' : 'Curr', 'Curr2 ID' : 'ID'})\n",
    "df3 = df3.rename(columns={'Price 3' : 'Price', 'Curr3' : 'Curr', 'Curr3 ID' : 'ID'})\n",
    "df4 = df4.rename(columns={'Price 4' : 'Price', 'Curr4' : 'Curr', 'Curr4 ID' : 'ID'})\n",
    "df5 = df5.rename(columns={'Price 5' : 'Price', 'Curr5' : 'Curr', 'Curr5 ID' : 'ID'})"
   ]
  },
  {
   "cell_type": "code",
   "execution_count": 25,
   "id": "5caf8503",
   "metadata": {},
   "outputs": [],
   "source": [
    "newDf = pd.concat([df1, df2, df3, df4, df5]).dropna()"
   ]
  },
  {
   "cell_type": "code",
   "execution_count": 26,
   "id": "2808aa17",
   "metadata": {},
   "outputs": [],
   "source": [
    "columns = ['id', 'amountMainCurrency', 'mainCurrencyId']"
   ]
  },
  {
   "cell_type": "code",
   "execution_count": 27,
   "id": "3bdc7545",
   "metadata": {},
   "outputs": [],
   "source": [
    "newDf = pd.concat([newDf, pd.DataFrame(columns = columns)])"
   ]
  },
  {
   "cell_type": "code",
   "execution_count": 28,
   "id": "e5a335b1",
   "metadata": {},
   "outputs": [],
   "source": [
    "newDf.rename(columns = {'Price':'amount'}, inplace = True)\n",
    "newDf.rename(columns = {'Curr':'currencyId'}, inplace = True)"
   ]
  },
  {
   "cell_type": "code",
   "execution_count": 29,
   "id": "c0afd820",
   "metadata": {},
   "outputs": [],
   "source": [
    "c = CurrencyConverter()\n",
    "def convert_currency(x, y):\n",
    "    try:\n",
    "        return c.convert(float(x), str(y), 'USD')\n",
    "    except:\n",
    "        return np.nan"
   ]
  },
  {
   "cell_type": "code",
   "execution_count": 30,
   "id": "ac96ba23",
   "metadata": {},
   "outputs": [],
   "source": [
    "newDf['id'] = [i for i in range(1, newDf.shape[0]+1)]\n",
    "newDf['amountMainCurrency'] = newDf['amount']\n",
    "newDf['mainCurrencyId'] = 'USD'\n",
    "newDf['ID'] = newDf['ID'].astype(str)\n",
    "newDf['currencyId'] = newDf['currencyId'].str.upper()"
   ]
  },
  {
   "cell_type": "code",
   "execution_count": 31,
   "id": "38ea3324",
   "metadata": {},
   "outputs": [],
   "source": [
    "pd.set_option('display.max_rows', None)\n",
    "pd.set_option('display.max_columns', None)\n",
    "pd.set_option('display.width', None)\n",
    "pd.set_option('display.max_colwidth', None)"
   ]
  },
  {
   "cell_type": "code",
   "execution_count": 32,
   "id": "a26ad3ee",
   "metadata": {},
   "outputs": [],
   "source": [
    "newDf.to_csv('out/price.csv', index=False, encoding='utf-8')"
   ]
  },
  {
   "cell_type": "code",
   "execution_count": 33,
   "id": "0a51b948",
   "metadata": {},
   "outputs": [],
   "source": [
    "copy = newDf.drop(['ID'], axis=1)"
   ]
  },
  {
   "cell_type": "code",
   "execution_count": 34,
   "id": "fd5103d0",
   "metadata": {},
   "outputs": [],
   "source": [
    "copy.to_csv('out/price1.csv', index=False, encoding='utf-8')"
   ]
  },
  {
   "cell_type": "code",
   "execution_count": 36,
   "id": "083e6270",
   "metadata": {},
   "outputs": [
    {
     "data": {
      "text/plain": [
       "(8379, 5)"
      ]
     },
     "execution_count": 36,
     "metadata": {},
     "output_type": "execute_result"
    }
   ],
   "source": [
    "copy.shape"
   ]
  },
  {
   "cell_type": "code",
   "execution_count": 37,
   "id": "6ecfdac2",
   "metadata": {},
   "outputs": [],
   "source": [
    "df.to_csv('csv/products.csv', index=False, encoding='utf-8')"
   ]
  },
  {
   "cell_type": "code",
   "execution_count": null,
   "id": "672ac524",
   "metadata": {},
   "outputs": [],
   "source": []
  }
 ],
 "metadata": {
  "kernelspec": {
   "display_name": "Python 3 (ipykernel)",
   "language": "python",
   "name": "python3"
  },
  "language_info": {
   "codemirror_mode": {
    "name": "ipython",
    "version": 3
   },
   "file_extension": ".py",
   "mimetype": "text/x-python",
   "name": "python",
   "nbconvert_exporter": "python",
   "pygments_lexer": "ipython3",
   "version": "3.9.7"
  }
 },
 "nbformat": 4,
 "nbformat_minor": 5
}
