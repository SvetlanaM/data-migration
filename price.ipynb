{
 "cells": [
  {
   "cell_type": "code",
   "execution_count": 74,
   "id": "ba848415",
   "metadata": {},
   "outputs": [],
   "source": [
    "import pandas as pd"
   ]
  },
  {
   "cell_type": "code",
   "execution_count": 97,
   "id": "d1dd5525",
   "metadata": {},
   "outputs": [],
   "source": [
    "df = pd.read_csv(\"csv/products.csv\", encoding='utf-8')\n",
    "curDf = pd.read_csv('out/currencies.csv')"
   ]
  },
  {
   "cell_type": "code",
   "execution_count": 98,
   "id": "4f9ac523",
   "metadata": {},
   "outputs": [],
   "source": [
    "df1 = df[['Price 1', 'Curr1', 'ID']]\n",
    "df2 = df[['Price 2', 'Curr2', 'ID']]\n",
    "df3 = df[['Price 3', 'Curr3', 'ID']]\n",
    "df4 = df[['Price 4', 'Curr4', 'ID']]\n",
    "df5 = df[['Price 5', 'Curr5', 'ID']]"
   ]
  },
  {
   "cell_type": "code",
   "execution_count": 99,
   "id": "986e7e1b",
   "metadata": {},
   "outputs": [],
   "source": [
    "df1 = df1.rename(columns={'Price 1' : 'Price', 'Curr1' : 'Curr'})\n",
    "df2 = df2.rename(columns={'Price 2' : 'Price', 'Curr2' : 'Curr'})\n",
    "df3 = df3.rename(columns={'Price 3' : 'Price', 'Curr3' : 'Curr'})\n",
    "df4 = df4.rename(columns={'Price 4' : 'Price', 'Curr4' : 'Curr'})\n",
    "df5 = df5.rename(columns={'Price 5' : 'Price', 'Curr5' : 'Curr'})"
   ]
  },
  {
   "cell_type": "code",
   "execution_count": 100,
   "id": "5caf8503",
   "metadata": {},
   "outputs": [],
   "source": [
    "newDf = pd.concat([df1, df2, df3, df4, df5]).dropna()"
   ]
  },
  {
   "cell_type": "code",
   "execution_count": 101,
   "id": "2808aa17",
   "metadata": {},
   "outputs": [],
   "source": [
    "columns = ['id', 'amountMainCurrency', 'mainCurrencyId']"
   ]
  },
  {
   "cell_type": "code",
   "execution_count": 102,
   "id": "3bdc7545",
   "metadata": {},
   "outputs": [],
   "source": [
    "newDf = pd.concat([newDf, pd.DataFrame(columns = columns)])"
   ]
  },
  {
   "cell_type": "code",
   "execution_count": 103,
   "id": "e5a335b1",
   "metadata": {},
   "outputs": [],
   "source": [
    "newDf.rename(columns = {'Price':'amount'}, inplace = True)\n",
    "newDf.rename(columns = {'Curr':'currencyId'}, inplace = True)"
   ]
  },
  {
   "cell_type": "code",
   "execution_count": 106,
   "id": "ac96ba23",
   "metadata": {},
   "outputs": [],
   "source": [
    "newDf['id'] = [i for i in range(1, newDf.shape[0]+1)]\n",
    "newDf['amountMainCurrency'] = newDf['amount']\n",
    "newDf['mainCurrencyId'] = newDf['currencyId']\n",
    "newDf['ID'] = newDf['ID'].astype(int)"
   ]
  },
  {
   "cell_type": "code",
   "execution_count": 109,
   "id": "a26ad3ee",
   "metadata": {},
   "outputs": [],
   "source": [
    "newDf.to_csv('out/price.csv', index=False, encoding='utf-8')"
   ]
  }
 ],
 "metadata": {
  "kernelspec": {
   "display_name": "Python 3 (ipykernel)",
   "language": "python",
   "name": "python3"
  },
  "language_info": {
   "codemirror_mode": {
    "name": "ipython",
    "version": 3
   },
   "file_extension": ".py",
   "mimetype": "text/x-python",
   "name": "python",
   "nbconvert_exporter": "python",
   "pygments_lexer": "ipython3",
   "version": "3.9.7"
  }
 },
 "nbformat": 4,
 "nbformat_minor": 5
}
