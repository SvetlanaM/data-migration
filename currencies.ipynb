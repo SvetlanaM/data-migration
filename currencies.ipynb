{
 "cells": [
  {
   "cell_type": "code",
   "execution_count": 76,
   "id": "baf239bd",
   "metadata": {},
   "outputs": [],
   "source": [
    "import pandas as pd\n",
    "from currency_symbols import CurrencySymbols"
   ]
  },
  {
   "cell_type": "code",
   "execution_count": 77,
   "id": "38043000",
   "metadata": {},
   "outputs": [],
   "source": [
    "curOrigDf = pd.read_csv(\"csv/currencies.csv\", encoding='utf-8')"
   ]
  },
  {
   "cell_type": "code",
   "execution_count": 78,
   "id": "22eec183",
   "metadata": {},
   "outputs": [],
   "source": [
    "curOrigDf.rename(columns = {'Currency code':'id', 'Currency name':'name', 'IsThousand': 'isThousands'}, inplace = True)"
   ]
  },
  {
   "cell_type": "code",
   "execution_count": 79,
   "id": "916ced68",
   "metadata": {},
   "outputs": [],
   "source": [
    "del curOrigDf['Country (Default)']"
   ]
  },
  {
   "cell_type": "code",
   "execution_count": 80,
   "id": "de3424e6",
   "metadata": {},
   "outputs": [],
   "source": [
    "def add_symbol(value):\n",
    "    return CurrencySymbols.get_symbol(value)"
   ]
  },
  {
   "cell_type": "code",
   "execution_count": 81,
   "id": "52745bc8",
   "metadata": {},
   "outputs": [],
   "source": [
    "curOrigDf['isMain'] = False\n",
    "curOrigDf['symbol'] = curOrigDf['id'].apply(add_symbol)\n",
    "curOrigDf['decimalPlaces'] = 2\n",
    "curOrigDf['symbolHasSpace'] = False\n",
    "curOrigDf['symbolBeforeAmount'] = False"
   ]
  },
  {
   "cell_type": "code",
   "execution_count": 82,
   "id": "deadcc65",
   "metadata": {},
   "outputs": [],
   "source": [
    "curOrigDf = curOrigDf[['id', 'name', 'isMain', 'isThousands', 'symbol', 'decimalPlaces', 'symbolHasSpace', 'symbolBeforeAmount']]"
   ]
  },
  {
   "cell_type": "code",
   "execution_count": 83,
   "id": "67f8014d",
   "metadata": {},
   "outputs": [],
   "source": [
    "curOrigDf['isThousands'] = curOrigDf['isThousands'].replace(['N'],'False')\n",
    "curOrigDf['isThousands'] = curOrigDf['isThousands'].replace(['Y'],'True')"
   ]
  },
  {
   "cell_type": "code",
   "execution_count": 88,
   "id": "bd7e8989",
   "metadata": {},
   "outputs": [],
   "source": [
    "curOrigDf.to_csv('out/currencies.csv', index=False, encoding='utf-8')"
   ]
  }
 ],
 "metadata": {
  "kernelspec": {
   "display_name": "Python 3 (ipykernel)",
   "language": "python",
   "name": "python3"
  },
  "language_info": {
   "codemirror_mode": {
    "name": "ipython",
    "version": 3
   },
   "file_extension": ".py",
   "mimetype": "text/x-python",
   "name": "python",
   "nbconvert_exporter": "python",
   "pygments_lexer": "ipython3",
   "version": "3.9.7"
  }
 },
 "nbformat": 4,
 "nbformat_minor": 5
}
