{
 "cells": [
  {
   "cell_type": "code",
   "execution_count": 202,
   "id": "90e3463e",
   "metadata": {},
   "outputs": [],
   "source": [
    "import pandas as pd\n",
    "from datetime import datetime\n",
    "from slugify import slugify"
   ]
  },
  {
   "cell_type": "code",
   "execution_count": 203,
   "id": "d21349cf",
   "metadata": {},
   "outputs": [],
   "source": [
    "df = pd.read_csv('csv/products.csv')\n",
    "priceDf = pd.read_csv('out/price.csv')\n",
    "usersDf = pd.read_csv('csv/users.csv')\n",
    "users = pd.read_csv('out/users.csv')\n",
    "locDf = pd.read_csv('out/localities.csv', delimiter=';')\n",
    "prodDf = pd.read_csv('out/products.csv')"
   ]
  },
  {
   "cell_type": "code",
   "execution_count": 204,
   "id": "18279d60",
   "metadata": {},
   "outputs": [],
   "source": [
    "now = datetime.now()\n",
    "dt_string = now.strftime(\"%Y-%m-%d %H:%M:%S\")"
   ]
  },
  {
   "cell_type": "code",
   "execution_count": 205,
   "id": "147374eb",
   "metadata": {},
   "outputs": [],
   "source": [
    "df1 = df[['Price 1', 'Curr1', 'Number Review 1', 'Review 1', 'Rating 1', 'ID', 'Name']]\n",
    "df2 = df[['Price 2', 'Curr2', 'Number Review 2', 'Review 2', 'Rating 2', 'ID', 'Name']]\n",
    "df3 = df[['Price 3', 'Curr3', 'Number Review 3', 'Review 3', 'Rating 3', 'ID', 'Name']]\n",
    "df4 = df[['Price 4', 'Curr4', 'Number Review 4', 'Review 4', 'Rating 4', 'ID', 'Name']]\n",
    "df5 = df[['Price 5', 'Curr5', 'Number Review 5', 'Review 5', 'Rating 5', 'ID', 'Name']]"
   ]
  },
  {
   "cell_type": "code",
   "execution_count": 206,
   "id": "34027af1",
   "metadata": {},
   "outputs": [],
   "source": [
    "df1 = df1.rename(columns={'Price 1' : 'Price', 'Curr1' : 'Curr', 'Number Review 1' : 'Number Review', \\\n",
    "                          'Review 1' : 'Review', 'Rating 1' : 'Rating'})\n",
    "df2 = df2.rename(columns={'Price 2' : 'Price', 'Curr2' : 'Curr', 'Number Review 2' : 'Number Review', \\\n",
    "                          'Review 2' : 'Review', 'Rating 2' : 'Rating'})\n",
    "df3 = df3.rename(columns={'Price 3' : 'Price', 'Curr3' : 'Curr', 'Number Review 3' : 'Number Review', \\\n",
    "                          'Review 3' : 'Review', 'Rating 3' : 'Rating'})\n",
    "df4 = df4.rename(columns={'Price 4' : 'Price', 'Curr4' : 'Curr', 'Number Review 4' : 'Number Review', \\\n",
    "                          'Review 4' : 'Review', 'Rating 4' : 'Rating'})\n",
    "df5 = df5.rename(columns={'Price 5' : 'Price', 'Curr5' : 'Curr', 'Number Review 5' : 'Number Review', \\\n",
    "                          'Review 5' : 'Review', 'Rating 5' : 'Rating'})"
   ]
  },
  {
   "cell_type": "code",
   "execution_count": 207,
   "id": "62a02c6d",
   "metadata": {},
   "outputs": [],
   "source": [
    "newDf = pd.concat([df1, df2, df3, df4, df5])"
   ]
  },
  {
   "cell_type": "code",
   "execution_count": 208,
   "id": "39a0ea72",
   "metadata": {},
   "outputs": [],
   "source": [
    "newDf.rename(columns = {'Review':'review', 'Rating' : 'rating'}, inplace = True)"
   ]
  },
  {
   "cell_type": "code",
   "execution_count": 209,
   "id": "433faf6c",
   "metadata": {},
   "outputs": [],
   "source": [
    "columns = ['id', 'createdDate', 'updatedDate', 'name', 'internalNote', 'isActive', 'authorId', 'statusId', \\\n",
    "          'productId', 'priceId', 'placeId', 'slug']"
   ]
  },
  {
   "cell_type": "code",
   "execution_count": 210,
   "id": "0bc210cd",
   "metadata": {},
   "outputs": [],
   "source": [
    "newDf = pd.concat([newDf, pd.DataFrame(columns = columns)])"
   ]
  },
  {
   "cell_type": "code",
   "execution_count": 211,
   "id": "df3b62b5",
   "metadata": {},
   "outputs": [],
   "source": [
    "newDf['id'] = newDf.index + 1\n",
    "newDf['createdDate'] = dt_string\n",
    "newDf['updatedDate'] = dt_string\n",
    "newDf['name'] = ''\n",
    "newDf['internalNote'] = ''\n",
    "newDf['isActive'] = True\n",
    "newDf['statusId'] = 4\n",
    "newDf['placeId'] = ''"
   ]
  },
  {
   "cell_type": "code",
   "execution_count": 212,
   "id": "0ed01ff1",
   "metadata": {},
   "outputs": [],
   "source": [
    "def set_slug(value):\n",
    "    return slugify(str(value))\n",
    "\n",
    "newDf['slug'] = newDf['review'][:10].apply(set_slug)"
   ]
  },
  {
   "cell_type": "code",
   "execution_count": 213,
   "id": "d03e3187",
   "metadata": {},
   "outputs": [],
   "source": [
    "priceDf['merged'] = priceDf['amount'] + priceDf['currencyId']\n",
    "newDf['merged'] = newDf['Price'] + newDf['Curr']"
   ]
  },
  {
   "cell_type": "code",
   "execution_count": 214,
   "id": "c25731b4",
   "metadata": {},
   "outputs": [],
   "source": [
    "def get_price_id(value):\n",
    "    try:\n",
    "        return priceDf[:][priceDf['merged'] == str(value)]['id'].values[0]\n",
    "    except:\n",
    "        return ''\n",
    "\n",
    "# newDf['priceId'] = newDf['merged'].apply(get_price_id)\n",
    "newDf['priceId'] = ''"
   ]
  },
  {
   "cell_type": "code",
   "execution_count": 215,
   "id": "97026a69",
   "metadata": {},
   "outputs": [],
   "source": [
    "def get_product_id(value):\n",
    "    try:\n",
    "        return prodDf[:][prodDf['name'] == str(value)]['id'].values[0]\n",
    "    except:\n",
    "        return ''\n",
    "\n",
    "newDf['productId'] = newDf['Name'].apply(get_product_id)"
   ]
  },
  {
   "cell_type": "code",
   "execution_count": 216,
   "id": "8eccac4d",
   "metadata": {},
   "outputs": [],
   "source": [
    "def get_author_id(value):\n",
    "    try:\n",
    "        temp = usersDf[:][(usersDf['Review1'] == str(value)) | \\\n",
    "         (usersDf['Review2'] == str(value)) | \\\n",
    "         (usersDf['Review3'] == str(value)) | \\\n",
    "         (usersDf['Review4'] == str(value)) | \\\n",
    "         (usersDf['Review5'] == str(value))]['Username'].values[0].replace(\"\\n\", \"\")\n",
    "        return users[:][users['username'] == temp]['id'].values[0]\n",
    "    except:\n",
    "        return ''\n",
    "\n",
    "# newDf['authorId'] = newDf['Number Review'].apply(get_author_id)\n",
    "newDf['authorId'] = 13"
   ]
  },
  {
   "cell_type": "code",
   "execution_count": 217,
   "id": "918142dd",
   "metadata": {},
   "outputs": [],
   "source": [
    "newDf = newDf.drop(['Price', 'Curr', 'Number Review', 'ID', 'merged', 'Name'], axis=1)"
   ]
  },
  {
   "cell_type": "code",
   "execution_count": 218,
   "id": "57745c4b",
   "metadata": {},
   "outputs": [],
   "source": [
    "newDf = newDf.drop_duplicates()"
   ]
  },
  {
   "cell_type": "code",
   "execution_count": 219,
   "id": "5c4db61f",
   "metadata": {},
   "outputs": [],
   "source": [
    "newDf['rating'] = newDf['rating'].fillna(1)"
   ]
  },
  {
   "cell_type": "code",
   "execution_count": 220,
   "id": "5e429622",
   "metadata": {},
   "outputs": [
    {
     "data": {
      "text/plain": [
       "(9232, 14)"
      ]
     },
     "execution_count": 220,
     "metadata": {},
     "output_type": "execute_result"
    }
   ],
   "source": [
    "newDf.shape"
   ]
  },
  {
   "cell_type": "code",
   "execution_count": 222,
   "id": "bb5c0cc3",
   "metadata": {},
   "outputs": [],
   "source": [
    "newDf = newDf[:][(newDf['authorId'] != 960) & (newDf['authorId'] != 917)]"
   ]
  },
  {
   "cell_type": "code",
   "execution_count": 223,
   "id": "1599bc48",
   "metadata": {},
   "outputs": [],
   "source": [
    "newDf.to_csv('out/stories.csv', index=False, encoding='utf-8')"
   ]
  },
  {
   "cell_type": "code",
   "execution_count": null,
   "id": "46e86c38",
   "metadata": {},
   "outputs": [],
   "source": []
  }
 ],
 "metadata": {
  "kernelspec": {
   "display_name": "Python 3 (ipykernel)",
   "language": "python",
   "name": "python3"
  },
  "language_info": {
   "codemirror_mode": {
    "name": "ipython",
    "version": 3
   },
   "file_extension": ".py",
   "mimetype": "text/x-python",
   "name": "python",
   "nbconvert_exporter": "python",
   "pygments_lexer": "ipython3",
   "version": "3.9.7"
  }
 },
 "nbformat": 4,
 "nbformat_minor": 5
}
