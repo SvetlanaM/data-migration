{
 "cells": [
  {
   "cell_type": "code",
   "execution_count": 52,
   "id": "90e3463e",
   "metadata": {},
   "outputs": [],
   "source": [
    "import pandas as pd\n",
    "from datetime import datetime\n",
    "from slugify import slugify"
   ]
  },
  {
   "cell_type": "code",
   "execution_count": 53,
   "id": "28ad1ba2",
   "metadata": {},
   "outputs": [],
   "source": [
    "pd.set_option('display.max_rows', None)\n",
    "pd.set_option('display.max_columns', None)\n",
    "pd.set_option('display.width', None)"
   ]
  },
  {
   "cell_type": "code",
   "execution_count": 54,
   "id": "18279d60",
   "metadata": {},
   "outputs": [],
   "source": [
    "now = datetime.now()\n",
    "dt_string = now.strftime(\"%Y-%m-%d %H:%M:%S\")"
   ]
  },
  {
   "cell_type": "code",
   "execution_count": 55,
   "id": "d21349cf",
   "metadata": {},
   "outputs": [],
   "source": [
    "df = pd.read_csv('csv/products.csv')\n",
    "priceDf = pd.read_csv('out/price.csv')\n",
    "usersDf = pd.read_csv('csv/users.csv')\n",
    "users = pd.read_csv('out/users.csv')\n",
    "locDf = pd.read_csv('out/localities.csv')\n",
    "prodDf = pd.read_csv('out/products.csv')"
   ]
  },
  {
   "cell_type": "code",
   "execution_count": 56,
   "id": "147374eb",
   "metadata": {},
   "outputs": [],
   "source": [
    "df1 = df[['Price 1', 'Curr1', 'Number Review 1', 'Review 1', 'Rating 1', 'ID', 'Name', 'Curr1 ID']]\n",
    "df2 = df[['Price 2', 'Curr2', 'Number Review 2', 'Review 2', 'Rating 2', 'ID', 'Name', 'Curr2 ID']]\n",
    "df3 = df[['Price 3', 'Curr3', 'Number Review 3', 'Review 3', 'Rating 3', 'ID', 'Name', 'Curr3 ID']]\n",
    "df4 = df[['Price 4', 'Curr4', 'Number Review 4', 'Review 4', 'Rating 4', 'ID', 'Name', 'Curr4 ID']]\n",
    "df5 = df[['Price 5', 'Curr5', 'Number Review 5', 'Review 5', 'Rating 5', 'ID', 'Name', 'Curr5 ID']]"
   ]
  },
  {
   "cell_type": "code",
   "execution_count": 57,
   "id": "34027af1",
   "metadata": {},
   "outputs": [],
   "source": [
    "df1 = df1.rename(columns={'Price 1' : 'Price', 'Curr1' : 'Curr', 'Number Review 1' : 'Number Review', \\\n",
    "                          'Review 1' : 'Review', 'Rating 1' : 'Rating', 'Curr1 ID' : 'CurID'})\n",
    "df2 = df2.rename(columns={'Price 2' : 'Price', 'Curr2' : 'Curr', 'Number Review 2' : 'Number Review', \\\n",
    "                          'Review 2' : 'Review', 'Rating 2' : 'Rating', 'Curr2 ID' : 'CurID'})\n",
    "df3 = df3.rename(columns={'Price 3' : 'Price', 'Curr3' : 'Curr', 'Number Review 3' : 'Number Review', \\\n",
    "                          'Review 3' : 'Review', 'Rating 3' : 'Rating', 'Curr3 ID' : 'CurID'})\n",
    "df4 = df4.rename(columns={'Price 4' : 'Price', 'Curr4' : 'Curr', 'Number Review 4' : 'Number Review', \\\n",
    "                          'Review 4' : 'Review', 'Rating 4' : 'Rating', 'Curr4 ID' : 'CurID'})\n",
    "df5 = df5.rename(columns={'Price 5' : 'Price', 'Curr5' : 'Curr', 'Number Review 5' : 'Number Review', \\\n",
    "                          'Review 5' : 'Review', 'Rating 5' : 'Rating', 'Curr5 ID' : 'CurID'})"
   ]
  },
  {
   "cell_type": "code",
   "execution_count": 58,
   "id": "62a02c6d",
   "metadata": {},
   "outputs": [],
   "source": [
    "newDf = pd.concat([df1, df2, df3, df4, df5])"
   ]
  },
  {
   "cell_type": "code",
   "execution_count": 59,
   "id": "39a0ea72",
   "metadata": {},
   "outputs": [],
   "source": [
    "newDf.rename(columns = {'Review':'review', 'Rating' : 'rating'}, inplace = True)"
   ]
  },
  {
   "cell_type": "code",
   "execution_count": 60,
   "id": "433faf6c",
   "metadata": {},
   "outputs": [],
   "source": [
    "columns = ['id', 'createdDate', 'updatedDate', 'name', 'internalNote', 'isActive', 'authorId', 'statusId', \\\n",
    "          'productId', 'priceId', 'placeId', 'slug']"
   ]
  },
  {
   "cell_type": "code",
   "execution_count": 61,
   "id": "0bc210cd",
   "metadata": {},
   "outputs": [],
   "source": [
    "newDf = pd.concat([newDf, pd.DataFrame(columns = columns)])"
   ]
  },
  {
   "cell_type": "code",
   "execution_count": 62,
   "id": "2fa9693c",
   "metadata": {},
   "outputs": [],
   "source": [
    "import random\n",
    "import time\n",
    " \n",
    " \n",
    "def str_time_prop(start, end, time_format, prop):\n",
    "    stime = time.mktime(time.strptime(start, time_format))\n",
    "    etime = time.mktime(time.strptime(end, time_format))\n",
    "    ptime = stime + prop * (etime - stime)\n",
    "    return time.strftime(time_format, time.localtime(ptime))\n",
    " \n",
    " \n",
    "def random_date(start, end, prop):\n",
    "    return str_time_prop(start, end, '%Y-%m-%d', prop)"
   ]
  },
  {
   "cell_type": "code",
   "execution_count": 63,
   "id": "df3b62b5",
   "metadata": {},
   "outputs": [],
   "source": [
    "newDf['createdDate'] = [random_date(\"2021-1-1\", \"2022-4-30\", random.random()) for i in range(1, newDf.shape[0] + 1)]\n",
    "newDf['updatedDate'] = [i for i in newDf['createdDate']]\n",
    "newDf['internalNote'] = ''\n",
    "newDf['isActive'] = True\n",
    "newDf['statusId'] = 4\n",
    "newDf['placeId'] = ''"
   ]
  },
  {
   "cell_type": "code",
   "execution_count": 64,
   "id": "31844faa",
   "metadata": {},
   "outputs": [],
   "source": [
    "import random"
   ]
  },
  {
   "cell_type": "code",
   "execution_count": 65,
   "id": "0ed01ff1",
   "metadata": {},
   "outputs": [],
   "source": [
    "def set_slug(value):\n",
    "    return slugify('story' + str(value) + str(random.random()))\n",
    "\n",
    "newDf['slug'] = newDf['ID'].apply(set_slug)"
   ]
  },
  {
   "cell_type": "code",
   "execution_count": 66,
   "id": "c25731b4",
   "metadata": {},
   "outputs": [],
   "source": [
    "def get_price_id(value):\n",
    "    try:\n",
    "        return priceDf[:][priceDf['ID'] == str(value)]['id'].values[0]\n",
    "    except:\n",
    "        return ''\n",
    "\n",
    "newDf['priceId'] = newDf['CurID'].apply(get_price_id)"
   ]
  },
  {
   "cell_type": "code",
   "execution_count": 67,
   "id": "d7e9cc98",
   "metadata": {},
   "outputs": [],
   "source": [
    "newDf['ID'] = newDf['ID'].astype(int)"
   ]
  },
  {
   "cell_type": "code",
   "execution_count": 68,
   "id": "97026a69",
   "metadata": {},
   "outputs": [],
   "source": [
    "def get_product_id(value):\n",
    "    try:\n",
    "        return prodDf[:][prodDf['id'] == int(value)]['id'].values[0]\n",
    "    except:\n",
    "        return ''\n",
    "\n",
    "newDf['productId'] = newDf['ID'].apply(get_product_id)"
   ]
  },
  {
   "cell_type": "code",
   "execution_count": 69,
   "id": "218570e5",
   "metadata": {},
   "outputs": [],
   "source": [
    "def get_product_name(value):\n",
    "    try:\n",
    "        return prodDf[:][prodDf['id'] == int(value)]['name'].values[0]\n",
    "    except:\n",
    "        return ''\n",
    "    \n",
    "newDf['name'] = newDf['ID'].apply(get_product_name)"
   ]
  },
  {
   "cell_type": "code",
   "execution_count": 70,
   "id": "8eccac4d",
   "metadata": {},
   "outputs": [],
   "source": [
    "def get_author_id(value):\n",
    "    try:\n",
    "        temp = usersDf[:][(usersDf['Review1'] == str(value)) | \\\n",
    "         (usersDf['Review2'] == str(value)) | \\\n",
    "         (usersDf['Review3'] == str(value)) | \\\n",
    "         (usersDf['Review4'] == str(value)) | \\\n",
    "         (usersDf['Review6'] == str(value)) | \\\n",
    "         (usersDf['Review5'] == str(value))]['Username'].values[0].replace('\\n', '')\n",
    "        return users[:][users['username'].astype(str) == str(temp)]['id'].values[0]\n",
    "    except:\n",
    "        return ''\n",
    "\n",
    "newDf['authorId'] = newDf['Number Review'].apply(get_author_id)"
   ]
  },
  {
   "cell_type": "code",
   "execution_count": 71,
   "id": "918142dd",
   "metadata": {},
   "outputs": [],
   "source": [
    "newDf = newDf.drop(['Price', 'Curr', 'Number Review', 'ID', 'Name'], axis=1)"
   ]
  },
  {
   "cell_type": "code",
   "execution_count": 72,
   "id": "5c4db61f",
   "metadata": {},
   "outputs": [],
   "source": [
    "newDf['rating'] = newDf['rating'].fillna(0)\n",
    "newDf['id'] = [i for i in range(1, newDf.shape[0]+1)]"
   ]
  },
  {
   "cell_type": "code",
   "execution_count": 73,
   "id": "5e429622",
   "metadata": {},
   "outputs": [
    {
     "data": {
      "text/plain": [
       "(9715, 15)"
      ]
     },
     "execution_count": 73,
     "metadata": {},
     "output_type": "execute_result"
    }
   ],
   "source": [
    "newDf.shape"
   ]
  },
  {
   "cell_type": "code",
   "execution_count": 74,
   "id": "9a1306d6",
   "metadata": {},
   "outputs": [],
   "source": [
    "temp4 = newDf[:][newDf['authorId'] == '']"
   ]
  },
  {
   "cell_type": "code",
   "execution_count": 76,
   "id": "9d2997fd",
   "metadata": {},
   "outputs": [],
   "source": [
    "filter = newDf[\"authorId\"] != \"\"\n",
    "newDf = newDf[filter]"
   ]
  },
  {
   "cell_type": "code",
   "execution_count": 77,
   "id": "1599bc48",
   "metadata": {},
   "outputs": [],
   "source": [
    "newDf.to_csv('out/stories.csv', index=False, encoding='utf-8')"
   ]
  },
  {
   "cell_type": "code",
   "execution_count": 85,
   "id": "84e3a6a2",
   "metadata": {},
   "outputs": [
    {
     "data": {
      "text/plain": [
       "(8870, 15)"
      ]
     },
     "execution_count": 85,
     "metadata": {},
     "output_type": "execute_result"
    }
   ],
   "source": [
    "newDf.shape"
   ]
  },
  {
   "cell_type": "code",
   "execution_count": 81,
   "id": "a05dba9f",
   "metadata": {},
   "outputs": [
    {
     "data": {
      "text/html": [
       "<div>\n",
       "<style scoped>\n",
       "    .dataframe tbody tr th:only-of-type {\n",
       "        vertical-align: middle;\n",
       "    }\n",
       "\n",
       "    .dataframe tbody tr th {\n",
       "        vertical-align: top;\n",
       "    }\n",
       "\n",
       "    .dataframe thead th {\n",
       "        text-align: right;\n",
       "    }\n",
       "</style>\n",
       "<table border=\"1\" class=\"dataframe\">\n",
       "  <thead>\n",
       "    <tr style=\"text-align: right;\">\n",
       "      <th></th>\n",
       "      <th>review</th>\n",
       "      <th>rating</th>\n",
       "      <th>CurID</th>\n",
       "      <th>id</th>\n",
       "      <th>createdDate</th>\n",
       "      <th>updatedDate</th>\n",
       "      <th>name</th>\n",
       "      <th>internalNote</th>\n",
       "      <th>isActive</th>\n",
       "      <th>authorId</th>\n",
       "      <th>statusId</th>\n",
       "      <th>productId</th>\n",
       "      <th>priceId</th>\n",
       "      <th>placeId</th>\n",
       "      <th>slug</th>\n",
       "    </tr>\n",
       "  </thead>\n",
       "  <tbody>\n",
       "    <tr>\n",
       "      <th>1315</th>\n",
       "      <td>I paid 50 euros for the cooking class. A great...</td>\n",
       "      <td>5.0</td>\n",
       "      <td>1316_1</td>\n",
       "      <td>1316</td>\n",
       "      <td>2022-03-10</td>\n",
       "      <td>2022-03-10</td>\n",
       "      <td>Cooking Class</td>\n",
       "      <td></td>\n",
       "      <td>True</td>\n",
       "      <td>1567</td>\n",
       "      <td>4</td>\n",
       "      <td>1316</td>\n",
       "      <td>1271</td>\n",
       "      <td></td>\n",
       "      <td>story1316-00-1869804074649446</td>\n",
       "    </tr>\n",
       "    <tr>\n",
       "      <th>1315</th>\n",
       "      <td>Cooking class costs 600 dh per person for a gr...</td>\n",
       "      <td>5.0</td>\n",
       "      <td>1316_2</td>\n",
       "      <td>3259</td>\n",
       "      <td>2021-06-21</td>\n",
       "      <td>2021-06-21</td>\n",
       "      <td>Cooking Class</td>\n",
       "      <td></td>\n",
       "      <td>True</td>\n",
       "      <td>2126</td>\n",
       "      <td>4</td>\n",
       "      <td>1316</td>\n",
       "      <td>3084</td>\n",
       "      <td></td>\n",
       "      <td>story1316-00-2422658321032004</td>\n",
       "    </tr>\n",
       "    <tr>\n",
       "      <th>1315</th>\n",
       "      <td>We went shopping for the ingredients for the m...</td>\n",
       "      <td>5.0</td>\n",
       "      <td>1316_3</td>\n",
       "      <td>5202</td>\n",
       "      <td>2021-06-05</td>\n",
       "      <td>2021-06-05</td>\n",
       "      <td>Cooking Class</td>\n",
       "      <td></td>\n",
       "      <td>True</td>\n",
       "      <td>2175</td>\n",
       "      <td>4</td>\n",
       "      <td>1316</td>\n",
       "      <td>4800</td>\n",
       "      <td></td>\n",
       "      <td>story1316-00-3492077014126911</td>\n",
       "    </tr>\n",
       "    <tr>\n",
       "      <th>1315</th>\n",
       "      <td>Hello. I took the cooking class in Fez and pai...</td>\n",
       "      <td>5.0</td>\n",
       "      <td>1316_4</td>\n",
       "      <td>7145</td>\n",
       "      <td>2021-03-08</td>\n",
       "      <td>2021-03-08</td>\n",
       "      <td>Cooking Class</td>\n",
       "      <td></td>\n",
       "      <td>True</td>\n",
       "      <td>1892</td>\n",
       "      <td>4</td>\n",
       "      <td>1316</td>\n",
       "      <td>6401</td>\n",
       "      <td></td>\n",
       "      <td>story1316-00-5821402753487351</td>\n",
       "    </tr>\n",
       "    <tr>\n",
       "      <th>1315</th>\n",
       "      <td>I paid 600 dh/ £40 per person for the cooking ...</td>\n",
       "      <td>5.0</td>\n",
       "      <td>1316_5</td>\n",
       "      <td>9088</td>\n",
       "      <td>2021-12-08</td>\n",
       "      <td>2021-12-08</td>\n",
       "      <td>Cooking Class</td>\n",
       "      <td></td>\n",
       "      <td>True</td>\n",
       "      <td>2392</td>\n",
       "      <td>4</td>\n",
       "      <td>1316</td>\n",
       "      <td>7883</td>\n",
       "      <td></td>\n",
       "      <td>story1316-00-7353865023680596</td>\n",
       "    </tr>\n",
       "  </tbody>\n",
       "</table>\n",
       "</div>"
      ],
      "text/plain": [
       "                                                 review  rating   CurID    id  \\\n",
       "1315  I paid 50 euros for the cooking class. A great...     5.0  1316_1  1316   \n",
       "1315  Cooking class costs 600 dh per person for a gr...     5.0  1316_2  3259   \n",
       "1315  We went shopping for the ingredients for the m...     5.0  1316_3  5202   \n",
       "1315  Hello. I took the cooking class in Fez and pai...     5.0  1316_4  7145   \n",
       "1315  I paid 600 dh/ £40 per person for the cooking ...     5.0  1316_5  9088   \n",
       "\n",
       "     createdDate updatedDate           name internalNote  isActive authorId  \\\n",
       "1315  2022-03-10  2022-03-10  Cooking Class                   True     1567   \n",
       "1315  2021-06-21  2021-06-21  Cooking Class                   True     2126   \n",
       "1315  2021-06-05  2021-06-05  Cooking Class                   True     2175   \n",
       "1315  2021-03-08  2021-03-08  Cooking Class                   True     1892   \n",
       "1315  2021-12-08  2021-12-08  Cooking Class                   True     2392   \n",
       "\n",
       "      statusId  productId priceId placeId                           slug  \n",
       "1315         4       1316    1271          story1316-00-1869804074649446  \n",
       "1315         4       1316    3084          story1316-00-2422658321032004  \n",
       "1315         4       1316    4800          story1316-00-3492077014126911  \n",
       "1315         4       1316    6401          story1316-00-5821402753487351  \n",
       "1315         4       1316    7883          story1316-00-7353865023680596  "
      ]
     },
     "execution_count": 81,
     "metadata": {},
     "output_type": "execute_result"
    }
   ],
   "source": [
    "newDf[:][newDf['productId'] == 1316]"
   ]
  },
  {
   "cell_type": "code",
   "execution_count": null,
   "id": "d84e0c8e",
   "metadata": {},
   "outputs": [],
   "source": []
  }
 ],
 "metadata": {
  "kernelspec": {
   "display_name": "Python 3 (ipykernel)",
   "language": "python",
   "name": "python3"
  },
  "language_info": {
   "codemirror_mode": {
    "name": "ipython",
    "version": 3
   },
   "file_extension": ".py",
   "mimetype": "text/x-python",
   "name": "python",
   "nbconvert_exporter": "python",
   "pygments_lexer": "ipython3",
   "version": "3.9.7"
  }
 },
 "nbformat": 4,
 "nbformat_minor": 5
}
