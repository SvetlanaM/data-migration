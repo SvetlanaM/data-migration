{
 "cells": [
  {
   "cell_type": "code",
   "execution_count": 47,
   "id": "90e3463e",
   "metadata": {},
   "outputs": [],
   "source": [
    "import pandas as pd\n",
    "from datetime import datetime\n",
    "from slugify import slugify"
   ]
  },
  {
   "cell_type": "code",
   "execution_count": 48,
   "id": "28ad1ba2",
   "metadata": {},
   "outputs": [],
   "source": [
    "pd.set_option('display.max_rows', None)\n",
    "pd.set_option('display.max_columns', None)\n",
    "pd.set_option('display.width', None)"
   ]
  },
  {
   "cell_type": "code",
   "execution_count": 49,
   "id": "18279d60",
   "metadata": {},
   "outputs": [],
   "source": [
    "now = datetime.now()\n",
    "dt_string = now.strftime(\"%Y-%m-%d %H:%M:%S\")"
   ]
  },
  {
   "cell_type": "code",
   "execution_count": 50,
   "id": "d21349cf",
   "metadata": {},
   "outputs": [],
   "source": [
    "df = pd.read_csv('csv/products.csv', delimiter=';')\n",
    "priceDf = pd.read_csv('out/price.csv')\n",
    "usersDf = pd.read_csv('csv/users.csv')\n",
    "users = pd.read_csv('out/users.csv')\n",
    "locDf = pd.read_csv('out/localities.csv', delimiter=';')\n",
    "prodDf = pd.read_csv('out/products.csv')"
   ]
  },
  {
   "cell_type": "code",
   "execution_count": 51,
   "id": "147374eb",
   "metadata": {},
   "outputs": [],
   "source": [
    "df1 = df[['Price 1', 'Curr1', 'Number Review 1', 'Review 1', 'Rating 1', 'ID', 'Name']]\n",
    "df2 = df[['Price 2', 'Curr2', 'Number Review 2', 'Review 2', 'Rating 2', 'ID', 'Name']]\n",
    "df3 = df[['Price 3', 'Curr3', 'Number Review 3', 'Review 3', 'Rating 3', 'ID', 'Name']]\n",
    "df4 = df[['Price 4', 'Curr4', 'Number Review 4', 'Review 4', 'Rating 4', 'ID', 'Name']]\n",
    "df5 = df[['Price 5', 'Curr5', 'Number Review 5', 'Review 5', 'Rating 5', 'ID', 'Name']]"
   ]
  },
  {
   "cell_type": "code",
   "execution_count": 52,
   "id": "34027af1",
   "metadata": {},
   "outputs": [],
   "source": [
    "df1 = df1.rename(columns={'Price 1' : 'Price', 'Curr1' : 'Curr', 'Number Review 1' : 'Number Review', \\\n",
    "                          'Review 1' : 'Review', 'Rating 1' : 'Rating'})\n",
    "df2 = df2.rename(columns={'Price 2' : 'Price', 'Curr2' : 'Curr', 'Number Review 2' : 'Number Review', \\\n",
    "                          'Review 2' : 'Review', 'Rating 2' : 'Rating'})\n",
    "df3 = df3.rename(columns={'Price 3' : 'Price', 'Curr3' : 'Curr', 'Number Review 3' : 'Number Review', \\\n",
    "                          'Review 3' : 'Review', 'Rating 3' : 'Rating'})\n",
    "df4 = df4.rename(columns={'Price 4' : 'Price', 'Curr4' : 'Curr', 'Number Review 4' : 'Number Review', \\\n",
    "                          'Review 4' : 'Review', 'Rating 4' : 'Rating'})\n",
    "df5 = df5.rename(columns={'Price 5' : 'Price', 'Curr5' : 'Curr', 'Number Review 5' : 'Number Review', \\\n",
    "                          'Review 5' : 'Review', 'Rating 5' : 'Rating'})"
   ]
  },
  {
   "cell_type": "code",
   "execution_count": 53,
   "id": "62a02c6d",
   "metadata": {},
   "outputs": [],
   "source": [
    "newDf = pd.concat([df1, df2, df3, df4, df5])"
   ]
  },
  {
   "cell_type": "code",
   "execution_count": 54,
   "id": "39a0ea72",
   "metadata": {},
   "outputs": [],
   "source": [
    "newDf.rename(columns = {'Review':'review', 'Rating' : 'rating'}, inplace = True)"
   ]
  },
  {
   "cell_type": "code",
   "execution_count": 55,
   "id": "433faf6c",
   "metadata": {},
   "outputs": [],
   "source": [
    "columns = ['id', 'createdDate', 'updatedDate', 'name', 'internalNote', 'isActive', 'authorId', 'statusId', \\\n",
    "          'productId', 'priceId', 'placeId', 'slug']"
   ]
  },
  {
   "cell_type": "code",
   "execution_count": 56,
   "id": "0bc210cd",
   "metadata": {},
   "outputs": [],
   "source": [
    "newDf = pd.concat([newDf, pd.DataFrame(columns = columns)])"
   ]
  },
  {
   "cell_type": "code",
   "execution_count": 57,
   "id": "2fa9693c",
   "metadata": {},
   "outputs": [],
   "source": [
    "import random\n",
    "import time\n",
    " \n",
    " \n",
    "def str_time_prop(start, end, time_format, prop):\n",
    "    stime = time.mktime(time.strptime(start, time_format))\n",
    "    etime = time.mktime(time.strptime(end, time_format))\n",
    "    ptime = stime + prop * (etime - stime)\n",
    "    return time.strftime(time_format, time.localtime(ptime))\n",
    " \n",
    " \n",
    "def random_date(start, end, prop):\n",
    "    return str_time_prop(start, end, '%Y-%m-%d', prop)"
   ]
  },
  {
   "cell_type": "code",
   "execution_count": 58,
   "id": "df3b62b5",
   "metadata": {},
   "outputs": [],
   "source": [
    "newDf['createdDate'] = [random_date(\"2021-1-1\", \"2022-4-30\", random.random()) for i in range(1, newDf.shape[0] + 1)]\n",
    "newDf['updatedDate'] = [i for i in newDf['createdDate']]\n",
    "newDf['name'] = ''\n",
    "newDf['internalNote'] = ''\n",
    "newDf['isActive'] = True\n",
    "newDf['statusId'] = 4\n",
    "newDf['placeId'] = ''"
   ]
  },
  {
   "cell_type": "code",
   "execution_count": 59,
   "id": "0ed01ff1",
   "metadata": {},
   "outputs": [],
   "source": [
    "def set_slug(value):\n",
    "    return slugify(str(value))\n",
    "\n",
    "newDf['slug'] = newDf['review'][:10].apply(set_slug)"
   ]
  },
  {
   "cell_type": "code",
   "execution_count": 60,
   "id": "d03e3187",
   "metadata": {},
   "outputs": [],
   "source": [
    "priceDf['merged'] = priceDf['amount'] + priceDf['currencyId']\n",
    "newDf['merged'] = newDf['Price'] + newDf['Curr']"
   ]
  },
  {
   "cell_type": "code",
   "execution_count": 61,
   "id": "c25731b4",
   "metadata": {},
   "outputs": [],
   "source": [
    "def get_price_id(value):\n",
    "    try:\n",
    "        return priceDf[:][priceDf['merged'] == str(value)]['id'].values[0]\n",
    "    except:\n",
    "        return ''\n",
    "\n",
    "newDf['priceId'] = newDf['merged'].apply(get_price_id)\n",
    "#newDf['priceId'] = ''"
   ]
  },
  {
   "cell_type": "code",
   "execution_count": 62,
   "id": "97026a69",
   "metadata": {},
   "outputs": [],
   "source": [
    "def get_product_id(value):\n",
    "    try:\n",
    "        return prodDf[:][prodDf['name'] == str(value)]['id'].values[0]\n",
    "    except:\n",
    "        return ''\n",
    "\n",
    "newDf['productId'] = newDf['Name'].apply(get_product_id)"
   ]
  },
  {
   "cell_type": "code",
   "execution_count": 63,
   "id": "8eccac4d",
   "metadata": {},
   "outputs": [],
   "source": [
    "def get_author_id(value):\n",
    "    try:\n",
    "        temp = usersDf[:][(usersDf['Review1'] == str(value)) | \\\n",
    "         (usersDf['Review2'] == str(value)) | \\\n",
    "         (usersDf['Review3'] == str(value)) | \\\n",
    "         (usersDf['Review4'] == str(value)) | \\\n",
    "         (usersDf['Review5'] == str(value))]['Username'].values[0]\n",
    "        return users[:][users['username'] == temp]['id'].values[0]\n",
    "    except:\n",
    "        return ''\n",
    "\n",
    "newDf['authorId'] = newDf['Number Review'].apply(get_author_id)\n",
    "#newDf['authorId'] = 13"
   ]
  },
  {
   "cell_type": "code",
   "execution_count": 64,
   "id": "918142dd",
   "metadata": {},
   "outputs": [],
   "source": [
    "newDf = newDf.drop(['Price', 'Curr', 'Number Review', 'ID', 'merged', 'Name'], axis=1)"
   ]
  },
  {
   "cell_type": "code",
   "execution_count": 65,
   "id": "5c4db61f",
   "metadata": {},
   "outputs": [],
   "source": [
    "newDf['rating'] = newDf['rating'].fillna(0)\n",
    "newDf['id'] = [i for i in range(1, newDf.shape[0]+1)]"
   ]
  },
  {
   "cell_type": "code",
   "execution_count": 66,
   "id": "5e429622",
   "metadata": {},
   "outputs": [
    {
     "data": {
      "text/plain": [
       "(9715, 14)"
      ]
     },
     "execution_count": 66,
     "metadata": {},
     "output_type": "execute_result"
    }
   ],
   "source": [
    "newDf.shape"
   ]
  },
  {
   "cell_type": "code",
   "execution_count": 67,
   "id": "1599bc48",
   "metadata": {},
   "outputs": [],
   "source": [
    "newDf.to_csv('out/stories.csv', index=False, encoding='utf-8')"
   ]
  },
  {
   "cell_type": "code",
   "execution_count": 68,
   "id": "fd31ee21",
   "metadata": {},
   "outputs": [
    {
     "data": {
      "text/html": [
       "<div>\n",
       "<style scoped>\n",
       "    .dataframe tbody tr th:only-of-type {\n",
       "        vertical-align: middle;\n",
       "    }\n",
       "\n",
       "    .dataframe tbody tr th {\n",
       "        vertical-align: top;\n",
       "    }\n",
       "\n",
       "    .dataframe thead th {\n",
       "        text-align: right;\n",
       "    }\n",
       "</style>\n",
       "<table border=\"1\" class=\"dataframe\">\n",
       "  <thead>\n",
       "    <tr style=\"text-align: right;\">\n",
       "      <th></th>\n",
       "      <th>review</th>\n",
       "      <th>rating</th>\n",
       "      <th>id</th>\n",
       "      <th>createdDate</th>\n",
       "      <th>updatedDate</th>\n",
       "      <th>name</th>\n",
       "      <th>internalNote</th>\n",
       "      <th>isActive</th>\n",
       "      <th>authorId</th>\n",
       "      <th>statusId</th>\n",
       "      <th>productId</th>\n",
       "      <th>priceId</th>\n",
       "      <th>placeId</th>\n",
       "      <th>slug</th>\n",
       "    </tr>\n",
       "  </thead>\n",
       "  <tbody>\n",
       "    <tr>\n",
       "      <th>1938</th>\n",
       "      <td>The taxi ride from Dubai Airport to Dubai city...</td>\n",
       "      <td>0.0</td>\n",
       "      <td>9711</td>\n",
       "      <td>2021-04-03</td>\n",
       "      <td>2021-04-03</td>\n",
       "      <td></td>\n",
       "      <td></td>\n",
       "      <td>True</td>\n",
       "      <td>1818</td>\n",
       "      <td>4</td>\n",
       "      <td>1939</td>\n",
       "      <td>1897</td>\n",
       "      <td></td>\n",
       "      <td>NaN</td>\n",
       "    </tr>\n",
       "    <tr>\n",
       "      <th>1939</th>\n",
       "      <td>The bus ticket costs Dhs 7 and you can pay in ...</td>\n",
       "      <td>0.0</td>\n",
       "      <td>9712</td>\n",
       "      <td>2021-03-02</td>\n",
       "      <td>2021-03-02</td>\n",
       "      <td></td>\n",
       "      <td></td>\n",
       "      <td>True</td>\n",
       "      <td>1607</td>\n",
       "      <td>4</td>\n",
       "      <td>1940</td>\n",
       "      <td>1902</td>\n",
       "      <td></td>\n",
       "      <td>NaN</td>\n",
       "    </tr>\n",
       "    <tr>\n",
       "      <th>1940</th>\n",
       "      <td>NaN</td>\n",
       "      <td>0.0</td>\n",
       "      <td>9713</td>\n",
       "      <td>2022-04-29</td>\n",
       "      <td>2022-04-29</td>\n",
       "      <td></td>\n",
       "      <td></td>\n",
       "      <td>True</td>\n",
       "      <td></td>\n",
       "      <td>4</td>\n",
       "      <td>1941</td>\n",
       "      <td></td>\n",
       "      <td></td>\n",
       "      <td>NaN</td>\n",
       "    </tr>\n",
       "    <tr>\n",
       "      <th>1941</th>\n",
       "      <td>NaN</td>\n",
       "      <td>0.0</td>\n",
       "      <td>9714</td>\n",
       "      <td>2022-02-20</td>\n",
       "      <td>2022-02-20</td>\n",
       "      <td></td>\n",
       "      <td></td>\n",
       "      <td>True</td>\n",
       "      <td></td>\n",
       "      <td>4</td>\n",
       "      <td>1942</td>\n",
       "      <td></td>\n",
       "      <td></td>\n",
       "      <td>NaN</td>\n",
       "    </tr>\n",
       "    <tr>\n",
       "      <th>1942</th>\n",
       "      <td>The fastest way to travel from Antananarivo to...</td>\n",
       "      <td>0.0</td>\n",
       "      <td>9715</td>\n",
       "      <td>2021-06-29</td>\n",
       "      <td>2021-06-29</td>\n",
       "      <td></td>\n",
       "      <td></td>\n",
       "      <td>True</td>\n",
       "      <td>2324</td>\n",
       "      <td>4</td>\n",
       "      <td>1943</td>\n",
       "      <td>1793</td>\n",
       "      <td></td>\n",
       "      <td>NaN</td>\n",
       "    </tr>\n",
       "  </tbody>\n",
       "</table>\n",
       "</div>"
      ],
      "text/plain": [
       "                                                 review  rating    id  \\\n",
       "1938  The taxi ride from Dubai Airport to Dubai city...     0.0  9711   \n",
       "1939  The bus ticket costs Dhs 7 and you can pay in ...     0.0  9712   \n",
       "1940                                                NaN     0.0  9713   \n",
       "1941                                                NaN     0.0  9714   \n",
       "1942  The fastest way to travel from Antananarivo to...     0.0  9715   \n",
       "\n",
       "     createdDate updatedDate name internalNote  isActive authorId  statusId  \\\n",
       "1938  2021-04-03  2021-04-03                        True     1818         4   \n",
       "1939  2021-03-02  2021-03-02                        True     1607         4   \n",
       "1940  2022-04-29  2022-04-29                        True                  4   \n",
       "1941  2022-02-20  2022-02-20                        True                  4   \n",
       "1942  2021-06-29  2021-06-29                        True     2324         4   \n",
       "\n",
       "      productId priceId placeId slug  \n",
       "1938       1939    1897          NaN  \n",
       "1939       1940    1902          NaN  \n",
       "1940       1941                  NaN  \n",
       "1941       1942                  NaN  \n",
       "1942       1943    1793          NaN  "
      ]
     },
     "execution_count": 68,
     "metadata": {},
     "output_type": "execute_result"
    }
   ],
   "source": [
    "newDf.tail()"
   ]
  },
  {
   "cell_type": "code",
   "execution_count": null,
   "id": "318f2786",
   "metadata": {},
   "outputs": [],
   "source": []
  }
 ],
 "metadata": {
  "kernelspec": {
   "display_name": "Python 3 (ipykernel)",
   "language": "python",
   "name": "python3"
  },
  "language_info": {
   "codemirror_mode": {
    "name": "ipython",
    "version": 3
   },
   "file_extension": ".py",
   "mimetype": "text/x-python",
   "name": "python",
   "nbconvert_exporter": "python",
   "pygments_lexer": "ipython3",
   "version": "3.9.7"
  }
 },
 "nbformat": 4,
 "nbformat_minor": 5
}
