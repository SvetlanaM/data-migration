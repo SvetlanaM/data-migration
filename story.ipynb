{
 "cells": [
  {
   "cell_type": "code",
   "execution_count": 1,
   "id": "90e3463e",
   "metadata": {},
   "outputs": [],
   "source": [
    "import pandas as pd\n",
    "from datetime import datetime\n",
    "from slugify import slugify"
   ]
  },
  {
   "cell_type": "code",
   "execution_count": 2,
   "id": "28ad1ba2",
   "metadata": {},
   "outputs": [],
   "source": [
    "pd.set_option('display.max_rows', None)\n",
    "pd.set_option('display.max_columns', None)\n",
    "pd.set_option('display.width', None)"
   ]
  },
  {
   "cell_type": "code",
   "execution_count": 3,
   "id": "18279d60",
   "metadata": {},
   "outputs": [],
   "source": [
    "now = datetime.now()\n",
    "dt_string = now.strftime(\"%Y-%m-%d %H:%M:%S\")"
   ]
  },
  {
   "cell_type": "code",
   "execution_count": 4,
   "id": "d21349cf",
   "metadata": {},
   "outputs": [],
   "source": [
    "df = pd.read_csv('csv/products.csv')\n",
    "priceDf = pd.read_csv('out/price.csv')\n",
    "usersDf = pd.read_csv('csv/users.csv')\n",
    "users = pd.read_csv('out/users.csv')\n",
    "locDf = pd.read_csv('out/localities.csv')\n",
    "prodDf = pd.read_csv('out/products.csv')"
   ]
  },
  {
   "cell_type": "code",
   "execution_count": 5,
   "id": "147374eb",
   "metadata": {},
   "outputs": [],
   "source": [
    "df1 = df[['Price 1', 'Curr1', 'Number Review 1', 'Review 1', 'Rating 1', 'ID', 'Name', 'Curr1 ID']]\n",
    "df2 = df[['Price 2', 'Curr2', 'Number Review 2', 'Review 2', 'Rating 2', 'ID', 'Name', 'Curr2 ID']]\n",
    "df3 = df[['Price 3', 'Curr3', 'Number Review 3', 'Review 3', 'Rating 3', 'ID', 'Name', 'Curr3 ID']]\n",
    "df4 = df[['Price 4', 'Curr4', 'Number Review 4', 'Review 4', 'Rating 4', 'ID', 'Name', 'Curr4 ID']]\n",
    "df5 = df[['Price 5', 'Curr5', 'Number Review 5', 'Review 5', 'Rating 5', 'ID', 'Name', 'Curr5 ID']]"
   ]
  },
  {
   "cell_type": "code",
   "execution_count": 6,
   "id": "34027af1",
   "metadata": {},
   "outputs": [],
   "source": [
    "df1 = df1.rename(columns={'Price 1' : 'Price', 'Curr1' : 'Curr', 'Number Review 1' : 'Number Review', \\\n",
    "                          'Review 1' : 'Review', 'Rating 1' : 'Rating', 'Curr1 ID' : 'CurID'})\n",
    "df2 = df2.rename(columns={'Price 2' : 'Price', 'Curr2' : 'Curr', 'Number Review 2' : 'Number Review', \\\n",
    "                          'Review 2' : 'Review', 'Rating 2' : 'Rating', 'Curr2 ID' : 'CurID'})\n",
    "df3 = df3.rename(columns={'Price 3' : 'Price', 'Curr3' : 'Curr', 'Number Review 3' : 'Number Review', \\\n",
    "                          'Review 3' : 'Review', 'Rating 3' : 'Rating', 'Curr3 ID' : 'CurID'})\n",
    "df4 = df4.rename(columns={'Price 4' : 'Price', 'Curr4' : 'Curr', 'Number Review 4' : 'Number Review', \\\n",
    "                          'Review 4' : 'Review', 'Rating 4' : 'Rating', 'Curr4 ID' : 'CurID'})\n",
    "df5 = df5.rename(columns={'Price 5' : 'Price', 'Curr5' : 'Curr', 'Number Review 5' : 'Number Review', \\\n",
    "                          'Review 5' : 'Review', 'Rating 5' : 'Rating', 'Curr5 ID' : 'CurID'})"
   ]
  },
  {
   "cell_type": "code",
   "execution_count": 7,
   "id": "62a02c6d",
   "metadata": {},
   "outputs": [],
   "source": [
    "newDf = pd.concat([df1, df2, df3, df4, df5])"
   ]
  },
  {
   "cell_type": "code",
   "execution_count": 8,
   "id": "39a0ea72",
   "metadata": {},
   "outputs": [],
   "source": [
    "newDf.rename(columns = {'Review':'review', 'Rating' : 'rating'}, inplace = True)"
   ]
  },
  {
   "cell_type": "code",
   "execution_count": 9,
   "id": "433faf6c",
   "metadata": {},
   "outputs": [],
   "source": [
    "columns = ['id', 'createdDate', 'updatedDate', 'name', 'internalNote', 'isActive', 'authorId', 'statusId', \\\n",
    "          'productId', 'priceId', 'placeId', 'slug']"
   ]
  },
  {
   "cell_type": "code",
   "execution_count": 10,
   "id": "0bc210cd",
   "metadata": {},
   "outputs": [],
   "source": [
    "newDf = pd.concat([newDf, pd.DataFrame(columns = columns)])"
   ]
  },
  {
   "cell_type": "code",
   "execution_count": 11,
   "id": "2fa9693c",
   "metadata": {},
   "outputs": [],
   "source": [
    "import random\n",
    "import time\n",
    " \n",
    " \n",
    "def str_time_prop(start, end, time_format, prop):\n",
    "    stime = time.mktime(time.strptime(start, time_format))\n",
    "    etime = time.mktime(time.strptime(end, time_format))\n",
    "    ptime = stime + prop * (etime - stime)\n",
    "    return time.strftime(time_format, time.localtime(ptime))\n",
    " \n",
    " \n",
    "def random_date(start, end, prop):\n",
    "    return str_time_prop(start, end, '%Y-%m-%d', prop)"
   ]
  },
  {
   "cell_type": "code",
   "execution_count": 24,
   "id": "df3b62b5",
   "metadata": {},
   "outputs": [],
   "source": [
    "newDf['createdDate'] = [random_date(\"2021-1-1\", \"2022-4-30\", random.random()) for i in range(1, newDf.shape[0] + 1)]\n",
    "newDf['updatedDate'] = [i for i in newDf['createdDate']]\n",
    "newDf['name'] = 'story'\n",
    "newDf['internalNote'] = ''\n",
    "newDf['isActive'] = True\n",
    "newDf['statusId'] = 4\n",
    "newDf['placeId'] = ''"
   ]
  },
  {
   "cell_type": "code",
   "execution_count": 23,
   "id": "0ed01ff1",
   "metadata": {},
   "outputs": [],
   "source": [
    "def set_slug(value):\n",
    "    return slugify('story' + str(value))\n",
    "\n",
    "newDf['slug'] = newDf['id'].apply(set_slug)"
   ]
  },
  {
   "cell_type": "code",
   "execution_count": 14,
   "id": "c25731b4",
   "metadata": {},
   "outputs": [],
   "source": [
    "def get_price_id(value):\n",
    "    try:\n",
    "        return priceDf[:][priceDf['ID'] == str(value)]['id'].values[0]\n",
    "    except:\n",
    "        return ''\n",
    "\n",
    "newDf['priceId'] = newDf['CurID'].apply(get_price_id)"
   ]
  },
  {
   "cell_type": "code",
   "execution_count": 15,
   "id": "97026a69",
   "metadata": {},
   "outputs": [],
   "source": [
    "def get_product_id(value):\n",
    "    try:\n",
    "        return prodDf[:][prodDf['name'] == str(value)]['id'].values[0]\n",
    "    except:\n",
    "        return ''\n",
    "\n",
    "newDf['productId'] = newDf['Name'].apply(get_product_id)"
   ]
  },
  {
   "cell_type": "code",
   "execution_count": 16,
   "id": "8eccac4d",
   "metadata": {},
   "outputs": [],
   "source": [
    "def get_author_id(value):\n",
    "    try:\n",
    "        temp = usersDf[:][(usersDf['Review1'] == str(value)) | \\\n",
    "         (usersDf['Review2'] == str(value)) | \\\n",
    "         (usersDf['Review3'] == str(value)) | \\\n",
    "         (usersDf['Review4'] == str(value)) | \\\n",
    "         (usersDf['Review6'] == str(value)) | \\\n",
    "         (usersDf['Review5'] == str(value))]['Username'].values[0].replace('\\n', '')\n",
    "        return users[:][users['username'].astype(str) == str(temp)]['id'].values[0]\n",
    "    except:\n",
    "        return ''\n",
    "\n",
    "newDf['authorId'] = newDf['Number Review'].apply(get_author_id)"
   ]
  },
  {
   "cell_type": "code",
   "execution_count": 18,
   "id": "918142dd",
   "metadata": {},
   "outputs": [],
   "source": [
    "newDf = newDf.drop(['Price', 'Curr', 'Number Review', 'ID', 'Name'], axis=1)"
   ]
  },
  {
   "cell_type": "code",
   "execution_count": 19,
   "id": "5c4db61f",
   "metadata": {},
   "outputs": [],
   "source": [
    "newDf['rating'] = newDf['rating'].fillna(0)\n",
    "newDf['id'] = [i for i in range(1, newDf.shape[0]+1)]"
   ]
  },
  {
   "cell_type": "code",
   "execution_count": 20,
   "id": "5e429622",
   "metadata": {},
   "outputs": [
    {
     "data": {
      "text/plain": [
       "(9715, 15)"
      ]
     },
     "execution_count": 20,
     "metadata": {},
     "output_type": "execute_result"
    }
   ],
   "source": [
    "newDf.shape"
   ]
  },
  {
   "cell_type": "code",
   "execution_count": 21,
   "id": "1599bc48",
   "metadata": {},
   "outputs": [],
   "source": [
    "newDf.to_csv('out/stories.csv', index=False, encoding='utf-8')"
   ]
  },
  {
   "cell_type": "code",
   "execution_count": 22,
   "id": "fd31ee21",
   "metadata": {},
   "outputs": [
    {
     "data": {
      "text/html": [
       "<div>\n",
       "<style scoped>\n",
       "    .dataframe tbody tr th:only-of-type {\n",
       "        vertical-align: middle;\n",
       "    }\n",
       "\n",
       "    .dataframe tbody tr th {\n",
       "        vertical-align: top;\n",
       "    }\n",
       "\n",
       "    .dataframe thead th {\n",
       "        text-align: right;\n",
       "    }\n",
       "</style>\n",
       "<table border=\"1\" class=\"dataframe\">\n",
       "  <thead>\n",
       "    <tr style=\"text-align: right;\">\n",
       "      <th></th>\n",
       "      <th>review</th>\n",
       "      <th>rating</th>\n",
       "      <th>CurID</th>\n",
       "      <th>id</th>\n",
       "      <th>createdDate</th>\n",
       "      <th>updatedDate</th>\n",
       "      <th>name</th>\n",
       "      <th>internalNote</th>\n",
       "      <th>isActive</th>\n",
       "      <th>authorId</th>\n",
       "      <th>statusId</th>\n",
       "      <th>productId</th>\n",
       "      <th>priceId</th>\n",
       "      <th>placeId</th>\n",
       "      <th>slug</th>\n",
       "    </tr>\n",
       "  </thead>\n",
       "  <tbody>\n",
       "    <tr>\n",
       "      <th>0</th>\n",
       "      <td>In Tangkuban Perahu Volcano we 'must' have pai...</td>\n",
       "      <td>3.0</td>\n",
       "      <td>1_1</td>\n",
       "      <td>1</td>\n",
       "      <td>2021-05-17</td>\n",
       "      <td>2021-05-17</td>\n",
       "      <td></td>\n",
       "      <td></td>\n",
       "      <td>True</td>\n",
       "      <td>57</td>\n",
       "      <td>4</td>\n",
       "      <td>1</td>\n",
       "      <td>1</td>\n",
       "      <td></td>\n",
       "      <td>in-tangkuban-perahu-volcano-we-must-have-paid-...</td>\n",
       "    </tr>\n",
       "    <tr>\n",
       "      <th>1</th>\n",
       "      <td>Not so many choices for ferry boats and they w...</td>\n",
       "      <td>1.0</td>\n",
       "      <td>2_1</td>\n",
       "      <td>2</td>\n",
       "      <td>2021-12-08</td>\n",
       "      <td>2021-12-08</td>\n",
       "      <td></td>\n",
       "      <td></td>\n",
       "      <td>True</td>\n",
       "      <td>427</td>\n",
       "      <td>4</td>\n",
       "      <td>2</td>\n",
       "      <td>2</td>\n",
       "      <td></td>\n",
       "      <td>not-so-many-choices-for-ferry-boats-and-they-w...</td>\n",
       "    </tr>\n",
       "    <tr>\n",
       "      <th>2</th>\n",
       "      <td>I just love Bali! I've visited Bali many times...</td>\n",
       "      <td>5.0</td>\n",
       "      <td>3_1</td>\n",
       "      <td>3</td>\n",
       "      <td>2022-01-06</td>\n",
       "      <td>2022-01-06</td>\n",
       "      <td></td>\n",
       "      <td></td>\n",
       "      <td>True</td>\n",
       "      <td>57</td>\n",
       "      <td>4</td>\n",
       "      <td>3</td>\n",
       "      <td>3</td>\n",
       "      <td></td>\n",
       "      <td>i-just-love-bali-i-ve-visited-bali-many-times-...</td>\n",
       "    </tr>\n",
       "    <tr>\n",
       "      <th>3</th>\n",
       "      <td>I have paid the guide 450,000 rp per person fo...</td>\n",
       "      <td>4.0</td>\n",
       "      <td>4_1</td>\n",
       "      <td>4</td>\n",
       "      <td>2021-04-12</td>\n",
       "      <td>2021-04-12</td>\n",
       "      <td></td>\n",
       "      <td></td>\n",
       "      <td>True</td>\n",
       "      <td>235</td>\n",
       "      <td>4</td>\n",
       "      <td>4</td>\n",
       "      <td>4</td>\n",
       "      <td></td>\n",
       "      <td>i-have-paid-the-guide-450000-rp-per-person-for...</td>\n",
       "    </tr>\n",
       "    <tr>\n",
       "      <th>4</th>\n",
       "      <td>NaN</td>\n",
       "      <td>0.0</td>\n",
       "      <td>5_1</td>\n",
       "      <td>5</td>\n",
       "      <td>2021-12-24</td>\n",
       "      <td>2021-12-24</td>\n",
       "      <td></td>\n",
       "      <td></td>\n",
       "      <td>True</td>\n",
       "      <td>960</td>\n",
       "      <td>4</td>\n",
       "      <td>5</td>\n",
       "      <td>5</td>\n",
       "      <td></td>\n",
       "      <td>nan</td>\n",
       "    </tr>\n",
       "  </tbody>\n",
       "</table>\n",
       "</div>"
      ],
      "text/plain": [
       "                                              review  rating CurID  id  \\\n",
       "0  In Tangkuban Perahu Volcano we 'must' have pai...     3.0   1_1   1   \n",
       "1  Not so many choices for ferry boats and they w...     1.0   2_1   2   \n",
       "2  I just love Bali! I've visited Bali many times...     5.0   3_1   3   \n",
       "3  I have paid the guide 450,000 rp per person fo...     4.0   4_1   4   \n",
       "4                                                NaN     0.0   5_1   5   \n",
       "\n",
       "  createdDate updatedDate name internalNote  isActive authorId  statusId  \\\n",
       "0  2021-05-17  2021-05-17                        True       57         4   \n",
       "1  2021-12-08  2021-12-08                        True      427         4   \n",
       "2  2022-01-06  2022-01-06                        True       57         4   \n",
       "3  2021-04-12  2021-04-12                        True      235         4   \n",
       "4  2021-12-24  2021-12-24                        True      960         4   \n",
       "\n",
       "   productId priceId placeId  \\\n",
       "0          1       1           \n",
       "1          2       2           \n",
       "2          3       3           \n",
       "3          4       4           \n",
       "4          5       5           \n",
       "\n",
       "                                                slug  \n",
       "0  in-tangkuban-perahu-volcano-we-must-have-paid-...  \n",
       "1  not-so-many-choices-for-ferry-boats-and-they-w...  \n",
       "2  i-just-love-bali-i-ve-visited-bali-many-times-...  \n",
       "3  i-have-paid-the-guide-450000-rp-per-person-for...  \n",
       "4                                                nan  "
      ]
     },
     "execution_count": 22,
     "metadata": {},
     "output_type": "execute_result"
    }
   ],
   "source": [
    "newDf.head()"
   ]
  },
  {
   "cell_type": "code",
   "execution_count": null,
   "id": "318f2786",
   "metadata": {},
   "outputs": [],
   "source": []
  }
 ],
 "metadata": {
  "kernelspec": {
   "display_name": "Python 3 (ipykernel)",
   "language": "python",
   "name": "python3"
  },
  "language_info": {
   "codemirror_mode": {
    "name": "ipython",
    "version": 3
   },
   "file_extension": ".py",
   "mimetype": "text/x-python",
   "name": "python",
   "nbconvert_exporter": "python",
   "pygments_lexer": "ipython3",
   "version": "3.9.7"
  }
 },
 "nbformat": 4,
 "nbformat_minor": 5
}
