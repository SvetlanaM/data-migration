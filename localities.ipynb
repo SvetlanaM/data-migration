{
 "cells": [
  {
   "cell_type": "code",
   "execution_count": 18,
   "id": "faf27b20",
   "metadata": {},
   "outputs": [],
   "source": [
    "import pandas as pd\n",
    "import numpy as np\n",
    "from datetime import datetime\n",
    "import ssl\n",
    "ssl._create_default_https_context = ssl._create_unverified_context\n",
    "from slugify import slugify"
   ]
  },
  {
   "cell_type": "code",
   "execution_count": 19,
   "id": "a2c1519e",
   "metadata": {},
   "outputs": [],
   "source": [
    "now = datetime.now()\n",
    "dt_string = now.strftime(\"%Y-%m-%d %H:%M:%S\")"
   ]
  },
  {
   "cell_type": "code",
   "execution_count": 20,
   "id": "d9d2e413",
   "metadata": {},
   "outputs": [],
   "source": [
    "df = pd.read_csv('csv/localities.csv', encoding='utf-8', delimiter=';')\n",
    "image = pd.read_csv('out/image.csv', encoding='utf-8')"
   ]
  },
  {
   "cell_type": "code",
   "execution_count": 21,
   "id": "3bf55658",
   "metadata": {},
   "outputs": [],
   "source": [
    "newDfC = pd.DataFrame(data = df['Continent'].unique())"
   ]
  },
  {
   "cell_type": "code",
   "execution_count": 22,
   "id": "74ec12af",
   "metadata": {},
   "outputs": [],
   "source": [
    "columns = ['id', 'createdDate', 'updatedDate', 'latitude', 'longitude', 'internalNote', \\\n",
    "          'isPopular', 'order', 'statusId', 'canShowAds', 'isActive', 'slug', \\\n",
    "          'mainImageId', 'coverImageId', 'type', 'countryContinentId', 'regionCountryId', \\\n",
    "          'regionContinentId']"
   ]
  },
  {
   "cell_type": "code",
   "execution_count": 23,
   "id": "7f847caf",
   "metadata": {},
   "outputs": [],
   "source": [
    "dfCon = newDfC"
   ]
  },
  {
   "cell_type": "code",
   "execution_count": 24,
   "id": "9755e67b",
   "metadata": {},
   "outputs": [],
   "source": [
    "dfCon = pd.concat([dfCon, pd.DataFrame(columns = columns)])"
   ]
  },
  {
   "cell_type": "code",
   "execution_count": 25,
   "id": "a4fd8ff6",
   "metadata": {},
   "outputs": [],
   "source": [
    "dfCon.rename(columns = {0:'name'}, inplace = True)"
   ]
  },
  {
   "cell_type": "code",
   "execution_count": 26,
   "id": "9fa896bb",
   "metadata": {},
   "outputs": [],
   "source": [
    "def get_photo_name(value):\n",
    "    try:\n",
    "        return df[:][df['Continent'] == str(value)]['Photo name'].values[0]\n",
    "    except:\n",
    "        return ''"
   ]
  },
  {
   "cell_type": "code",
   "execution_count": 27,
   "id": "444542e6",
   "metadata": {},
   "outputs": [],
   "source": [
    "dfCon['id'] = dfCon.index + 1\n",
    "dfCon['order'] = ''\n",
    "dfCon['createdDate'] = dt_string\n",
    "dfCon['updatedDate'] = dt_string\n",
    "dfCon['internalNote'] = ''\n",
    "dfCon['isPopular'] = False\n",
    "dfCon['statusId'] = 7\n",
    "dfCon['canShowAds'] = False\n",
    "dfCon['isActive'] = True\n",
    "dfCon['type'] = 'Continent'\n",
    "dfCon['photoName'] = dfCon['name'].apply(get_photo_name)"
   ]
  },
  {
   "cell_type": "code",
   "execution_count": 28,
   "id": "2e317dbe",
   "metadata": {},
   "outputs": [],
   "source": [
    "from geopy.geocoders import Nominatim\n",
    "geolocator = Nominatim(user_agent=\"trynego\")"
   ]
  },
  {
   "cell_type": "code",
   "execution_count": 29,
   "id": "46181ebe",
   "metadata": {},
   "outputs": [],
   "source": [
    "def get_lat(value):\n",
    "    try:\n",
    "        return geolocator.geocode(str(value))[1][0]\n",
    "    except:\n",
    "        return None"
   ]
  },
  {
   "cell_type": "code",
   "execution_count": 30,
   "id": "e7b6d6ed",
   "metadata": {},
   "outputs": [],
   "source": [
    "def get_lot(value):\n",
    "    try:\n",
    "        return geolocator.geocode(str(value))[1][1]\n",
    "    except:\n",
    "        return None"
   ]
  },
  {
   "cell_type": "code",
   "execution_count": 34,
   "id": "b5b71349",
   "metadata": {},
   "outputs": [],
   "source": [
    "def set_slug_id():\n",
    "    try:\n",
    "        for index, row in dfCon.iterrows():\n",
    "            dfCon.loc[index, ['slug']] = [slugify(row['name'])]\n",
    "    except:\n",
    "        pass\n",
    "        \n",
    "set_slug_id()"
   ]
  },
  {
   "cell_type": "code",
   "execution_count": 36,
   "id": "e3664fba",
   "metadata": {},
   "outputs": [],
   "source": [
    "dfCon['latitude'] = dfCon['name'].apply(get_lat)\n",
    "dfCon['longitude'] = dfCon['name'].apply(get_lot)"
   ]
  },
  {
   "cell_type": "code",
   "execution_count": 37,
   "id": "c32d94f4",
   "metadata": {},
   "outputs": [],
   "source": [
    "dfCon = dfCon[:][dfCon['name'].notnull()]"
   ]
  },
  {
   "cell_type": "code",
   "execution_count": 38,
   "id": "a27bee0f",
   "metadata": {},
   "outputs": [],
   "source": [
    "newDfCountries = pd.DataFrame(data = df['Country'].unique())"
   ]
  },
  {
   "cell_type": "code",
   "execution_count": 39,
   "id": "b7db6368",
   "metadata": {},
   "outputs": [],
   "source": [
    "def get_photo_name_c(value):\n",
    "    try:\n",
    "        return df[:][(df['Country'] == str(value)) & (df['Region'] == '-')]['Photo name'].values[0]\n",
    "    except:\n",
    "        return ''"
   ]
  },
  {
   "cell_type": "code",
   "execution_count": 40,
   "id": "7834ac73",
   "metadata": {},
   "outputs": [],
   "source": [
    "dfCountry = pd.concat([newDfCountries, pd.DataFrame(columns = columns)])"
   ]
  },
  {
   "cell_type": "code",
   "execution_count": 41,
   "id": "1094cc2b",
   "metadata": {},
   "outputs": [],
   "source": [
    "dfCountry.rename(columns = {0:'name'}, inplace = True)"
   ]
  },
  {
   "cell_type": "code",
   "execution_count": 43,
   "id": "0b99ea07",
   "metadata": {},
   "outputs": [],
   "source": [
    "def set_slug_id():\n",
    "    try:\n",
    "        for index, row in dfCountry.iterrows():\n",
    "            dfCountry.loc[index, ['slug']] = [slugify(row['name'])]\n",
    "    except:\n",
    "        pass\n",
    "        \n",
    "set_slug_id()"
   ]
  },
  {
   "cell_type": "code",
   "execution_count": 44,
   "id": "331da4ce",
   "metadata": {},
   "outputs": [],
   "source": [
    "dfCountry['id'] = dfCountry.index + dfCon.shape[0]+1\n",
    "dfCountry['order'] = ''\n",
    "dfCountry['createdDate'] = dt_string\n",
    "dfCountry['updatedDate'] = dt_string\n",
    "dfCountry['internalNote'] = ''\n",
    "dfCountry['isPopular'] = False\n",
    "dfCountry['statusId'] = 7\n",
    "dfCountry['canShowAds'] = False\n",
    "dfCountry['isActive'] = True\n",
    "dfCountry['type'] = 'Country'\n",
    "dfCountry['photoName'] = dfCountry['name'].apply(get_photo_name_c)"
   ]
  },
  {
   "cell_type": "code",
   "execution_count": 45,
   "id": "d3d1aacd",
   "metadata": {},
   "outputs": [],
   "source": [
    "dfCountry['latitude'] = dfCountry['name'].apply(get_lat)\n",
    "dfCountry['longitude'] = dfCountry['name'].apply(get_lot)"
   ]
  },
  {
   "cell_type": "code",
   "execution_count": 46,
   "id": "e487c814",
   "metadata": {},
   "outputs": [],
   "source": [
    "def set_continent_id(value):\n",
    "    try:\n",
    "        return dfCon[:][dfCon['name'] == df[:][df['Country'] == str(value)]['Continent'].values[0]]['id'].values[0]\n",
    "    except:\n",
    "        return ''"
   ]
  },
  {
   "cell_type": "code",
   "execution_count": 47,
   "id": "7594f329",
   "metadata": {},
   "outputs": [],
   "source": [
    "def set_image_id_c(value):\n",
    "    try:\n",
    "        return image[:][image['name'].str.lower() == 'region_' + str(value).lower().replace(\" \", \"_\")]['id'].values[0]\n",
    "    except:\n",
    "        return ''"
   ]
  },
  {
   "cell_type": "code",
   "execution_count": 48,
   "id": "91da81ca",
   "metadata": {},
   "outputs": [],
   "source": [
    "dfCountry['countryContinentId'] = dfCountry['name'].apply(set_continent_id)"
   ]
  },
  {
   "cell_type": "code",
   "execution_count": 49,
   "id": "a0a0a1f0",
   "metadata": {},
   "outputs": [],
   "source": [
    "dfCountry['coverImageId'] = dfCountry['name'].apply(set_image_id_c)"
   ]
  },
  {
   "cell_type": "code",
   "execution_count": 50,
   "id": "d23ed711",
   "metadata": {},
   "outputs": [],
   "source": [
    "dfCountry = dfCountry[:][dfCountry['name'].notnull()]"
   ]
  },
  {
   "cell_type": "code",
   "execution_count": 51,
   "id": "cf89c6b0",
   "metadata": {},
   "outputs": [],
   "source": [
    "newDfR = pd.DataFrame(data = df[[\"Region\"]])"
   ]
  },
  {
   "cell_type": "code",
   "execution_count": 52,
   "id": "4702c842",
   "metadata": {},
   "outputs": [],
   "source": [
    "dfReg = pd.concat([newDfR, pd.DataFrame(columns = columns)])"
   ]
  },
  {
   "cell_type": "code",
   "execution_count": 53,
   "id": "91f5b910",
   "metadata": {},
   "outputs": [],
   "source": [
    "dfReg.rename(columns = {'Region':'name'}, inplace = True)"
   ]
  },
  {
   "cell_type": "code",
   "execution_count": 56,
   "id": "dbdff804",
   "metadata": {},
   "outputs": [],
   "source": [
    "def set_slug_id():\n",
    "    try:\n",
    "        for index, row in dfReg.iterrows():\n",
    "            dfReg.loc[index, ['slug']] = [slugify(row['name'])]\n",
    "    except:\n",
    "        pass\n",
    "        \n",
    "set_slug_id()"
   ]
  },
  {
   "cell_type": "code",
   "execution_count": 57,
   "id": "d0c24e47",
   "metadata": {},
   "outputs": [],
   "source": [
    "def get_photo_name_r(value):\n",
    "    try:\n",
    "        return df[:][df['Region'] == str(value)]['Photo name'].values[0]\n",
    "    except:\n",
    "        return ''"
   ]
  },
  {
   "cell_type": "code",
   "execution_count": 58,
   "id": "123a81d4",
   "metadata": {},
   "outputs": [],
   "source": [
    "temp = (dfCon.shape[0]+1) + (dfCountry.shape[0]+1)\n",
    "dfReg['id'] = dfReg.index + temp \n",
    "dfReg['order'] = ''\n",
    "dfReg['createdDate'] = dt_string\n",
    "dfReg['updatedDate'] = dt_string\n",
    "dfReg['internalNote'] = ''\n",
    "dfReg['isPopular'] = False\n",
    "dfReg['statusId'] = 7\n",
    "dfReg['canShowAds'] = False\n",
    "dfReg['isActive'] = True\n",
    "dfReg['type'] = 'Region'\n",
    "dfReg['photoName'] = dfReg['name'].apply(get_photo_name_r)"
   ]
  },
  {
   "cell_type": "code",
   "execution_count": 59,
   "id": "54185461",
   "metadata": {},
   "outputs": [],
   "source": [
    "dfReg['latitude'] = dfReg['name'].apply(get_lat)\n",
    "dfReg['longitude'] = dfReg['name'].apply(get_lot)"
   ]
  },
  {
   "cell_type": "code",
   "execution_count": 60,
   "id": "b1c47703",
   "metadata": {},
   "outputs": [],
   "source": [
    "def set_continent_reg_id(value):\n",
    "    try:\n",
    "        return dfCon[:][dfCon['name'] == df[:][df['Region'] == str(value)]['Continent'].values[0]]['id'].values[0]\n",
    "    except:\n",
    "        return ''"
   ]
  },
  {
   "cell_type": "code",
   "execution_count": 61,
   "id": "ff6a7175",
   "metadata": {},
   "outputs": [],
   "source": [
    "def set_region_reg_id(value):\n",
    "    try:\n",
    "        return dfCountry[:][dfCountry['name'] == df[:][df['Region'] == str(value)]['Country'].values[0]]['id'].values[0]\n",
    "    except:\n",
    "        return ''"
   ]
  },
  {
   "cell_type": "code",
   "execution_count": 62,
   "id": "996ff69f",
   "metadata": {},
   "outputs": [],
   "source": [
    "dfReg['regionContinentId'] = dfReg['name'].apply(set_continent_reg_id)"
   ]
  },
  {
   "cell_type": "code",
   "execution_count": 63,
   "id": "1243b168",
   "metadata": {},
   "outputs": [],
   "source": [
    "dfReg['regionCountryId'] = dfReg['name'].apply(set_region_reg_id)"
   ]
  },
  {
   "cell_type": "code",
   "execution_count": 64,
   "id": "e261f15e",
   "metadata": {},
   "outputs": [],
   "source": [
    "dfReg = dfReg[:][dfReg['name'].notnull()]"
   ]
  },
  {
   "cell_type": "code",
   "execution_count": 65,
   "id": "25f4594b",
   "metadata": {},
   "outputs": [],
   "source": [
    "def set_image_id(value):\n",
    "    try:\n",
    "        return image[:][image['name'].str.lower() == 'region_' + str(value).lower().replace(\" \", \"_\")]['id'].values[0]\n",
    "    except:\n",
    "        return ''\n",
    "\n",
    "dfReg['coverImageId'] = dfReg['photoName'].apply(set_image_id)"
   ]
  },
  {
   "cell_type": "code",
   "execution_count": 66,
   "id": "0d7082a5",
   "metadata": {},
   "outputs": [],
   "source": [
    "def set_image_id_c(value):\n",
    "    try:\n",
    "        return image[:][image['name'].str.lower() == 'region_' + str(value).lower().replace(\" \", \"_\")]['id'].values[0]\n",
    "    except:\n",
    "        return ''\n",
    "\n",
    "dfCountry['coverImageId'] = dfCountry['photoName'].apply(set_image_id_c)"
   ]
  },
  {
   "cell_type": "code",
   "execution_count": 67,
   "id": "5d5c5a8a",
   "metadata": {},
   "outputs": [],
   "source": [
    "pd.set_option('display.max_rows', None)\n",
    "pd.set_option('display.max_columns', None)\n",
    "pd.set_option('display.width', None)"
   ]
  },
  {
   "cell_type": "code",
   "execution_count": 68,
   "id": "993de6ba",
   "metadata": {},
   "outputs": [],
   "source": [
    "newDf = pd.concat([dfCon, dfCountry, dfReg])"
   ]
  },
  {
   "cell_type": "code",
   "execution_count": 69,
   "id": "56f665ef",
   "metadata": {},
   "outputs": [],
   "source": [
    "newDf = newDf[:][(newDf['name'] != '') & (newDf['name'] != '-') & (newDf['name'].notnull())]"
   ]
  },
  {
   "cell_type": "code",
   "execution_count": 70,
   "id": "a34e62ca",
   "metadata": {},
   "outputs": [],
   "source": [
    "newDf['id'] = [i for i in range(1, newDf.shape[0] + 1)]"
   ]
  },
  {
   "cell_type": "code",
   "execution_count": 71,
   "id": "01b0c81c",
   "metadata": {},
   "outputs": [],
   "source": [
    "newDf['order'] = newDf.index + 1"
   ]
  },
  {
   "cell_type": "code",
   "execution_count": 72,
   "id": "45cf8037",
   "metadata": {},
   "outputs": [],
   "source": [
    "newDf['latitude'] = newDf['latitude'].fillna(1)\n",
    "newDf['longitude'] = newDf['longitude'].fillna(1)"
   ]
  },
  {
   "cell_type": "code",
   "execution_count": 73,
   "id": "9535a70c",
   "metadata": {},
   "outputs": [],
   "source": [
    "newDf.to_csv('out/localities.csv', index=False, encoding='utf-8')"
   ]
  },
  {
   "cell_type": "code",
   "execution_count": 74,
   "id": "07b45665",
   "metadata": {},
   "outputs": [
    {
     "data": {
      "text/plain": [
       "(262, 20)"
      ]
     },
     "execution_count": 74,
     "metadata": {},
     "output_type": "execute_result"
    }
   ],
   "source": [
    "newDf.shape"
   ]
  },
  {
   "cell_type": "code",
   "execution_count": 75,
   "id": "4675f33c",
   "metadata": {},
   "outputs": [],
   "source": [
    "newDfCopy = newDf"
   ]
  },
  {
   "cell_type": "code",
   "execution_count": 76,
   "id": "489de8b7",
   "metadata": {},
   "outputs": [],
   "source": [
    "def remove_number(value):\n",
    "    return ''.join([i for i in str(value) if not i.isdigit()])"
   ]
  },
  {
   "cell_type": "code",
   "execution_count": 77,
   "id": "a4240275",
   "metadata": {},
   "outputs": [],
   "source": [
    "newDfCopy['name'] = newDfCopy['name'].apply(remove_number)"
   ]
  },
  {
   "cell_type": "code",
   "execution_count": 78,
   "id": "86d52b49",
   "metadata": {},
   "outputs": [],
   "source": [
    "newDfCopy.to_csv('out/localities_main.csv', index=False, encoding='utf-8')"
   ]
  },
  {
   "cell_type": "code",
   "execution_count": null,
   "id": "c1dc4f9a",
   "metadata": {},
   "outputs": [],
   "source": []
  }
 ],
 "metadata": {
  "kernelspec": {
   "display_name": "Python 3 (ipykernel)",
   "language": "python",
   "name": "python3"
  },
  "language_info": {
   "codemirror_mode": {
    "name": "ipython",
    "version": 3
   },
   "file_extension": ".py",
   "mimetype": "text/x-python",
   "name": "python",
   "nbconvert_exporter": "python",
   "pygments_lexer": "ipython3",
   "version": "3.9.7"
  }
 },
 "nbformat": 4,
 "nbformat_minor": 5
}
