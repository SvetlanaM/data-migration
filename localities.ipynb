{
 "cells": [
  {
   "cell_type": "code",
   "execution_count": 95,
   "id": "faf27b20",
   "metadata": {},
   "outputs": [],
   "source": [
    "import pandas as pd\n",
    "import numpy as np\n",
    "from datetime import datetime\n",
    "import ssl\n",
    "ssl._create_default_https_context = ssl._create_unverified_context\n",
    "from slugify import slugify\n",
    "import pycountry"
   ]
  },
  {
   "cell_type": "code",
   "execution_count": 96,
   "id": "a2c1519e",
   "metadata": {},
   "outputs": [],
   "source": [
    "now = datetime.now()\n",
    "dt_string = now.strftime(\"%Y-%m-%d %H:%M:%S\")"
   ]
  },
  {
   "cell_type": "code",
   "execution_count": 97,
   "id": "d9d2e413",
   "metadata": {},
   "outputs": [],
   "source": [
    "df = pd.read_csv('csv/localities.csv', encoding='utf-8')\n",
    "image = pd.read_csv('out/image.csv', encoding='utf-8')"
   ]
  },
  {
   "cell_type": "code",
   "execution_count": 98,
   "id": "3bf55658",
   "metadata": {},
   "outputs": [],
   "source": [
    "newDfC = pd.DataFrame(data = df['Continent'].unique())"
   ]
  },
  {
   "cell_type": "code",
   "execution_count": 105,
   "id": "74ec12af",
   "metadata": {},
   "outputs": [],
   "source": [
    "columns = ['id', 'createdDate', 'updatedDate', 'slug', 'latitude', 'longitude', 'internalNote', \\\n",
    "          'isPopular', 'order', 'statusId', 'canShowAds', 'isActive', \\\n",
    "          'imageId', 'coverImageId', 'type', 'countryContinentId', 'regionCountryId', \\\n",
    "          'regionContinentId', 'code']"
   ]
  },
  {
   "cell_type": "code",
   "execution_count": 106,
   "id": "7f847caf",
   "metadata": {},
   "outputs": [],
   "source": [
    "dfCon = newDfC"
   ]
  },
  {
   "cell_type": "code",
   "execution_count": 107,
   "id": "9755e67b",
   "metadata": {},
   "outputs": [],
   "source": [
    "dfCon = pd.concat([dfCon, pd.DataFrame(columns = columns)])"
   ]
  },
  {
   "cell_type": "code",
   "execution_count": 108,
   "id": "a4fd8ff6",
   "metadata": {},
   "outputs": [],
   "source": [
    "dfCon.rename(columns = {0:'name'}, inplace = True)"
   ]
  },
  {
   "cell_type": "code",
   "execution_count": 109,
   "id": "9fa896bb",
   "metadata": {},
   "outputs": [],
   "source": [
    "def get_photo_name(value):\n",
    "    try:\n",
    "        return df[:][df['Continent'] == str(value)]['Photo name'].values[0]\n",
    "    except:\n",
    "        return ''"
   ]
  },
  {
   "cell_type": "code",
   "execution_count": 110,
   "id": "2bedd11b",
   "metadata": {},
   "outputs": [],
   "source": [
    "def get_country_name(value):\n",
    "    try:\n",
    "        name = pycountry.countries.get(name=str(value))\n",
    "        return name.alpha_2\n",
    "    except:\n",
    "        return ''"
   ]
  },
  {
   "cell_type": "code",
   "execution_count": 111,
   "id": "444542e6",
   "metadata": {},
   "outputs": [],
   "source": [
    "dfCon['id'] = dfCon.index + 1\n",
    "dfCon['order'] = ''\n",
    "dfCon['createdDate'] = dt_string\n",
    "dfCon['updatedDate'] = dt_string\n",
    "dfCon['internalNote'] = ''\n",
    "dfCon['isPopular'] = False\n",
    "dfCon['statusId'] = 7\n",
    "dfCon['canShowAds'] = False\n",
    "dfCon['isActive'] = True\n",
    "dfCon['type'] = 'Continent'\n",
    "dfCon['photoName'] = dfCon['name'].apply(get_photo_name)"
   ]
  },
  {
   "cell_type": "code",
   "execution_count": 112,
   "id": "2e317dbe",
   "metadata": {},
   "outputs": [],
   "source": [
    "from geopy.geocoders import Nominatim\n",
    "geolocator = Nominatim(user_agent=\"trynego\")"
   ]
  },
  {
   "cell_type": "code",
   "execution_count": 113,
   "id": "46181ebe",
   "metadata": {},
   "outputs": [],
   "source": [
    "def get_lat(value):\n",
    "    try:\n",
    "        return geolocator.geocode(str(value))[1][0]\n",
    "    except:\n",
    "        return None"
   ]
  },
  {
   "cell_type": "code",
   "execution_count": 114,
   "id": "e7b6d6ed",
   "metadata": {},
   "outputs": [],
   "source": [
    "def get_lot(value):\n",
    "    try:\n",
    "        return geolocator.geocode(str(value))[1][1]\n",
    "    except:\n",
    "        return None"
   ]
  },
  {
   "cell_type": "code",
   "execution_count": 115,
   "id": "b5b71349",
   "metadata": {},
   "outputs": [],
   "source": [
    "def set_slug_id():\n",
    "    try:\n",
    "        for index, row in dfCon.iterrows():\n",
    "            dfCon.loc[index, ['slug']] = [slugify(row['name'])]\n",
    "    except:\n",
    "        pass\n",
    "        \n",
    "set_slug_id()"
   ]
  },
  {
   "cell_type": "code",
   "execution_count": 116,
   "id": "e3664fba",
   "metadata": {},
   "outputs": [],
   "source": [
    "dfCon['latitude'] = dfCon['name'].apply(get_lat)\n",
    "dfCon['longitude'] = dfCon['name'].apply(get_lot)"
   ]
  },
  {
   "cell_type": "code",
   "execution_count": 117,
   "id": "c32d94f4",
   "metadata": {},
   "outputs": [],
   "source": [
    "dfCon = dfCon[:][dfCon['name'].notnull()]"
   ]
  },
  {
   "cell_type": "code",
   "execution_count": 118,
   "id": "a27bee0f",
   "metadata": {},
   "outputs": [],
   "source": [
    "newDfCountries = pd.DataFrame(data = df['Country'].unique())"
   ]
  },
  {
   "cell_type": "code",
   "execution_count": 119,
   "id": "b7db6368",
   "metadata": {},
   "outputs": [],
   "source": [
    "def get_photo_name_c(value):\n",
    "    try:\n",
    "        return df[:][(df['Country'] == str(value)) & (df['Region'] == '-')]['Photo name'].values[0]\n",
    "    except:\n",
    "        return ''"
   ]
  },
  {
   "cell_type": "code",
   "execution_count": 120,
   "id": "7834ac73",
   "metadata": {},
   "outputs": [],
   "source": [
    "dfCountry = pd.concat([newDfCountries, pd.DataFrame(columns = columns)])"
   ]
  },
  {
   "cell_type": "code",
   "execution_count": 121,
   "id": "1094cc2b",
   "metadata": {},
   "outputs": [],
   "source": [
    "dfCountry.rename(columns = {0:'name'}, inplace = True)"
   ]
  },
  {
   "cell_type": "code",
   "execution_count": 122,
   "id": "0b99ea07",
   "metadata": {},
   "outputs": [],
   "source": [
    "def set_slug_id():\n",
    "    try:\n",
    "        for index, row in dfCountry.iterrows():\n",
    "            dfCountry.loc[index, ['slug']] = [slugify(row['name'])]\n",
    "    except:\n",
    "        pass\n",
    "        \n",
    "set_slug_id()"
   ]
  },
  {
   "cell_type": "code",
   "execution_count": 123,
   "id": "331da4ce",
   "metadata": {},
   "outputs": [],
   "source": [
    "dfCountry['id'] = dfCountry.index + dfCon.shape[0]+1\n",
    "dfCountry['order'] = ''\n",
    "dfCountry['createdDate'] = dt_string\n",
    "dfCountry['updatedDate'] = dt_string\n",
    "dfCountry['internalNote'] = ''\n",
    "dfCountry['isPopular'] = False\n",
    "dfCountry['statusId'] = 7\n",
    "dfCountry['canShowAds'] = False\n",
    "dfCountry['isActive'] = True\n",
    "dfCountry['type'] = 'Country'\n",
    "dfCountry['photoName'] = dfCountry['name'].apply(get_photo_name_c)\n",
    "dfCountry['code'] = dfCountry['name'].apply(get_country_name)"
   ]
  },
  {
   "cell_type": "code",
   "execution_count": 124,
   "id": "d3d1aacd",
   "metadata": {},
   "outputs": [],
   "source": [
    "dfCountry['latitude'] = dfCountry['name'].apply(get_lat)\n",
    "dfCountry['longitude'] = dfCountry['name'].apply(get_lot)"
   ]
  },
  {
   "cell_type": "code",
   "execution_count": 125,
   "id": "e487c814",
   "metadata": {},
   "outputs": [],
   "source": [
    "def set_continent_id(value):\n",
    "    try:\n",
    "        return dfCon[:][dfCon['name'] == df[:][df['Country'] == str(value)]['Continent'].values[0]]['id'].values[0]\n",
    "    except:\n",
    "        return ''"
   ]
  },
  {
   "cell_type": "code",
   "execution_count": 126,
   "id": "7594f329",
   "metadata": {},
   "outputs": [],
   "source": [
    "def set_image_id_c(value):\n",
    "    try:\n",
    "        return image[:][image['name'].str.lower() == 'region_' + str(value).lower().replace(\" \", \"_\")]['id'].values[0]\n",
    "    except:\n",
    "        return ''"
   ]
  },
  {
   "cell_type": "code",
   "execution_count": 127,
   "id": "91da81ca",
   "metadata": {},
   "outputs": [],
   "source": [
    "dfCountry['countryContinentId'] = dfCountry['name'].apply(set_continent_id)"
   ]
  },
  {
   "cell_type": "code",
   "execution_count": 128,
   "id": "a0a0a1f0",
   "metadata": {},
   "outputs": [],
   "source": [
    "dfCountry['coverImageId'] = dfCountry['name'].apply(set_image_id_c)"
   ]
  },
  {
   "cell_type": "code",
   "execution_count": 129,
   "id": "d23ed711",
   "metadata": {},
   "outputs": [],
   "source": [
    "dfCountry = dfCountry[:][dfCountry['name'].notnull()]"
   ]
  },
  {
   "cell_type": "code",
   "execution_count": 130,
   "id": "cf89c6b0",
   "metadata": {},
   "outputs": [],
   "source": [
    "newDfR = pd.DataFrame(data = df[[\"Region\"]])"
   ]
  },
  {
   "cell_type": "code",
   "execution_count": 131,
   "id": "4702c842",
   "metadata": {},
   "outputs": [],
   "source": [
    "dfReg = pd.concat([newDfR, pd.DataFrame(columns = columns)])"
   ]
  },
  {
   "cell_type": "code",
   "execution_count": 132,
   "id": "91f5b910",
   "metadata": {},
   "outputs": [],
   "source": [
    "dfReg.rename(columns = {'Region':'name'}, inplace = True)"
   ]
  },
  {
   "cell_type": "code",
   "execution_count": 133,
   "id": "dbdff804",
   "metadata": {},
   "outputs": [],
   "source": [
    "def set_slug_id():\n",
    "    try:\n",
    "        for index, row in dfReg.iterrows():\n",
    "            dfReg.loc[index, ['slug']] = [slugify(row['name'])]\n",
    "    except:\n",
    "        pass\n",
    "        \n",
    "set_slug_id()"
   ]
  },
  {
   "cell_type": "code",
   "execution_count": 134,
   "id": "d0c24e47",
   "metadata": {},
   "outputs": [],
   "source": [
    "def get_photo_name_r(value):\n",
    "    try:\n",
    "        return df[:][df['Region'] == str(value)]['Photo name'].values[0]\n",
    "    except:\n",
    "        return ''"
   ]
  },
  {
   "cell_type": "code",
   "execution_count": 135,
   "id": "123a81d4",
   "metadata": {},
   "outputs": [],
   "source": [
    "temp = (dfCon.shape[0]+1) + (dfCountry.shape[0]+1)\n",
    "dfReg['id'] = dfReg.index + temp \n",
    "dfReg['order'] = ''\n",
    "dfReg['createdDate'] = dt_string\n",
    "dfReg['updatedDate'] = dt_string\n",
    "dfReg['internalNote'] = ''\n",
    "dfReg['isPopular'] = False\n",
    "dfReg['statusId'] = 7\n",
    "dfReg['canShowAds'] = False\n",
    "dfReg['isActive'] = True\n",
    "dfReg['type'] = 'Region'\n",
    "dfReg['photoName'] = dfReg['name'].apply(get_photo_name_r)\n",
    "dfReg['code'] = dfReg['name'].apply(get_country_name)"
   ]
  },
  {
   "cell_type": "code",
   "execution_count": 136,
   "id": "54185461",
   "metadata": {},
   "outputs": [],
   "source": [
    "dfReg['latitude'] = dfReg['name'].apply(get_lat)\n",
    "dfReg['longitude'] = dfReg['name'].apply(get_lot)"
   ]
  },
  {
   "cell_type": "code",
   "execution_count": 137,
   "id": "b1c47703",
   "metadata": {},
   "outputs": [],
   "source": [
    "def set_continent_reg_id(value):\n",
    "    try:\n",
    "        return dfCon[:][dfCon['name'] == df[:][df['Region'] == str(value)]['Continent'].values[0]]['id'].values[0]\n",
    "    except:\n",
    "        return ''"
   ]
  },
  {
   "cell_type": "code",
   "execution_count": 138,
   "id": "ff6a7175",
   "metadata": {},
   "outputs": [],
   "source": [
    "def set_region_reg_id(value):\n",
    "    try:\n",
    "        return dfCountry[:][dfCountry['name'] == df[:][df['Region'] == str(value)]['Country'].values[0]]['id'].values[0]\n",
    "    except:\n",
    "        return ''"
   ]
  },
  {
   "cell_type": "code",
   "execution_count": 139,
   "id": "996ff69f",
   "metadata": {},
   "outputs": [],
   "source": [
    "dfReg['regionContinentId'] = dfReg['name'].apply(set_continent_reg_id)"
   ]
  },
  {
   "cell_type": "code",
   "execution_count": 140,
   "id": "1243b168",
   "metadata": {},
   "outputs": [],
   "source": [
    "dfReg['regionCountryId'] = dfReg['name'].apply(set_region_reg_id)"
   ]
  },
  {
   "cell_type": "code",
   "execution_count": 141,
   "id": "e261f15e",
   "metadata": {},
   "outputs": [],
   "source": [
    "dfReg = dfReg[:][dfReg['name'].notnull()]"
   ]
  },
  {
   "cell_type": "code",
   "execution_count": 142,
   "id": "25f4594b",
   "metadata": {},
   "outputs": [],
   "source": [
    "def set_image_id(value):\n",
    "    try:\n",
    "        return image[:][image['name'].str.lower() == 'region_' + str(value).lower().replace(\" \", \"_\")]['id'].values[0]\n",
    "    except:\n",
    "        return ''\n",
    "\n",
    "dfReg['coverImageId'] = dfReg['photoName'].apply(set_image_id)"
   ]
  },
  {
   "cell_type": "code",
   "execution_count": 143,
   "id": "0d7082a5",
   "metadata": {},
   "outputs": [],
   "source": [
    "def set_image_id_c(value):\n",
    "    try:\n",
    "        return image[:][image['name'].str.lower() == 'region_' + str(value).lower().replace(\" \", \"_\")]['id'].values[0]\n",
    "    except:\n",
    "        return ''\n",
    "\n",
    "dfCountry['coverImageId'] = dfCountry['photoName'].apply(set_image_id_c)"
   ]
  },
  {
   "cell_type": "code",
   "execution_count": 144,
   "id": "5d5c5a8a",
   "metadata": {},
   "outputs": [],
   "source": [
    "pd.set_option('display.max_rows', None)\n",
    "pd.set_option('display.max_columns', None)\n",
    "pd.set_option('display.width', None)"
   ]
  },
  {
   "cell_type": "code",
   "execution_count": 145,
   "id": "993de6ba",
   "metadata": {},
   "outputs": [],
   "source": [
    "newDf = pd.concat([dfCon, dfCountry, dfReg])"
   ]
  },
  {
   "cell_type": "code",
   "execution_count": 146,
   "id": "56f665ef",
   "metadata": {},
   "outputs": [],
   "source": [
    "newDf = newDf[:][(newDf['name'] != '') & (newDf['name'] != '-') & (newDf['name'].notnull())]"
   ]
  },
  {
   "cell_type": "code",
   "execution_count": 147,
   "id": "a34e62ca",
   "metadata": {},
   "outputs": [],
   "source": [
    "newDf['id'] = [i for i in range(1, newDf.shape[0] + 1)]"
   ]
  },
  {
   "cell_type": "code",
   "execution_count": 148,
   "id": "01b0c81c",
   "metadata": {},
   "outputs": [],
   "source": [
    "newDf['order'] = newDf.index + 1"
   ]
  },
  {
   "cell_type": "code",
   "execution_count": 149,
   "id": "45cf8037",
   "metadata": {},
   "outputs": [],
   "source": [
    "newDf['latitude'] = newDf['latitude'].fillna(1)\n",
    "newDf['longitude'] = newDf['longitude'].fillna(1)"
   ]
  },
  {
   "cell_type": "code",
   "execution_count": 150,
   "id": "9535a70c",
   "metadata": {},
   "outputs": [],
   "source": [
    "newDf.to_csv('out/localities.csv', index=False, encoding='utf-8')"
   ]
  },
  {
   "cell_type": "code",
   "execution_count": 151,
   "id": "07b45665",
   "metadata": {},
   "outputs": [
    {
     "data": {
      "text/plain": [
       "(234, 21)"
      ]
     },
     "execution_count": 151,
     "metadata": {},
     "output_type": "execute_result"
    }
   ],
   "source": [
    "newDf.shape"
   ]
  },
  {
   "cell_type": "code",
   "execution_count": 152,
   "id": "4675f33c",
   "metadata": {},
   "outputs": [],
   "source": [
    "newDfCopy = newDf"
   ]
  },
  {
   "cell_type": "code",
   "execution_count": 153,
   "id": "489de8b7",
   "metadata": {},
   "outputs": [],
   "source": [
    "def remove_number(value):\n",
    "    return ''.join([i for i in str(value) if not i.isdigit()])"
   ]
  },
  {
   "cell_type": "code",
   "execution_count": 154,
   "id": "a4240275",
   "metadata": {},
   "outputs": [],
   "source": [
    "newDfCopy['name'] = newDfCopy['name'].apply(remove_number)"
   ]
  },
  {
   "cell_type": "code",
   "execution_count": 164,
   "id": "e9ab6413",
   "metadata": {},
   "outputs": [],
   "source": [
    "newDfCopy = newDfCopy.drop_duplicates(subset='name', keep=\"first\")"
   ]
  },
  {
   "cell_type": "code",
   "execution_count": 165,
   "id": "86d52b49",
   "metadata": {},
   "outputs": [],
   "source": [
    "newDfCopy.to_csv('out/localities_main.csv', index=False, encoding='utf-8')"
   ]
  },
  {
   "cell_type": "code",
   "execution_count": 166,
   "id": "c1dc4f9a",
   "metadata": {},
   "outputs": [
    {
     "data": {
      "text/html": [
       "<div>\n",
       "<style scoped>\n",
       "    .dataframe tbody tr th:only-of-type {\n",
       "        vertical-align: middle;\n",
       "    }\n",
       "\n",
       "    .dataframe tbody tr th {\n",
       "        vertical-align: top;\n",
       "    }\n",
       "\n",
       "    .dataframe thead th {\n",
       "        text-align: right;\n",
       "    }\n",
       "</style>\n",
       "<table border=\"1\" class=\"dataframe\">\n",
       "  <thead>\n",
       "    <tr style=\"text-align: right;\">\n",
       "      <th></th>\n",
       "      <th>name</th>\n",
       "      <th>id</th>\n",
       "      <th>createdDate</th>\n",
       "      <th>updatedDate</th>\n",
       "      <th>slug</th>\n",
       "      <th>latitude</th>\n",
       "      <th>longitude</th>\n",
       "      <th>internalNote</th>\n",
       "      <th>isPopular</th>\n",
       "      <th>order</th>\n",
       "      <th>statusId</th>\n",
       "      <th>canShowAds</th>\n",
       "      <th>isActive</th>\n",
       "      <th>imageId</th>\n",
       "      <th>coverImageId</th>\n",
       "      <th>type</th>\n",
       "      <th>countryContinentId</th>\n",
       "      <th>regionCountryId</th>\n",
       "      <th>regionContinentId</th>\n",
       "      <th>code</th>\n",
       "      <th>photoName</th>\n",
       "    </tr>\n",
       "  </thead>\n",
       "  <tbody>\n",
       "    <tr>\n",
       "      <th>78</th>\n",
       "      <td>Foz do Iguacu</td>\n",
       "      <td>108</td>\n",
       "      <td>2023-06-26 14:46:23</td>\n",
       "      <td>2023-06-26 14:46:23</td>\n",
       "      <td>foz-do-iguacu</td>\n",
       "      <td>-25.540148</td>\n",
       "      <td>-54.585814</td>\n",
       "      <td></td>\n",
       "      <td>False</td>\n",
       "      <td>79</td>\n",
       "      <td>7</td>\n",
       "      <td>False</td>\n",
       "      <td>True</td>\n",
       "      <td>NaN</td>\n",
       "      <td>1474</td>\n",
       "      <td>Region</td>\n",
       "      <td>NaN</td>\n",
       "      <td>21</td>\n",
       "      <td>3</td>\n",
       "      <td></td>\n",
       "      <td>16_2_Trynego_Brazil_Foz do Iguacu</td>\n",
       "    </tr>\n",
       "  </tbody>\n",
       "</table>\n",
       "</div>"
      ],
      "text/plain": [
       "             name   id          createdDate          updatedDate  \\\n",
       "78  Foz do Iguacu  108  2023-06-26 14:46:23  2023-06-26 14:46:23   \n",
       "\n",
       "             slug   latitude  longitude internalNote  isPopular  order  \\\n",
       "78  foz-do-iguacu -25.540148 -54.585814                   False     79   \n",
       "\n",
       "    statusId  canShowAds  isActive imageId coverImageId    type  \\\n",
       "78         7       False      True     NaN         1474  Region   \n",
       "\n",
       "   countryContinentId regionCountryId regionContinentId code  \\\n",
       "78                NaN              21                 3        \n",
       "\n",
       "                            photoName  \n",
       "78  16_2_Trynego_Brazil_Foz do Iguacu  "
      ]
     },
     "execution_count": 166,
     "metadata": {},
     "output_type": "execute_result"
    }
   ],
   "source": [
    "newDfCopy[:][newDfCopy['coverImageId'] == 1474]"
   ]
  },
  {
   "cell_type": "code",
   "execution_count": null,
   "id": "80004256",
   "metadata": {},
   "outputs": [],
   "source": []
  }
 ],
 "metadata": {
  "kernelspec": {
   "display_name": "Python 3 (ipykernel)",
   "language": "python",
   "name": "python3"
  },
  "language_info": {
   "codemirror_mode": {
    "name": "ipython",
    "version": 3
   },
   "file_extension": ".py",
   "mimetype": "text/x-python",
   "name": "python",
   "nbconvert_exporter": "python",
   "pygments_lexer": "ipython3",
   "version": "3.9.15"
  }
 },
 "nbformat": 4,
 "nbformat_minor": 5
}
