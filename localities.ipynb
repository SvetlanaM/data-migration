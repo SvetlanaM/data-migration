{
 "cells": [
  {
   "cell_type": "code",
   "execution_count": 60,
   "id": "faf27b20",
   "metadata": {},
   "outputs": [],
   "source": [
    "import pandas as pd\n",
    "from datetime import datetime\n",
    "import ssl\n",
    "ssl._create_default_https_context = ssl._create_unverified_context\n",
    "from slugify import slugify"
   ]
  },
  {
   "cell_type": "code",
   "execution_count": 61,
   "id": "a2c1519e",
   "metadata": {},
   "outputs": [],
   "source": [
    "now = datetime.now()\n",
    "dt_string = now.strftime(\"%Y-%m-%d %H:%M:%S\")"
   ]
  },
  {
   "cell_type": "code",
   "execution_count": 62,
   "id": "d9d2e413",
   "metadata": {},
   "outputs": [],
   "source": [
    "df = pd.read_csv('csv/localities.csv', encoding='utf-8')\n",
    "image = pd.read_csv('out/image.csv', encoding='utf-8')"
   ]
  },
  {
   "cell_type": "code",
   "execution_count": 196,
   "id": "3bf55658",
   "metadata": {},
   "outputs": [],
   "source": [
    "newDfC = pd.DataFrame(data = df['Continent'].unique())"
   ]
  },
  {
   "cell_type": "code",
   "execution_count": 190,
   "id": "74ec12af",
   "metadata": {},
   "outputs": [],
   "source": [
    "columns = ['id', 'createdDate', 'updatedDate', 'latitude', 'longitude', 'internalNote', \\\n",
    "          'isPopular', 'order', 'statusId', 'canShowAds', 'isActive', 'slug', \\\n",
    "          'mainImageId', 'coverImageId', 'type', 'countryContinentId', 'regionCountryId', \\\n",
    "          'regionContinentId']"
   ]
  },
  {
   "cell_type": "code",
   "execution_count": 191,
   "id": "7f847caf",
   "metadata": {},
   "outputs": [],
   "source": [
    "dfCon = newDfC"
   ]
  },
  {
   "cell_type": "code",
   "execution_count": 192,
   "id": "fc8ebf4a",
   "metadata": {},
   "outputs": [
    {
     "data": {
      "text/html": [
       "<div>\n",
       "<style scoped>\n",
       "    .dataframe tbody tr th:only-of-type {\n",
       "        vertical-align: middle;\n",
       "    }\n",
       "\n",
       "    .dataframe tbody tr th {\n",
       "        vertical-align: top;\n",
       "    }\n",
       "\n",
       "    .dataframe thead th {\n",
       "        text-align: right;\n",
       "    }\n",
       "</style>\n",
       "<table border=\"1\" class=\"dataframe\">\n",
       "  <thead>\n",
       "    <tr style=\"text-align: right;\">\n",
       "      <th></th>\n",
       "      <th>0</th>\n",
       "    </tr>\n",
       "  </thead>\n",
       "  <tbody>\n",
       "    <tr>\n",
       "      <th>0</th>\n",
       "      <td>South-East Asia</td>\n",
       "    </tr>\n",
       "    <tr>\n",
       "      <th>1</th>\n",
       "      <td>Asia</td>\n",
       "    </tr>\n",
       "    <tr>\n",
       "      <th>2</th>\n",
       "      <td>South America</td>\n",
       "    </tr>\n",
       "    <tr>\n",
       "      <th>3</th>\n",
       "      <td>Middle America</td>\n",
       "    </tr>\n",
       "    <tr>\n",
       "      <th>4</th>\n",
       "      <td>Africa</td>\n",
       "    </tr>\n",
       "    <tr>\n",
       "      <th>5</th>\n",
       "      <td>NaN</td>\n",
       "    </tr>\n",
       "  </tbody>\n",
       "</table>\n",
       "</div>"
      ],
      "text/plain": [
       "                 0\n",
       "0  South-East Asia\n",
       "1             Asia\n",
       "2    South America\n",
       "3   Middle America\n",
       "4           Africa\n",
       "5              NaN"
      ]
     },
     "execution_count": 192,
     "metadata": {},
     "output_type": "execute_result"
    }
   ],
   "source": [
    "dfCon"
   ]
  },
  {
   "cell_type": "code",
   "execution_count": 67,
   "id": "9755e67b",
   "metadata": {},
   "outputs": [],
   "source": [
    "dfCon = pd.concat([dfCon, pd.DataFrame(columns = columns)])"
   ]
  },
  {
   "cell_type": "code",
   "execution_count": 70,
   "id": "444542e6",
   "metadata": {},
   "outputs": [],
   "source": [
    "dfCon['id'] = dfCon.index + 1\n",
    "dfCon['order'] = ''\n",
    "dfCon['createdDate'] = dt_string\n",
    "dfCon['updatedDate'] = dt_string\n",
    "dfCon['internalNote'] = ''\n",
    "dfCon['isPopular'] = False\n",
    "dfCon['statusId'] = 7\n",
    "dfCon['canShowAds'] = False\n",
    "dfCon['isActive'] = True\n",
    "dfCon['type'] = 'Continent'"
   ]
  },
  {
   "cell_type": "code",
   "execution_count": 71,
   "id": "a4fd8ff6",
   "metadata": {},
   "outputs": [],
   "source": [
    "dfCon.rename(columns = {0:'name'}, inplace = True)"
   ]
  },
  {
   "cell_type": "code",
   "execution_count": 72,
   "id": "2e317dbe",
   "metadata": {},
   "outputs": [],
   "source": [
    "from geopy.geocoders import Nominatim\n",
    "geolocator = Nominatim(user_agent=\"trynego\")"
   ]
  },
  {
   "cell_type": "code",
   "execution_count": 73,
   "id": "46181ebe",
   "metadata": {},
   "outputs": [],
   "source": [
    "def get_lat(value):\n",
    "    try:\n",
    "        return geolocator.geocode(str(value))[1][0]\n",
    "    except:\n",
    "        return ''"
   ]
  },
  {
   "cell_type": "code",
   "execution_count": 74,
   "id": "e7b6d6ed",
   "metadata": {},
   "outputs": [],
   "source": [
    "def get_lot(value):\n",
    "    try:\n",
    "        return geolocator.geocode(str(value))[1][1]\n",
    "    except:\n",
    "        return ''"
   ]
  },
  {
   "cell_type": "code",
   "execution_count": 79,
   "id": "b5b71349",
   "metadata": {},
   "outputs": [],
   "source": [
    "def set_slug(value):\n",
    "    return slugify(str(value))"
   ]
  },
  {
   "cell_type": "code",
   "execution_count": 80,
   "id": "0cf5c3e1",
   "metadata": {},
   "outputs": [],
   "source": [
    "dfCon['slug'] = dfCon['name'].apply(set_slug)"
   ]
  },
  {
   "cell_type": "code",
   "execution_count": 82,
   "id": "e3664fba",
   "metadata": {},
   "outputs": [],
   "source": [
    "dfCon['latitude'] = dfCon['name'].apply(get_lat)\n",
    "dfCon['longitude'] = dfCon['name'].apply(get_lot)"
   ]
  },
  {
   "cell_type": "code",
   "execution_count": 117,
   "id": "a27bee0f",
   "metadata": {},
   "outputs": [],
   "source": [
    "newDfCountries = pd.DataFrame(data = df['Country'].unique())"
   ]
  },
  {
   "cell_type": "code",
   "execution_count": 118,
   "id": "7834ac73",
   "metadata": {},
   "outputs": [],
   "source": [
    "dfCountry = pd.concat([newDfCountries, pd.DataFrame(columns = columns)])"
   ]
  },
  {
   "cell_type": "code",
   "execution_count": 119,
   "id": "331da4ce",
   "metadata": {},
   "outputs": [],
   "source": [
    "dfCountry['id'] = dfCountry.index + 6\n",
    "dfCountry['order'] = ''\n",
    "dfCountry['createdDate'] = dt_string\n",
    "dfCountry['updatedDate'] = dt_string\n",
    "dfCountry['internalNote'] = ''\n",
    "dfCountry['isPopular'] = False\n",
    "dfCountry['statusId'] = 7\n",
    "dfCountry['canShowAds'] = False\n",
    "dfCountry['isActive'] = True\n",
    "dfCountry['type'] = 'Country'"
   ]
  },
  {
   "cell_type": "code",
   "execution_count": 120,
   "id": "1094cc2b",
   "metadata": {},
   "outputs": [],
   "source": [
    "dfCountry.rename(columns = {0:'name'}, inplace = True)\n",
    "dfCountry['slug'] = dfCountry['name'].apply(set_slug)\n",
    "dfCountry['latitude'] = dfCountry['name'].apply(get_lat)\n",
    "dfCountry['longitude'] = dfCountry['name'].apply(get_lot)"
   ]
  },
  {
   "cell_type": "code",
   "execution_count": 121,
   "id": "e487c814",
   "metadata": {},
   "outputs": [],
   "source": [
    "def set_continent_id(value):\n",
    "    try:\n",
    "        return dfCon[:][dfCon['name'] == df[:][df['Country'] == str(value)]['Continent'].values[0]]['id'].values[0]\n",
    "    except:\n",
    "        return ''"
   ]
  },
  {
   "cell_type": "code",
   "execution_count": 122,
   "id": "91da81ca",
   "metadata": {},
   "outputs": [],
   "source": [
    "dfCountry['countryContinentId'] = dfCountry['name'].apply(set_continent_id)"
   ]
  },
  {
   "cell_type": "code",
   "execution_count": 126,
   "id": "cf89c6b0",
   "metadata": {},
   "outputs": [],
   "source": [
    "newDfR = pd.DataFrame(data = df['Region'].unique())"
   ]
  },
  {
   "cell_type": "code",
   "execution_count": 127,
   "id": "4702c842",
   "metadata": {},
   "outputs": [],
   "source": [
    "dfReg = pd.concat([newDfR, pd.DataFrame(columns = columns)])"
   ]
  },
  {
   "cell_type": "code",
   "execution_count": 130,
   "id": "123a81d4",
   "metadata": {},
   "outputs": [],
   "source": [
    "dfReg['id'] = dfReg.index + 50\n",
    "dfReg['order'] = ''\n",
    "dfReg['createdDate'] = dt_string\n",
    "dfReg['updatedDate'] = dt_string\n",
    "dfReg['internalNote'] = ''\n",
    "dfReg['isPopular'] = False\n",
    "dfReg['statusId'] = 7\n",
    "dfReg['canShowAds'] = False\n",
    "dfReg['isActive'] = True\n",
    "dfReg['type'] = 'Region'"
   ]
  },
  {
   "cell_type": "code",
   "execution_count": 131,
   "id": "91f5b910",
   "metadata": {},
   "outputs": [],
   "source": [
    "dfReg.rename(columns = {0:'name'}, inplace = True)\n",
    "dfReg['slug'] = dfReg['name'].apply(set_slug)\n",
    "dfReg['latitude'] = dfReg['name'].apply(get_lat)\n",
    "dfReg['longitude'] = dfReg['name'].apply(get_lot)"
   ]
  },
  {
   "cell_type": "code",
   "execution_count": 132,
   "id": "b1c47703",
   "metadata": {},
   "outputs": [],
   "source": [
    "def set_continent_reg_id(value):\n",
    "    try:\n",
    "        return dfCon[:][dfCon['name'] == df[:][df['Region'] == str(value)]['Continent'].values[0]]['id'].values[0]\n",
    "    except:\n",
    "        return ''"
   ]
  },
  {
   "cell_type": "code",
   "execution_count": 149,
   "id": "ff6a7175",
   "metadata": {},
   "outputs": [],
   "source": [
    "def set_region_reg_id(value):\n",
    "    try:\n",
    "        return dfCountry[:][dfCountry['name'] == df[:][df['Region'] == str(value)]['Country'].values[0]]['id'].values[0]\n",
    "    except:\n",
    "        return ''"
   ]
  },
  {
   "cell_type": "code",
   "execution_count": 133,
   "id": "996ff69f",
   "metadata": {},
   "outputs": [],
   "source": [
    "dfReg['regionContinentId'] = dfReg['name'].apply(set_continent_reg_id)"
   ]
  },
  {
   "cell_type": "code",
   "execution_count": 150,
   "id": "1243b168",
   "metadata": {},
   "outputs": [],
   "source": [
    "dfReg['regionCountryId'] = dfReg['name'].apply(set_region_reg_id)"
   ]
  },
  {
   "cell_type": "code",
   "execution_count": 160,
   "id": "25f4594b",
   "metadata": {},
   "outputs": [],
   "source": [
    "def set_image_id(value):\n",
    "    try:\n",
    "        return image[:][image['name'] == df[:][df['Region'] == str(value)]['Photo name'].values[0]]['id'].values[0]\n",
    "    except:\n",
    "        return ''"
   ]
  },
  {
   "cell_type": "code",
   "execution_count": 161,
   "id": "673b5c74",
   "metadata": {},
   "outputs": [],
   "source": [
    "dfReg['coverImageId'] = dfReg['name'].apply(set_image_id)"
   ]
  },
  {
   "cell_type": "code",
   "execution_count": 164,
   "id": "993de6ba",
   "metadata": {},
   "outputs": [],
   "source": [
    "newDf = pd.concat([dfCon, dfCountry, dfReg])"
   ]
  },
  {
   "cell_type": "code",
   "execution_count": 171,
   "id": "01b0c81c",
   "metadata": {},
   "outputs": [],
   "source": [
    "dfCountry['order'] = dfCountry.index + 1"
   ]
  },
  {
   "cell_type": "code",
   "execution_count": 172,
   "id": "6ab6ce68",
   "metadata": {},
   "outputs": [],
   "source": [
    "dfCountry.to_csv('out/countries.csv', index=False, encoding='utf-8')"
   ]
  },
  {
   "cell_type": "code",
   "execution_count": 169,
   "id": "9535a70c",
   "metadata": {},
   "outputs": [],
   "source": [
    "newDf.to_csv('out/localities.csv', index=False, encoding='utf-8')"
   ]
  }
 ],
 "metadata": {
  "kernelspec": {
   "display_name": "Python 3 (ipykernel)",
   "language": "python",
   "name": "python3"
  },
  "language_info": {
   "codemirror_mode": {
    "name": "ipython",
    "version": 3
   },
   "file_extension": ".py",
   "mimetype": "text/x-python",
   "name": "python",
   "nbconvert_exporter": "python",
   "pygments_lexer": "ipython3",
   "version": "3.9.7"
  }
 },
 "nbformat": 4,
 "nbformat_minor": 5
}
