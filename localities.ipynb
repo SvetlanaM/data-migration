{
 "cells": [
  {
   "cell_type": "code",
   "execution_count": 37,
   "id": "faf27b20",
   "metadata": {},
   "outputs": [],
   "source": [
    "import pandas as pd\n",
    "import numpy as np\n",
    "from datetime import datetime\n",
    "import ssl\n",
    "ssl._create_default_https_context = ssl._create_unverified_context\n",
    "from slugify import slugify"
   ]
  },
  {
   "cell_type": "code",
   "execution_count": 38,
   "id": "a2c1519e",
   "metadata": {},
   "outputs": [],
   "source": [
    "now = datetime.now()\n",
    "dt_string = now.strftime(\"%Y-%m-%d %H:%M:%S\")"
   ]
  },
  {
   "cell_type": "code",
   "execution_count": 39,
   "id": "d9d2e413",
   "metadata": {},
   "outputs": [],
   "source": [
    "df = pd.read_csv('csv/localities.csv', encoding='utf-8')\n",
    "image = pd.read_csv('out/image.csv', encoding='utf-8')"
   ]
  },
  {
   "cell_type": "code",
   "execution_count": 40,
   "id": "3bf55658",
   "metadata": {},
   "outputs": [],
   "source": [
    "newDfC = pd.DataFrame(data = df['Continent'].unique())"
   ]
  },
  {
   "cell_type": "code",
   "execution_count": 41,
   "id": "74ec12af",
   "metadata": {},
   "outputs": [],
   "source": [
    "columns = ['id', 'createdDate', 'updatedDate', 'latitude', 'longitude', 'internalNote', \\\n",
    "          'isPopular', 'order', 'statusId', 'canShowAds', 'isActive', 'slug', \\\n",
    "          'mainImageId', 'coverImageId', 'type', 'countryContinentId', 'regionCountryId', \\\n",
    "          'regionContinentId']"
   ]
  },
  {
   "cell_type": "code",
   "execution_count": 42,
   "id": "7f847caf",
   "metadata": {},
   "outputs": [],
   "source": [
    "dfCon = newDfC"
   ]
  },
  {
   "cell_type": "code",
   "execution_count": 44,
   "id": "9755e67b",
   "metadata": {},
   "outputs": [],
   "source": [
    "dfCon = pd.concat([dfCon, pd.DataFrame(columns = columns)])"
   ]
  },
  {
   "cell_type": "code",
   "execution_count": 45,
   "id": "444542e6",
   "metadata": {},
   "outputs": [],
   "source": [
    "dfCon['id'] = dfCon.index + 1\n",
    "dfCon['order'] = ''\n",
    "dfCon['createdDate'] = dt_string\n",
    "dfCon['updatedDate'] = dt_string\n",
    "dfCon['internalNote'] = ''\n",
    "dfCon['isPopular'] = False\n",
    "dfCon['statusId'] = 7\n",
    "dfCon['canShowAds'] = False\n",
    "dfCon['isActive'] = True\n",
    "dfCon['type'] = 'Continent'"
   ]
  },
  {
   "cell_type": "code",
   "execution_count": 46,
   "id": "a4fd8ff6",
   "metadata": {},
   "outputs": [],
   "source": [
    "dfCon.rename(columns = {0:'name'}, inplace = True)"
   ]
  },
  {
   "cell_type": "code",
   "execution_count": 47,
   "id": "2e317dbe",
   "metadata": {},
   "outputs": [],
   "source": [
    "from geopy.geocoders import Nominatim\n",
    "geolocator = Nominatim(user_agent=\"trynego\")"
   ]
  },
  {
   "cell_type": "code",
   "execution_count": 48,
   "id": "46181ebe",
   "metadata": {},
   "outputs": [],
   "source": [
    "def get_lat(value):\n",
    "    try:\n",
    "        return geolocator.geocode(str(value))[1][0]\n",
    "    except:\n",
    "        return ''"
   ]
  },
  {
   "cell_type": "code",
   "execution_count": 49,
   "id": "e7b6d6ed",
   "metadata": {},
   "outputs": [],
   "source": [
    "def get_lot(value):\n",
    "    try:\n",
    "        return geolocator.geocode(str(value))[1][1]\n",
    "    except:\n",
    "        return ''"
   ]
  },
  {
   "cell_type": "code",
   "execution_count": 50,
   "id": "b5b71349",
   "metadata": {},
   "outputs": [],
   "source": [
    "def set_slug(value):\n",
    "    return slugify(str(value))"
   ]
  },
  {
   "cell_type": "code",
   "execution_count": 51,
   "id": "0cf5c3e1",
   "metadata": {},
   "outputs": [],
   "source": [
    "dfCon['slug'] = dfCon['name'].apply(set_slug)"
   ]
  },
  {
   "cell_type": "code",
   "execution_count": 288,
   "id": "e3664fba",
   "metadata": {},
   "outputs": [],
   "source": [
    "dfCon['latitude'] = dfCon['name'].apply(get_lat)\n",
    "dfCon['longitude'] = dfCon['name'].apply(get_lot)"
   ]
  },
  {
   "cell_type": "code",
   "execution_count": 53,
   "id": "a27bee0f",
   "metadata": {},
   "outputs": [],
   "source": [
    "newDfCountries = pd.DataFrame(data = df['Country'].unique())"
   ]
  },
  {
   "cell_type": "code",
   "execution_count": 54,
   "id": "7834ac73",
   "metadata": {},
   "outputs": [],
   "source": [
    "dfCountry = pd.concat([newDfCountries, pd.DataFrame(columns = columns)])"
   ]
  },
  {
   "cell_type": "code",
   "execution_count": 55,
   "id": "331da4ce",
   "metadata": {},
   "outputs": [],
   "source": [
    "dfCountry['id'] = dfCountry.index + 6\n",
    "dfCountry['order'] = ''\n",
    "dfCountry['createdDate'] = dt_string\n",
    "dfCountry['updatedDate'] = dt_string\n",
    "dfCountry['internalNote'] = ''\n",
    "dfCountry['isPopular'] = False\n",
    "dfCountry['statusId'] = 7\n",
    "dfCountry['canShowAds'] = False\n",
    "dfCountry['isActive'] = True\n",
    "dfCountry['type'] = 'Country'"
   ]
  },
  {
   "cell_type": "code",
   "execution_count": 56,
   "id": "1094cc2b",
   "metadata": {},
   "outputs": [],
   "source": [
    "dfCountry.rename(columns = {0:'name'}, inplace = True)\n",
    "dfCountry['slug'] = dfCountry['name'].apply(set_slug)"
   ]
  },
  {
   "cell_type": "code",
   "execution_count": null,
   "id": "d3d1aacd",
   "metadata": {},
   "outputs": [],
   "source": [
    "dfCountry['latitude'] = dfCountry['name'].apply(get_lat)\n",
    "dfCountry['longitude'] = dfCountry['name'].apply(get_lot)"
   ]
  },
  {
   "cell_type": "code",
   "execution_count": 57,
   "id": "e487c814",
   "metadata": {},
   "outputs": [],
   "source": [
    "def set_continent_id(value):\n",
    "    try:\n",
    "        return dfCon[:][dfCon['name'] == df[:][df['Country'] == str(value)]['Continent'].values[0]]['id'].values[0]\n",
    "    except:\n",
    "        return ''"
   ]
  },
  {
   "cell_type": "code",
   "execution_count": 58,
   "id": "7594f329",
   "metadata": {},
   "outputs": [],
   "source": [
    "def set_image_id_c(value):\n",
    "    try:\n",
    "        return image[:][image['name'] == str(value).lower()]['id'].values[0]\n",
    "    except:\n",
    "        return ''"
   ]
  },
  {
   "cell_type": "code",
   "execution_count": 59,
   "id": "91da81ca",
   "metadata": {},
   "outputs": [],
   "source": [
    "dfCountry['countryContinentId'] = dfCountry['name'].apply(set_continent_id)\n",
    "dfCountry['coverImageId'] = dfCountry['name'].apply(set_image_id_c)"
   ]
  },
  {
   "cell_type": "code",
   "execution_count": 60,
   "id": "cf89c6b0",
   "metadata": {},
   "outputs": [],
   "source": [
    "newDfR = pd.DataFrame(data = df['Region'].unique())"
   ]
  },
  {
   "cell_type": "code",
   "execution_count": 61,
   "id": "4702c842",
   "metadata": {},
   "outputs": [],
   "source": [
    "dfReg = pd.concat([newDfR, pd.DataFrame(columns = columns)])"
   ]
  },
  {
   "cell_type": "code",
   "execution_count": 62,
   "id": "123a81d4",
   "metadata": {},
   "outputs": [],
   "source": [
    "dfReg['id'] = dfReg.index + 50\n",
    "dfReg['order'] = ''\n",
    "dfReg['createdDate'] = dt_string\n",
    "dfReg['updatedDate'] = dt_string\n",
    "dfReg['internalNote'] = ''\n",
    "dfReg['isPopular'] = False\n",
    "dfReg['statusId'] = 7\n",
    "dfReg['canShowAds'] = False\n",
    "dfReg['isActive'] = True\n",
    "dfReg['type'] = 'Region'"
   ]
  },
  {
   "cell_type": "code",
   "execution_count": 63,
   "id": "91f5b910",
   "metadata": {},
   "outputs": [],
   "source": [
    "dfReg.rename(columns = {0:'name'}, inplace = True)\n",
    "dfReg['slug'] = dfReg['name'].apply(set_slug)"
   ]
  },
  {
   "cell_type": "code",
   "execution_count": null,
   "id": "54185461",
   "metadata": {},
   "outputs": [],
   "source": [
    "dfReg['latitude'] = dfReg['name'].apply(get_lat)\n",
    "dfReg['longitude'] = dfReg['name'].apply(get_lot)"
   ]
  },
  {
   "cell_type": "code",
   "execution_count": 64,
   "id": "b1c47703",
   "metadata": {},
   "outputs": [],
   "source": [
    "def set_continent_reg_id(value):\n",
    "    try:\n",
    "        return dfCon[:][dfCon['name'] == df[:][df['Region'] == str(value)]['Continent'].values[0]]['id'].values[0]\n",
    "    except:\n",
    "        return ''"
   ]
  },
  {
   "cell_type": "code",
   "execution_count": 65,
   "id": "ff6a7175",
   "metadata": {},
   "outputs": [],
   "source": [
    "def set_region_reg_id(value):\n",
    "    try:\n",
    "        return dfCountry[:][dfCountry['name'] == df[:][df['Region'] == str(value)]['Country'].values[0]]['id'].values[0]\n",
    "    except:\n",
    "        return ''"
   ]
  },
  {
   "cell_type": "code",
   "execution_count": 66,
   "id": "996ff69f",
   "metadata": {},
   "outputs": [],
   "source": [
    "dfReg['regionContinentId'] = dfReg['name'].apply(set_continent_reg_id)"
   ]
  },
  {
   "cell_type": "code",
   "execution_count": 67,
   "id": "1243b168",
   "metadata": {},
   "outputs": [],
   "source": [
    "dfReg['regionCountryId'] = dfReg['name'].apply(set_region_reg_id)"
   ]
  },
  {
   "cell_type": "code",
   "execution_count": 85,
   "id": "25f4594b",
   "metadata": {},
   "outputs": [],
   "source": [
    "def set_image_id(value):\n",
    "    try:\n",
    "        return image[:][image['name'] == str(value).rpartition(' ')[-1].lower()]['id'].values[0]\n",
    "    except:\n",
    "        print(str(value).rpartition(' ')[-1].lower())\n",
    "        return ''"
   ]
  },
  {
   "cell_type": "code",
   "execution_count": 95,
   "id": "673b5c74",
   "metadata": {},
   "outputs": [
    {
     "name": "stdout",
     "output_type": "stream",
     "text": [
      "-\n",
      "baños\n",
      "galápagos\n",
      "lópez\n",
      "medellín\n",
      "florianópolis\n",
      "santarém\n",
      "brasília\n",
      "río\n",
      "cancún\n",
      "potosí\n",
      "nan\n"
     ]
    }
   ],
   "source": [
    "dfReg['coverImageId'] = dfReg['name'].apply(set_image_id)"
   ]
  },
  {
   "cell_type": "code",
   "execution_count": 97,
   "id": "5d5c5a8a",
   "metadata": {},
   "outputs": [],
   "source": [
    "pd.set_option('display.max_rows', None)\n",
    "pd.set_option('display.max_columns', None)\n",
    "pd.set_option('display.width', None)"
   ]
  },
  {
   "cell_type": "code",
   "execution_count": 98,
   "id": "993de6ba",
   "metadata": {},
   "outputs": [],
   "source": [
    "newDf = pd.concat([dfCon, dfCountry, dfReg])"
   ]
  },
  {
   "cell_type": "code",
   "execution_count": 106,
   "id": "56f665ef",
   "metadata": {},
   "outputs": [],
   "source": [
    "newDf = newDf[:][(newDf['name'] != '') & (newDf['name'] != '-') & (newDf['name'].notnull())]"
   ]
  },
  {
   "cell_type": "code",
   "execution_count": 107,
   "id": "a34e62ca",
   "metadata": {},
   "outputs": [],
   "source": [
    "newDf['id'] = [i for i in range(1, newDf.shape[0] + 1)]"
   ]
  },
  {
   "cell_type": "code",
   "execution_count": 100,
   "id": "01b0c81c",
   "metadata": {},
   "outputs": [],
   "source": [
    "dfCountry['order'] = dfCountry.index + 1"
   ]
  },
  {
   "cell_type": "code",
   "execution_count": 101,
   "id": "6ab6ce68",
   "metadata": {},
   "outputs": [],
   "source": [
    "dfCountry.to_csv('out/countries.csv', index=False, encoding='utf-8')"
   ]
  },
  {
   "cell_type": "code",
   "execution_count": 108,
   "id": "9535a70c",
   "metadata": {},
   "outputs": [],
   "source": [
    "newDf.to_csv('out/localities.csv', index=False, encoding='utf-8')"
   ]
  },
  {
   "cell_type": "code",
   "execution_count": null,
   "id": "e9a53e29",
   "metadata": {},
   "outputs": [],
   "source": []
  }
 ],
 "metadata": {
  "kernelspec": {
   "display_name": "Python 3 (ipykernel)",
   "language": "python",
   "name": "python3"
  },
  "language_info": {
   "codemirror_mode": {
    "name": "ipython",
    "version": 3
   },
   "file_extension": ".py",
   "mimetype": "text/x-python",
   "name": "python",
   "nbconvert_exporter": "python",
   "pygments_lexer": "ipython3",
   "version": "3.9.7"
  }
 },
 "nbformat": 4,
 "nbformat_minor": 5
}
