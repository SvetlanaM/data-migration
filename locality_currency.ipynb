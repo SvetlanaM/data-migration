{
 "cells": [
  {
   "cell_type": "code",
   "execution_count": 10,
   "id": "0d2cc2a1",
   "metadata": {},
   "outputs": [],
   "source": [
    "import pandas as pd"
   ]
  },
  {
   "cell_type": "code",
   "execution_count": 14,
   "id": "9b76dc15",
   "metadata": {},
   "outputs": [],
   "source": [
    "df = pd.read_csv('csv/localities.csv', encoding='utf-8')\n",
    "curDf = pd.read_csv('out/currencies.csv', encoding='utf-8')\n",
    "locDf = pd.read_csv('out/localities.csv', encoding='utf-8', delimiter=';')"
   ]
  },
  {
   "cell_type": "code",
   "execution_count": 15,
   "id": "64d9db25",
   "metadata": {},
   "outputs": [
    {
     "data": {
      "text/html": [
       "<div>\n",
       "<style scoped>\n",
       "    .dataframe tbody tr th:only-of-type {\n",
       "        vertical-align: middle;\n",
       "    }\n",
       "\n",
       "    .dataframe tbody tr th {\n",
       "        vertical-align: top;\n",
       "    }\n",
       "\n",
       "    .dataframe thead th {\n",
       "        text-align: right;\n",
       "    }\n",
       "</style>\n",
       "<table border=\"1\" class=\"dataframe\">\n",
       "  <thead>\n",
       "    <tr style=\"text-align: right;\">\n",
       "      <th></th>\n",
       "      <th>ID</th>\n",
       "      <th>Continent</th>\n",
       "      <th>Country</th>\n",
       "      <th>Region</th>\n",
       "      <th>Photo name</th>\n",
       "      <th>Currency code</th>\n",
       "      <th>Currency name</th>\n",
       "      <th>IsThousand</th>\n",
       "    </tr>\n",
       "  </thead>\n",
       "  <tbody>\n",
       "    <tr>\n",
       "      <th>0</th>\n",
       "      <td>1_1</td>\n",
       "      <td>South-East Asia</td>\n",
       "      <td>Indonesia</td>\n",
       "      <td>Bali</td>\n",
       "      <td>1_1_Trynego_Indonesia_Bali</td>\n",
       "      <td>IDR</td>\n",
       "      <td>Indonesian rupiah</td>\n",
       "      <td>Y</td>\n",
       "    </tr>\n",
       "    <tr>\n",
       "      <th>1</th>\n",
       "      <td>1_2</td>\n",
       "      <td>South-East Asia</td>\n",
       "      <td>Indonesia</td>\n",
       "      <td>Lombok</td>\n",
       "      <td>1_2_Trynego_Indonesia_Lombok</td>\n",
       "      <td>IDR</td>\n",
       "      <td>Indonesian rupiah</td>\n",
       "      <td>Y</td>\n",
       "    </tr>\n",
       "    <tr>\n",
       "      <th>2</th>\n",
       "      <td>1_3</td>\n",
       "      <td>South-East Asia</td>\n",
       "      <td>Indonesia</td>\n",
       "      <td>Gili Islands</td>\n",
       "      <td>1_3_Trynego_Indonesia_Gili Islands</td>\n",
       "      <td>IDR</td>\n",
       "      <td>Indonesian rupiah</td>\n",
       "      <td>Y</td>\n",
       "    </tr>\n",
       "    <tr>\n",
       "      <th>3</th>\n",
       "      <td>1_4</td>\n",
       "      <td>South-East Asia</td>\n",
       "      <td>Indonesia</td>\n",
       "      <td>Sumatra</td>\n",
       "      <td>1_4_Trynego_Indonesia_Sumatra</td>\n",
       "      <td>IDR</td>\n",
       "      <td>Indonesian rupiah</td>\n",
       "      <td>Y</td>\n",
       "    </tr>\n",
       "    <tr>\n",
       "      <th>4</th>\n",
       "      <td>1_5</td>\n",
       "      <td>South-East Asia</td>\n",
       "      <td>Indonesia</td>\n",
       "      <td>Java</td>\n",
       "      <td>1_5_Trynego_Indonesia_Java</td>\n",
       "      <td>IDR</td>\n",
       "      <td>Indonesian rupiah</td>\n",
       "      <td>Y</td>\n",
       "    </tr>\n",
       "  </tbody>\n",
       "</table>\n",
       "</div>"
      ],
      "text/plain": [
       "    ID        Continent    Country        Region  \\\n",
       "0  1_1  South-East Asia  Indonesia          Bali   \n",
       "1  1_2  South-East Asia  Indonesia        Lombok   \n",
       "2  1_3  South-East Asia  Indonesia  Gili Islands   \n",
       "3  1_4  South-East Asia  Indonesia       Sumatra   \n",
       "4  1_5  South-East Asia  Indonesia          Java   \n",
       "\n",
       "                           Photo name Currency code      Currency name  \\\n",
       "0          1_1_Trynego_Indonesia_Bali           IDR  Indonesian rupiah   \n",
       "1        1_2_Trynego_Indonesia_Lombok           IDR  Indonesian rupiah   \n",
       "2  1_3_Trynego_Indonesia_Gili Islands           IDR  Indonesian rupiah   \n",
       "3       1_4_Trynego_Indonesia_Sumatra           IDR  Indonesian rupiah   \n",
       "4          1_5_Trynego_Indonesia_Java           IDR  Indonesian rupiah   \n",
       "\n",
       "  IsThousand  \n",
       "0          Y  \n",
       "1          Y  \n",
       "2          Y  \n",
       "3          Y  \n",
       "4          Y  "
      ]
     },
     "execution_count": 15,
     "metadata": {},
     "output_type": "execute_result"
    }
   ],
   "source": [
    "df.head()"
   ]
  },
  {
   "cell_type": "code",
   "execution_count": 48,
   "id": "0323edb5",
   "metadata": {},
   "outputs": [
    {
     "data": {
      "text/html": [
       "<div>\n",
       "<style scoped>\n",
       "    .dataframe tbody tr th:only-of-type {\n",
       "        vertical-align: middle;\n",
       "    }\n",
       "\n",
       "    .dataframe tbody tr th {\n",
       "        vertical-align: top;\n",
       "    }\n",
       "\n",
       "    .dataframe thead th {\n",
       "        text-align: right;\n",
       "    }\n",
       "</style>\n",
       "<table border=\"1\" class=\"dataframe\">\n",
       "  <thead>\n",
       "    <tr style=\"text-align: right;\">\n",
       "      <th></th>\n",
       "      <th>ID</th>\n",
       "      <th>Continent</th>\n",
       "      <th>Country</th>\n",
       "      <th>Region</th>\n",
       "      <th>Photo name</th>\n",
       "      <th>Currency code</th>\n",
       "      <th>Currency name</th>\n",
       "      <th>IsThousand</th>\n",
       "    </tr>\n",
       "  </thead>\n",
       "  <tbody>\n",
       "    <tr>\n",
       "      <th>0</th>\n",
       "      <td>1_1</td>\n",
       "      <td>South-East Asia</td>\n",
       "      <td>Indonesia</td>\n",
       "      <td>Bali</td>\n",
       "      <td>1_1_Trynego_Indonesia_Bali</td>\n",
       "      <td>IDR</td>\n",
       "      <td>Indonesian rupiah</td>\n",
       "      <td>Y</td>\n",
       "    </tr>\n",
       "    <tr>\n",
       "      <th>1</th>\n",
       "      <td>1_2</td>\n",
       "      <td>South-East Asia</td>\n",
       "      <td>Indonesia</td>\n",
       "      <td>Lombok</td>\n",
       "      <td>1_2_Trynego_Indonesia_Lombok</td>\n",
       "      <td>IDR</td>\n",
       "      <td>Indonesian rupiah</td>\n",
       "      <td>Y</td>\n",
       "    </tr>\n",
       "    <tr>\n",
       "      <th>2</th>\n",
       "      <td>1_3</td>\n",
       "      <td>South-East Asia</td>\n",
       "      <td>Indonesia</td>\n",
       "      <td>Gili Islands</td>\n",
       "      <td>1_3_Trynego_Indonesia_Gili Islands</td>\n",
       "      <td>IDR</td>\n",
       "      <td>Indonesian rupiah</td>\n",
       "      <td>Y</td>\n",
       "    </tr>\n",
       "    <tr>\n",
       "      <th>3</th>\n",
       "      <td>1_4</td>\n",
       "      <td>South-East Asia</td>\n",
       "      <td>Indonesia</td>\n",
       "      <td>Sumatra</td>\n",
       "      <td>1_4_Trynego_Indonesia_Sumatra</td>\n",
       "      <td>IDR</td>\n",
       "      <td>Indonesian rupiah</td>\n",
       "      <td>Y</td>\n",
       "    </tr>\n",
       "    <tr>\n",
       "      <th>4</th>\n",
       "      <td>1_5</td>\n",
       "      <td>South-East Asia</td>\n",
       "      <td>Indonesia</td>\n",
       "      <td>Java</td>\n",
       "      <td>1_5_Trynego_Indonesia_Java</td>\n",
       "      <td>IDR</td>\n",
       "      <td>Indonesian rupiah</td>\n",
       "      <td>Y</td>\n",
       "    </tr>\n",
       "  </tbody>\n",
       "</table>\n",
       "</div>"
      ],
      "text/plain": [
       "    ID        Continent    Country        Region  \\\n",
       "0  1_1  South-East Asia  Indonesia          Bali   \n",
       "1  1_2  South-East Asia  Indonesia        Lombok   \n",
       "2  1_3  South-East Asia  Indonesia  Gili Islands   \n",
       "3  1_4  South-East Asia  Indonesia       Sumatra   \n",
       "4  1_5  South-East Asia  Indonesia          Java   \n",
       "\n",
       "                           Photo name Currency code      Currency name  \\\n",
       "0          1_1_Trynego_Indonesia_Bali           IDR  Indonesian rupiah   \n",
       "1        1_2_Trynego_Indonesia_Lombok           IDR  Indonesian rupiah   \n",
       "2  1_3_Trynego_Indonesia_Gili Islands           IDR  Indonesian rupiah   \n",
       "3       1_4_Trynego_Indonesia_Sumatra           IDR  Indonesian rupiah   \n",
       "4          1_5_Trynego_Indonesia_Java           IDR  Indonesian rupiah   \n",
       "\n",
       "  IsThousand  \n",
       "0          Y  \n",
       "1          Y  \n",
       "2          Y  \n",
       "3          Y  \n",
       "4          Y  "
      ]
     },
     "execution_count": 48,
     "metadata": {},
     "output_type": "execute_result"
    }
   ],
   "source": [
    "df.head()"
   ]
  },
  {
   "cell_type": "code",
   "execution_count": 30,
   "id": "d394678d",
   "metadata": {},
   "outputs": [],
   "source": [
    "tempDf = pd.DataFrame(columns=['localityId', 'currencyId'])"
   ]
  },
  {
   "cell_type": "code",
   "execution_count": 32,
   "id": "6b54eb7a",
   "metadata": {},
   "outputs": [],
   "source": [
    "tempDf['localityId'] = locDf['id']"
   ]
  },
  {
   "cell_type": "code",
   "execution_count": 47,
   "id": "f340847b",
   "metadata": {},
   "outputs": [
    {
     "data": {
      "text/plain": [
       "'IDR'"
      ]
     },
     "execution_count": 47,
     "metadata": {},
     "output_type": "execute_result"
    }
   ],
   "source": [
    "df[:][(df['Continent'] == locDf[:][locDf['id'] == 1]['name'].values[0])  \n",
    "      | (df['Country'] == locDf[:][locDf['id'] == 1]['name'].values[0]) \n",
    "      | (df['Region'] == locDf[:][locDf['id'] == 1]['name'].values[0])]['Currency code'].values[0]"
   ]
  },
  {
   "cell_type": "code",
   "execution_count": 49,
   "id": "f99f1acb",
   "metadata": {},
   "outputs": [],
   "source": [
    "def get_currency_id(value):\n",
    "    return df[:][(df['Continent'] == locDf[:][locDf['id'] == value]['name'].values[0])  \n",
    "      | (df['Country'] == locDf[:][locDf['id'] == value]['name'].values[0]) \n",
    "      | (df['Region'] == locDf[:][locDf['id'] == value]['name'].values[0])]['Currency code'].values[0]"
   ]
  },
  {
   "cell_type": "code",
   "execution_count": 50,
   "id": "adaab9b4",
   "metadata": {},
   "outputs": [],
   "source": [
    "tempDf['currencyId'] = tempDf['localityId'].apply(get_currency_id)"
   ]
  },
  {
   "cell_type": "code",
   "execution_count": 52,
   "id": "4007b931",
   "metadata": {},
   "outputs": [],
   "source": [
    "tempDf.to_csv('out/locality_currencies.csv', index=False, encoding='utf-8')"
   ]
  }
 ],
 "metadata": {
  "kernelspec": {
   "display_name": "Python 3 (ipykernel)",
   "language": "python",
   "name": "python3"
  },
  "language_info": {
   "codemirror_mode": {
    "name": "ipython",
    "version": 3
   },
   "file_extension": ".py",
   "mimetype": "text/x-python",
   "name": "python",
   "nbconvert_exporter": "python",
   "pygments_lexer": "ipython3",
   "version": "3.9.7"
  }
 },
 "nbformat": 4,
 "nbformat_minor": 5
}
