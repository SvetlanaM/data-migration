{
 "cells": [
  {
   "cell_type": "code",
   "execution_count": 10,
   "id": "0d2cc2a1",
   "metadata": {},
   "outputs": [],
   "source": [
    "import pandas as pd"
   ]
  },
  {
   "cell_type": "code",
   "execution_count": 14,
   "id": "9b76dc15",
   "metadata": {},
   "outputs": [],
   "source": [
    "df = pd.read_csv('csv/localities.csv', encoding='utf-8')\n",
    "curDf = pd.read_csv('out/currencies.csv', encoding='utf-8')\n",
    "locDf = pd.read_csv('out/localities.csv', encoding='utf-8', delimiter=';')"
   ]
  },
  {
   "cell_type": "code",
   "execution_count": 30,
   "id": "d394678d",
   "metadata": {},
   "outputs": [],
   "source": [
    "tempDf = pd.DataFrame(columns=['localityId', 'currencyId'])"
   ]
  },
  {
   "cell_type": "code",
   "execution_count": 32,
   "id": "6b54eb7a",
   "metadata": {},
   "outputs": [],
   "source": [
    "tempDf['localityId'] = locDf['id']"
   ]
  },
  {
   "cell_type": "code",
   "execution_count": 49,
   "id": "f99f1acb",
   "metadata": {},
   "outputs": [],
   "source": [
    "def get_currency_id(value):\n",
    "    return df[:][(df['Continent'] == locDf[:][locDf['id'] == value]['name'].values[0])  \n",
    "      | (df['Country'] == locDf[:][locDf['id'] == value]['name'].values[0]) \n",
    "      | (df['Region'] == locDf[:][locDf['id'] == value]['name'].values[0])]['Currency code'].values[0]"
   ]
  },
  {
   "cell_type": "code",
   "execution_count": 50,
   "id": "adaab9b4",
   "metadata": {},
   "outputs": [],
   "source": [
    "tempDf['currencyId'] = tempDf['localityId'].apply(get_currency_id)"
   ]
  },
  {
   "cell_type": "code",
   "execution_count": 52,
   "id": "4007b931",
   "metadata": {},
   "outputs": [],
   "source": [
    "tempDf.to_csv('out/locality_currencies.csv', index=False, encoding='utf-8')"
   ]
  }
 ],
 "metadata": {
  "kernelspec": {
   "display_name": "Python 3 (ipykernel)",
   "language": "python",
   "name": "python3"
  },
  "language_info": {
   "codemirror_mode": {
    "name": "ipython",
    "version": 3
   },
   "file_extension": ".py",
   "mimetype": "text/x-python",
   "name": "python",
   "nbconvert_exporter": "python",
   "pygments_lexer": "ipython3",
   "version": "3.9.7"
  }
 },
 "nbformat": 4,
 "nbformat_minor": 5
}
