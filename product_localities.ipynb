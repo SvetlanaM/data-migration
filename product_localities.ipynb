{
 "cells": [
  {
   "cell_type": "code",
   "execution_count": 1,
   "id": "950e2455",
   "metadata": {},
   "outputs": [],
   "source": [
    "import pandas as pd"
   ]
  },
  {
   "cell_type": "code",
   "execution_count": 5,
   "id": "bb805999",
   "metadata": {},
   "outputs": [],
   "source": [
    "df = pd.read_csv('csv/products.csv', encoding='utf-8')\n",
    "locDf = pd.read_csv('out/localities.csv', encoding='utf-8', delimiter=';')\n",
    "prodDf = pd.read_csv('out/products.csv', encoding='utf-8')"
   ]
  },
  {
   "cell_type": "code",
   "execution_count": 7,
   "id": "7af960fd",
   "metadata": {},
   "outputs": [],
   "source": [
    "tempDf = pd.DataFrame(columns=['productId', 'localityId'])"
   ]
  },
  {
   "cell_type": "code",
   "execution_count": 8,
   "id": "5c0a9cf2",
   "metadata": {},
   "outputs": [],
   "source": [
    "tempDf['productId'] = prodDf['id']"
   ]
  },
  {
   "cell_type": "code",
   "execution_count": 30,
   "id": "f94ca829",
   "metadata": {},
   "outputs": [
    {
     "data": {
      "text/plain": [
       "6"
      ]
     },
     "execution_count": 30,
     "metadata": {},
     "output_type": "execute_result"
    }
   ],
   "source": [
    "prodDf[:][prodDf['id'] == 1]['name'].values[0]\n",
    "df[:][df['Name'] == prodDf[:][prodDf['id'] == 1]['name'].values[0]]['Country'].values[0]\n",
    "locDf[:][locDf['name'] == \\\n",
    "        df[:][df['Name'] == \n",
    "        prodDf[:][prodDf['id'] == 1]['name'].values[0]]['Country'].values[0]]['id'].values[0]"
   ]
  },
  {
   "cell_type": "code",
   "execution_count": 31,
   "id": "edd7831b",
   "metadata": {},
   "outputs": [],
   "source": [
    "def set_loc_id(value):\n",
    "    try:\n",
    "        return locDf[:][locDf['name'] == \\\n",
    "        df[:][df['Name'] == \n",
    "        prodDf[:][prodDf['id'] == int(value)]['name'].values[0]]['Country'].values[0]]['id'].values[0]\n",
    "    except:\n",
    "        return ''"
   ]
  },
  {
   "cell_type": "code",
   "execution_count": 34,
   "id": "8c6661c3",
   "metadata": {},
   "outputs": [],
   "source": [
    "tempDf['localityId'] = tempDf['productId'].apply(set_loc_id)"
   ]
  },
  {
   "cell_type": "code",
   "execution_count": 37,
   "id": "23785261",
   "metadata": {},
   "outputs": [],
   "source": [
    "tempDf = tempDf.drop_duplicates()"
   ]
  },
  {
   "cell_type": "code",
   "execution_count": 39,
   "id": "705690ab",
   "metadata": {},
   "outputs": [],
   "source": [
    "tempDf = tempDf[:][(tempDf['localityId'] != '') & (tempDf['productId'] != '')]"
   ]
  },
  {
   "cell_type": "code",
   "execution_count": 40,
   "id": "6bd8ea5f",
   "metadata": {},
   "outputs": [],
   "source": [
    "tempDf.to_csv('out/product_localities.csv', index=False, encoding='utf-8')"
   ]
  }
 ],
 "metadata": {
  "kernelspec": {
   "display_name": "Python 3 (ipykernel)",
   "language": "python",
   "name": "python3"
  },
  "language_info": {
   "codemirror_mode": {
    "name": "ipython",
    "version": 3
   },
   "file_extension": ".py",
   "mimetype": "text/x-python",
   "name": "python",
   "nbconvert_exporter": "python",
   "pygments_lexer": "ipython3",
   "version": "3.9.7"
  }
 },
 "nbformat": 4,
 "nbformat_minor": 5
}
