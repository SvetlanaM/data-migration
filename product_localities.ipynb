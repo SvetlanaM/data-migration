{
 "cells": [
  {
   "cell_type": "code",
   "execution_count": 157,
   "id": "950e2455",
   "metadata": {},
   "outputs": [],
   "source": [
    "import pandas as pd"
   ]
  },
  {
   "cell_type": "code",
   "execution_count": 158,
   "id": "bb805999",
   "metadata": {},
   "outputs": [],
   "source": [
    "df = pd.read_csv('csv/products.csv', encoding='utf-8')\n",
    "locDf = pd.read_csv('out/localities.csv', encoding='utf-8')\n",
    "prodDf = pd.read_csv('out/products.csv', encoding='utf-8')"
   ]
  },
  {
   "cell_type": "code",
   "execution_count": 159,
   "id": "7af960fd",
   "metadata": {},
   "outputs": [],
   "source": [
    "tempDf = pd.DataFrame(columns=['productId', 'localityId'])"
   ]
  },
  {
   "cell_type": "code",
   "execution_count": 160,
   "id": "5c0a9cf2",
   "metadata": {},
   "outputs": [],
   "source": [
    "tempDf['productId'] = prodDf['id']"
   ]
  },
  {
   "cell_type": "code",
   "execution_count": 161,
   "id": "7bc52004",
   "metadata": {},
   "outputs": [],
   "source": [
    "df1 = pd.DataFrame()\n",
    "df2 = pd.DataFrame()\n",
    "df3 = pd.DataFrame()"
   ]
  },
  {
   "cell_type": "code",
   "execution_count": 162,
   "id": "0f479638",
   "metadata": {},
   "outputs": [
    {
     "data": {
      "text/plain": [
       "6"
      ]
     },
     "execution_count": 162,
     "metadata": {},
     "output_type": "execute_result"
    }
   ],
   "source": [
    "locDf[:][locDf['name'] == df[:][df['ID'] == int(1)]['Country'].values[0]]['id'].values[0]"
   ]
  },
  {
   "cell_type": "code",
   "execution_count": 163,
   "id": "edd7831b",
   "metadata": {},
   "outputs": [],
   "source": [
    "def set_loc_id(value):\n",
    "    return locDf[:][locDf['name'] == df[:][df['ID'] == int(value)]['Country'].values[0]]['id'].values[0]"
   ]
  },
  {
   "cell_type": "code",
   "execution_count": 164,
   "id": "5be2e85d",
   "metadata": {},
   "outputs": [],
   "source": [
    "def set_loc_id1(value):\n",
    "    try:\n",
    "        return locDf[:][locDf['name'] == df[:][df['ID'] == int(value)]['Region 1'].values[0]]['id'].values[0]\n",
    "    except:\n",
    "        return ''"
   ]
  },
  {
   "cell_type": "code",
   "execution_count": 165,
   "id": "94b94931",
   "metadata": {},
   "outputs": [],
   "source": [
    "def set_loc_id2(value):\n",
    "    try:\n",
    "        return locDf[:][locDf['name'] == df[:][df['ID'] == int(value)]['Region 2'].values[0]]['id'].values[0]\n",
    "    except:\n",
    "        return ''"
   ]
  },
  {
   "cell_type": "code",
   "execution_count": 167,
   "id": "8c6661c3",
   "metadata": {},
   "outputs": [],
   "source": [
    "df1['productId'], df1['localityId'] = [tempDf['productId'], tempDf['productId'].apply(set_loc_id)]"
   ]
  },
  {
   "cell_type": "code",
   "execution_count": 168,
   "id": "a20aef6c",
   "metadata": {},
   "outputs": [],
   "source": [
    "df2['productId'], df2['localityId'] = [tempDf['productId'], tempDf['productId'].apply(set_loc_id1)]\n",
    "df3['productId'], df3['localityId'] = [tempDf['productId'], tempDf['productId'].apply(set_loc_id2)]"
   ]
  },
  {
   "cell_type": "code",
   "execution_count": 169,
   "id": "2a05ac29",
   "metadata": {},
   "outputs": [],
   "source": [
    "df1 = df1[:][df1['localityId'] != '']\n",
    "df2 = df2[:][df2['localityId'] != '']\n",
    "df3 = df3[:][df3['localityId'] != '']"
   ]
  },
  {
   "cell_type": "code",
   "execution_count": 170,
   "id": "c7346706",
   "metadata": {},
   "outputs": [],
   "source": [
    "df4 = newDf = pd.concat([df1, df2, df3])"
   ]
  },
  {
   "cell_type": "code",
   "execution_count": 171,
   "id": "82944397",
   "metadata": {},
   "outputs": [
    {
     "data": {
      "text/html": [
       "<div>\n",
       "<style scoped>\n",
       "    .dataframe tbody tr th:only-of-type {\n",
       "        vertical-align: middle;\n",
       "    }\n",
       "\n",
       "    .dataframe tbody tr th {\n",
       "        vertical-align: top;\n",
       "    }\n",
       "\n",
       "    .dataframe thead th {\n",
       "        text-align: right;\n",
       "    }\n",
       "</style>\n",
       "<table border=\"1\" class=\"dataframe\">\n",
       "  <thead>\n",
       "    <tr style=\"text-align: right;\">\n",
       "      <th></th>\n",
       "      <th>productId</th>\n",
       "      <th>localityId</th>\n",
       "    </tr>\n",
       "  </thead>\n",
       "  <tbody>\n",
       "    <tr>\n",
       "      <th>0</th>\n",
       "      <td>1</td>\n",
       "      <td>6</td>\n",
       "    </tr>\n",
       "    <tr>\n",
       "      <th>1</th>\n",
       "      <td>2</td>\n",
       "      <td>6</td>\n",
       "    </tr>\n",
       "    <tr>\n",
       "      <th>2</th>\n",
       "      <td>3</td>\n",
       "      <td>6</td>\n",
       "    </tr>\n",
       "    <tr>\n",
       "      <th>3</th>\n",
       "      <td>4</td>\n",
       "      <td>6</td>\n",
       "    </tr>\n",
       "    <tr>\n",
       "      <th>4</th>\n",
       "      <td>5</td>\n",
       "      <td>6</td>\n",
       "    </tr>\n",
       "    <tr>\n",
       "      <th>...</th>\n",
       "      <td>...</td>\n",
       "      <td>...</td>\n",
       "    </tr>\n",
       "    <tr>\n",
       "      <th>1480</th>\n",
       "      <td>1481</td>\n",
       "      <td>224</td>\n",
       "    </tr>\n",
       "    <tr>\n",
       "      <th>1488</th>\n",
       "      <td>1489</td>\n",
       "      <td>224</td>\n",
       "    </tr>\n",
       "    <tr>\n",
       "      <th>1491</th>\n",
       "      <td>1492</td>\n",
       "      <td>228</td>\n",
       "    </tr>\n",
       "    <tr>\n",
       "      <th>1525</th>\n",
       "      <td>1526</td>\n",
       "      <td>52</td>\n",
       "    </tr>\n",
       "    <tr>\n",
       "      <th>1536</th>\n",
       "      <td>1537</td>\n",
       "      <td>52</td>\n",
       "    </tr>\n",
       "  </tbody>\n",
       "</table>\n",
       "<p>3783 rows × 2 columns</p>\n",
       "</div>"
      ],
      "text/plain": [
       "      productId localityId\n",
       "0             1          6\n",
       "1             2          6\n",
       "2             3          6\n",
       "3             4          6\n",
       "4             5          6\n",
       "...         ...        ...\n",
       "1480       1481        224\n",
       "1488       1489        224\n",
       "1491       1492        228\n",
       "1525       1526         52\n",
       "1536       1537         52\n",
       "\n",
       "[3783 rows x 2 columns]"
      ]
     },
     "execution_count": 171,
     "metadata": {},
     "output_type": "execute_result"
    }
   ],
   "source": [
    "df4"
   ]
  },
  {
   "cell_type": "code",
   "execution_count": 172,
   "id": "705690ab",
   "metadata": {},
   "outputs": [],
   "source": [
    "df4 = df4[:][(df4['localityId'] != '') & (df4['productId'] != '')]"
   ]
  },
  {
   "cell_type": "code",
   "execution_count": 173,
   "id": "7f5e70da",
   "metadata": {},
   "outputs": [
    {
     "data": {
      "text/plain": [
       "(3783, 2)"
      ]
     },
     "execution_count": 173,
     "metadata": {},
     "output_type": "execute_result"
    }
   ],
   "source": [
    "df4.shape"
   ]
  },
  {
   "cell_type": "code",
   "execution_count": 174,
   "id": "6bd8ea5f",
   "metadata": {},
   "outputs": [],
   "source": [
    "df4.to_csv('out/product_localities.csv', index=False, encoding='utf-8')"
   ]
  },
  {
   "cell_type": "code",
   "execution_count": null,
   "id": "5171982e",
   "metadata": {},
   "outputs": [],
   "source": []
  }
 ],
 "metadata": {
  "kernelspec": {
   "display_name": "Python 3 (ipykernel)",
   "language": "python",
   "name": "python3"
  },
  "language_info": {
   "codemirror_mode": {
    "name": "ipython",
    "version": 3
   },
   "file_extension": ".py",
   "mimetype": "text/x-python",
   "name": "python",
   "nbconvert_exporter": "python",
   "pygments_lexer": "ipython3",
   "version": "3.9.7"
  }
 },
 "nbformat": 4,
 "nbformat_minor": 5
}
